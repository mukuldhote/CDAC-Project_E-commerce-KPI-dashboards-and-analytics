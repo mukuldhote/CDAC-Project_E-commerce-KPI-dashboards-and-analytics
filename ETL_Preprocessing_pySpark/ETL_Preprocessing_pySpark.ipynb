{
 "cells": [
  {
   "cell_type": "code",
   "execution_count": 1,
   "id": "24bc5dd4",
   "metadata": {},
   "outputs": [],
   "source": [
    "# Intialization\n",
    "import os\n",
    "import sys\n",
    "\n",
    "os.environ[\"SPARK_HOME\"] = \"/home/talentum/spark\"\n",
    "os.environ[\"PYLIB\"] = os.environ[\"SPARK_HOME\"] + \"/python/lib\"\n",
    "# In below two lines, use /usr/bin/python2.7 if you want to use Python 2\n",
    "os.environ[\"PYSPARK_PYTHON\"] = \"/usr/bin/python3.6\" \n",
    "os.environ[\"PYSPARK_DRIVER_PYTHON\"] = \"/usr/bin/python3\"\n",
    "sys.path.insert(0, os.environ[\"PYLIB\"] +\"/py4j-0.10.7-src.zip\")\n",
    "sys.path.insert(0, os.environ[\"PYLIB\"] +\"/pyspark.zip\")\n",
    "\n",
    "# NOTE: Whichever package you want mention here.\n",
    "# os.environ['PYSPARK_SUBMIT_ARGS'] = '--packages com.databricks:spark-xml_2.11:0.6.0 pyspark-shell' \n",
    "# os.environ['PYSPARK_SUBMIT_ARGS'] = '--packages org.apache.spark:spark-avro_2.11:2.4.0 pyspark-shell'\n",
    "os.environ['PYSPARK_SUBMIT_ARGS'] = '--packages com.databricks:spark-xml_2.11:0.6.0,org.apache.spark:spark-avro_2.11:2.4.3 pyspark-shell'\n",
    "# os.environ['PYSPARK_SUBMIT_ARGS'] = '--packages com.databricks:spark-xml_2.11:0.6.0,org.apache.spark:spark-avro_2.11:2.4.0 pyspark-shell'"
   ]
  },
  {
   "cell_type": "code",
   "execution_count": 2,
   "id": "6cc69a92",
   "metadata": {},
   "outputs": [],
   "source": [
    "#Entrypoint 2.x\n",
    "from pyspark.sql import SparkSession\n",
    "spark = SparkSession.builder.appName(\"Spark SQL basic example\").enableHiveSupport().getOrCreate()\n",
    "\n",
    "# On yarn:\n",
    "# spark = SparkSession.builder.appName(\"Spark SQL basic example\").enableHiveSupport().master(\"yarn\").getOrCreate()\n",
    "# specify .master(\"yarn\")\n",
    "\n",
    "sc = spark.sparkContext"
   ]
  },
  {
   "cell_type": "code",
   "execution_count": 3,
   "id": "4b6d38bb",
   "metadata": {},
   "outputs": [],
   "source": [
    "from pyspark.sql import functions as F"
   ]
  },
  {
   "cell_type": "markdown",
   "id": "c4bbfe68",
   "metadata": {},
   "source": [
    "# Reading raw csv files from hdfs"
   ]
  },
  {
   "cell_type": "code",
   "execution_count": 4,
   "id": "5b342b0f",
   "metadata": {},
   "outputs": [],
   "source": [
    "dir_path = 'hdfs:///user/talentum/olist_dataset/'\n",
    "customers_df = spark.read.csv(dir_path+'olist_customers_dataset.csv',inferSchema=True,header=True)\n",
    "order_items_df = spark.read.csv(dir_path+'olist_order_items_dataset.csv',inferSchema=True,header=True)\n",
    "order_payments_df = spark.read.csv(dir_path+'olist_order_payments_dataset.csv',inferSchema=True,header=True)\n",
    "order_reviews = spark.read.csv(dir_path+'olist_order_reviews_dataset.csv',inferSchema=True,header=True)\n",
    "orders_df = spark.read.csv(dir_path+'olist_orders_dataset.csv',inferSchema=True,header=True)\n",
    "products_df = spark.read.csv(dir_path+'olist_products_dataset.csv',inferSchema=True,header=True)\n",
    "sellers_df = spark.read.csv(dir_path+'olist_sellers_dataset.csv',inferSchema=True,header=True)\n",
    "product_category_name_translation_df = spark.read.csv(dir_path+'product_category_name_translation.csv',inferSchema=True,header=True)"
   ]
  },
  {
   "cell_type": "markdown",
   "id": "55ab7d26",
   "metadata": {},
   "source": [
    "# Data Exploration and Wrangling"
   ]
  },
  {
   "cell_type": "code",
   "execution_count": 5,
   "id": "e73e54de",
   "metadata": {},
   "outputs": [],
   "source": [
    "# defining method for counting nulls in each column\n",
    "def count_nulls(df):\n",
    "    null_counts = []\n",
    "    for col in df.columns:\n",
    "        null_counts.append((col, df.filter(df[col].isNull()).count()))\n",
    "    return spark.createDataFrame(null_counts,[\"column\",\"null_count\"])"
   ]
  },
  {
   "cell_type": "code",
   "execution_count": 6,
   "id": "aff78d55",
   "metadata": {},
   "outputs": [
    {
     "name": "stdout",
     "output_type": "stream",
     "text": [
      "+--------------------+----------+\n",
      "|              column|null_count|\n",
      "+--------------------+----------+\n",
      "|         customer_id|         0|\n",
      "|  customer_unique_id|         0|\n",
      "|customer_zip_code...|         0|\n",
      "|       customer_city|         0|\n",
      "|      customer_state|         0|\n",
      "+--------------------+----------+\n",
      "\n"
     ]
    }
   ],
   "source": [
    "#checking nulls in customers_df \n",
    "count_nulls(customers_df).show()"
   ]
  },
  {
   "cell_type": "code",
   "execution_count": 7,
   "id": "3d5f6ac0",
   "metadata": {},
   "outputs": [
    {
     "data": {
      "text/plain": [
       "[('customer_id', 'string'),\n",
       " ('customer_unique_id', 'string'),\n",
       " ('customer_zip_code_prefix', 'int'),\n",
       " ('customer_city', 'string'),\n",
       " ('customer_state', 'string')]"
      ]
     },
     "execution_count": 7,
     "metadata": {},
     "output_type": "execute_result"
    }
   ],
   "source": [
    "customers_df.dtypes"
   ]
  },
  {
   "cell_type": "code",
   "execution_count": 8,
   "id": "106c305f",
   "metadata": {},
   "outputs": [
    {
     "data": {
      "text/plain": [
       "[('order_id', 'string'),\n",
       " ('customer_id', 'string'),\n",
       " ('order_status', 'string'),\n",
       " ('order_purchase_timestamp', 'timestamp'),\n",
       " ('order_approved_at', 'timestamp'),\n",
       " ('order_delivered_carrier_date', 'timestamp'),\n",
       " ('order_delivered_customer_date', 'timestamp'),\n",
       " ('order_estimated_delivery_date', 'timestamp')]"
      ]
     },
     "execution_count": 8,
     "metadata": {},
     "output_type": "execute_result"
    }
   ],
   "source": [
    "orders_df.dtypes"
   ]
  },
  {
   "cell_type": "code",
   "execution_count": 9,
   "id": "0649ae9a",
   "metadata": {},
   "outputs": [
    {
     "name": "stdout",
     "output_type": "stream",
     "text": [
      "+--------------------+----------+\n",
      "|              column|null_count|\n",
      "+--------------------+----------+\n",
      "|            order_id|         0|\n",
      "|         customer_id|         0|\n",
      "|        order_status|         0|\n",
      "|order_purchase_ti...|         0|\n",
      "|   order_approved_at|       160|\n",
      "|order_delivered_c...|      1783|\n",
      "|order_delivered_c...|      2965|\n",
      "|order_estimated_d...|         0|\n",
      "+--------------------+----------+\n",
      "\n"
     ]
    }
   ],
   "source": [
    "#checking nulls in orders_df \n",
    "count_nulls(orders_df).show()"
   ]
  },
  {
   "cell_type": "code",
   "execution_count": 10,
   "id": "b59b6c1a",
   "metadata": {},
   "outputs": [],
   "source": [
    "#Filtering out records where order is not delivered\n",
    "orders_df=orders_df[orders_df['order_status']=='delivered']"
   ]
  },
  {
   "cell_type": "code",
   "execution_count": 11,
   "id": "dc5479d9",
   "metadata": {},
   "outputs": [
    {
     "name": "stdout",
     "output_type": "stream",
     "text": [
      "+--------------------+----------+\n",
      "|              column|null_count|\n",
      "+--------------------+----------+\n",
      "|            order_id|         0|\n",
      "|         customer_id|         0|\n",
      "|        order_status|         0|\n",
      "|order_purchase_ti...|         0|\n",
      "|   order_approved_at|        14|\n",
      "|order_delivered_c...|         2|\n",
      "|order_delivered_c...|         8|\n",
      "|order_estimated_d...|         0|\n",
      "+--------------------+----------+\n",
      "\n"
     ]
    }
   ],
   "source": [
    "count_nulls(orders_df).show()"
   ]
  },
  {
   "cell_type": "code",
   "execution_count": 12,
   "id": "da77c804",
   "metadata": {},
   "outputs": [],
   "source": [
    "#filling null values of order_approved_at column with order_purchase_timestamp\n",
    "orders_df = orders_df.withColumn('order_delivered_customer_date',\n",
    "                                 F.coalesce(F.col('order_delivered_customer_date'),\n",
    "                                            F.col('order_estimated_delivery_date')))"
   ]
  },
  {
   "cell_type": "code",
   "execution_count": 13,
   "id": "e0cb3203",
   "metadata": {},
   "outputs": [
    {
     "name": "stdout",
     "output_type": "stream",
     "text": [
      "+--------------------+----------+\n",
      "|              column|null_count|\n",
      "+--------------------+----------+\n",
      "|            order_id|         0|\n",
      "|         customer_id|         0|\n",
      "|        order_status|         0|\n",
      "|order_purchase_ti...|         0|\n",
      "|   order_approved_at|        14|\n",
      "|order_delivered_c...|         2|\n",
      "|order_delivered_c...|         0|\n",
      "|order_estimated_d...|         0|\n",
      "+--------------------+----------+\n",
      "\n"
     ]
    }
   ],
   "source": [
    "count_nulls(orders_df).show()"
   ]
  },
  {
   "cell_type": "code",
   "execution_count": 14,
   "id": "8233aae3",
   "metadata": {},
   "outputs": [],
   "source": [
    "#droping order_delivered_carrier_date column as it is not relevant also its missing values couldn't be replaced \n",
    "orders_df = orders_df.drop('order_delivered_carrier_date')\n",
    "orders_df = orders_df.drop('order_approved_at')"
   ]
  },
  {
   "cell_type": "code",
   "execution_count": 15,
   "id": "e32fa6ec",
   "metadata": {},
   "outputs": [
    {
     "name": "stdout",
     "output_type": "stream",
     "text": [
      "+--------------------+----------+\n",
      "|              column|null_count|\n",
      "+--------------------+----------+\n",
      "|            order_id|         0|\n",
      "|         customer_id|         0|\n",
      "|        order_status|         0|\n",
      "|order_purchase_ti...|         0|\n",
      "|order_delivered_c...|         0|\n",
      "|order_estimated_d...|         0|\n",
      "+--------------------+----------+\n",
      "\n"
     ]
    }
   ],
   "source": [
    "count_nulls(orders_df).show()"
   ]
  },
  {
   "cell_type": "code",
   "execution_count": 16,
   "id": "4dc9f418",
   "metadata": {},
   "outputs": [
    {
     "name": "stdout",
     "output_type": "stream",
     "text": [
      "+--------------------+----------+\n",
      "|              column|null_count|\n",
      "+--------------------+----------+\n",
      "|          product_id|         0|\n",
      "|product_category_...|       610|\n",
      "| product_name_lenght|       610|\n",
      "|product_descripti...|       610|\n",
      "|  product_photos_qty|       610|\n",
      "|    product_weight_g|         2|\n",
      "|   product_length_cm|         2|\n",
      "|   product_height_cm|         2|\n",
      "|    product_width_cm|         2|\n",
      "+--------------------+----------+\n",
      "\n"
     ]
    }
   ],
   "source": [
    "count_nulls(products_df).show()"
   ]
  },
  {
   "cell_type": "code",
   "execution_count": 17,
   "id": "befd2b08",
   "metadata": {},
   "outputs": [
    {
     "data": {
      "text/plain": [
       "[('product_id', 'string'),\n",
       " ('product_category_name', 'string'),\n",
       " ('product_name_lenght', 'int'),\n",
       " ('product_description_lenght', 'int'),\n",
       " ('product_photos_qty', 'int'),\n",
       " ('product_weight_g', 'int'),\n",
       " ('product_length_cm', 'int'),\n",
       " ('product_height_cm', 'int'),\n",
       " ('product_width_cm', 'int')]"
      ]
     },
     "execution_count": 17,
     "metadata": {},
     "output_type": "execute_result"
    }
   ],
   "source": [
    "products_df.dtypes"
   ]
  },
  {
   "cell_type": "code",
   "execution_count": 18,
   "id": "341241ad",
   "metadata": {},
   "outputs": [],
   "source": [
    "#Filling \"unknown\" as category for records where product category is not specified\n",
    "products_df = products_df.fillna(\"unknown\",subset='product_category_name')"
   ]
  },
  {
   "cell_type": "code",
   "execution_count": 19,
   "id": "cd7d65de",
   "metadata": {},
   "outputs": [
    {
     "name": "stdout",
     "output_type": "stream",
     "text": [
      "+--------------------+----------+\n",
      "|              column|null_count|\n",
      "+--------------------+----------+\n",
      "|          product_id|         0|\n",
      "|product_category_...|         0|\n",
      "| product_name_lenght|       610|\n",
      "|product_descripti...|       610|\n",
      "|  product_photos_qty|       610|\n",
      "|    product_weight_g|         2|\n",
      "|   product_length_cm|         2|\n",
      "|   product_height_cm|         2|\n",
      "|    product_width_cm|         2|\n",
      "+--------------------+----------+\n",
      "\n"
     ]
    }
   ],
   "source": [
    "count_nulls(products_df).show()"
   ]
  },
  {
   "cell_type": "code",
   "execution_count": 20,
   "id": "72a2f27a",
   "metadata": {},
   "outputs": [],
   "source": [
    "# Dropping irrelevant columns\n",
    "products_df = products_df.drop('product_name_lenght')\n",
    "products_df = products_df.drop('product_description_lenght')\n",
    "products_df = products_df.drop('product_photos_qty')\n",
    "products_df = products_df.drop('product_weight_g')\n",
    "products_df = products_df.drop('product_length_cm')\n",
    "products_df = products_df.drop('product_height_cm')\n",
    "products_df = products_df.drop('product_width_cm')"
   ]
  },
  {
   "cell_type": "code",
   "execution_count": 21,
   "id": "1f25e9b1",
   "metadata": {},
   "outputs": [
    {
     "data": {
      "text/plain": [
       "['product_id', 'product_category_name']"
      ]
     },
     "execution_count": 21,
     "metadata": {},
     "output_type": "execute_result"
    }
   ],
   "source": [
    "products_df.columns"
   ]
  },
  {
   "cell_type": "code",
   "execution_count": 22,
   "id": "d3dfff45",
   "metadata": {},
   "outputs": [
    {
     "name": "stdout",
     "output_type": "stream",
     "text": [
      "+--------------------+----------+\n",
      "|              column|null_count|\n",
      "+--------------------+----------+\n",
      "|          product_id|         0|\n",
      "|product_category_...|         0|\n",
      "+--------------------+----------+\n",
      "\n"
     ]
    }
   ],
   "source": [
    "count_nulls(products_df).show()"
   ]
  },
  {
   "cell_type": "code",
   "execution_count": 23,
   "id": "be8de1fc",
   "metadata": {},
   "outputs": [
    {
     "data": {
      "text/plain": [
       "[('order_id', 'string'),\n",
       " ('payment_sequential', 'int'),\n",
       " ('payment_type', 'string'),\n",
       " ('payment_installments', 'int'),\n",
       " ('payment_value', 'double')]"
      ]
     },
     "execution_count": 23,
     "metadata": {},
     "output_type": "execute_result"
    }
   ],
   "source": [
    "order_payments_df.dtypes"
   ]
  },
  {
   "cell_type": "code",
   "execution_count": 24,
   "id": "b35e1aec",
   "metadata": {},
   "outputs": [
    {
     "name": "stdout",
     "output_type": "stream",
     "text": [
      "+--------------------+----------+\n",
      "|              column|null_count|\n",
      "+--------------------+----------+\n",
      "|            order_id|         0|\n",
      "|  payment_sequential|         0|\n",
      "|        payment_type|         0|\n",
      "|payment_installments|         0|\n",
      "|       payment_value|         0|\n",
      "+--------------------+----------+\n",
      "\n"
     ]
    }
   ],
   "source": [
    "count_nulls(order_payments_df).show()"
   ]
  },
  {
   "cell_type": "code",
   "execution_count": 25,
   "id": "21612b4a",
   "metadata": {},
   "outputs": [
    {
     "data": {
      "text/plain": [
       "[('order_id', 'string'),\n",
       " ('order_item_id', 'int'),\n",
       " ('product_id', 'string'),\n",
       " ('seller_id', 'string'),\n",
       " ('shipping_limit_date', 'timestamp'),\n",
       " ('price', 'double'),\n",
       " ('freight_value', 'double')]"
      ]
     },
     "execution_count": 25,
     "metadata": {},
     "output_type": "execute_result"
    }
   ],
   "source": [
    "order_items_df.dtypes"
   ]
  },
  {
   "cell_type": "code",
   "execution_count": 26,
   "id": "8b25924d",
   "metadata": {},
   "outputs": [
    {
     "name": "stdout",
     "output_type": "stream",
     "text": [
      "+-------------------+----------+\n",
      "|             column|null_count|\n",
      "+-------------------+----------+\n",
      "|           order_id|         0|\n",
      "|      order_item_id|         0|\n",
      "|         product_id|         0|\n",
      "|          seller_id|         0|\n",
      "|shipping_limit_date|         0|\n",
      "|              price|         0|\n",
      "|      freight_value|         0|\n",
      "+-------------------+----------+\n",
      "\n"
     ]
    }
   ],
   "source": [
    "count_nulls(order_items_df).show()"
   ]
  },
  {
   "cell_type": "code",
   "execution_count": 27,
   "id": "f02973cd",
   "metadata": {},
   "outputs": [
    {
     "data": {
      "text/plain": [
       "[('review_id', 'string'),\n",
       " ('order_id', 'string'),\n",
       " ('review_score', 'string'),\n",
       " ('review_comment_title', 'string'),\n",
       " ('review_comment_message', 'string'),\n",
       " ('review_creation_date', 'string'),\n",
       " ('review_answer_timestamp', 'string')]"
      ]
     },
     "execution_count": 27,
     "metadata": {},
     "output_type": "execute_result"
    }
   ],
   "source": [
    "order_reviews.dtypes"
   ]
  },
  {
   "cell_type": "code",
   "execution_count": 28,
   "id": "b00f8175",
   "metadata": {},
   "outputs": [
    {
     "name": "stdout",
     "output_type": "stream",
     "text": [
      "+--------------------+----------+\n",
      "|              column|null_count|\n",
      "+--------------------+----------+\n",
      "|           review_id|         1|\n",
      "|            order_id|      2236|\n",
      "|        review_score|      2380|\n",
      "|review_comment_title|     92157|\n",
      "|review_comment_me...|     63079|\n",
      "|review_creation_date|      8764|\n",
      "|review_answer_tim...|      8785|\n",
      "+--------------------+----------+\n",
      "\n"
     ]
    }
   ],
   "source": [
    "count_nulls(order_reviews).show()"
   ]
  },
  {
   "cell_type": "code",
   "execution_count": 29,
   "id": "3fc28f45",
   "metadata": {},
   "outputs": [],
   "source": [
    "# Dropping rown containing nulls in columns ('order_id','review_id','review_score','review_creation_date','review_answer_timestamp')\n",
    "order_reviews = order_reviews.dropna(how='any',subset=['order_id','review_id','review_score','review_creation_date',\n",
    "                                                       'review_answer_timestamp'])"
   ]
  },
  {
   "cell_type": "code",
   "execution_count": 30,
   "id": "6dd07bf0",
   "metadata": {},
   "outputs": [
    {
     "name": "stdout",
     "output_type": "stream",
     "text": [
      "+--------------------+----------+\n",
      "|              column|null_count|\n",
      "+--------------------+----------+\n",
      "|           review_id|         0|\n",
      "|            order_id|         0|\n",
      "|        review_score|         0|\n",
      "|review_comment_title|     84730|\n",
      "|review_comment_me...|     58247|\n",
      "|review_creation_date|         0|\n",
      "|review_answer_tim...|         0|\n",
      "+--------------------+----------+\n",
      "\n"
     ]
    }
   ],
   "source": [
    "count_nulls(order_reviews).show()"
   ]
  },
  {
   "cell_type": "code",
   "execution_count": 31,
   "id": "a763a931",
   "metadata": {},
   "outputs": [],
   "source": [
    "#Dropping irrelevant columns\n",
    "order_reviews = order_reviews.drop('review_comment_title')\n",
    "order_reviews = order_reviews.drop('review_comment_message')"
   ]
  },
  {
   "cell_type": "code",
   "execution_count": 32,
   "id": "46d7e13a",
   "metadata": {},
   "outputs": [
    {
     "name": "stdout",
     "output_type": "stream",
     "text": [
      "+--------------------+----------+\n",
      "|              column|null_count|\n",
      "+--------------------+----------+\n",
      "|           review_id|         0|\n",
      "|            order_id|         0|\n",
      "|        review_score|         0|\n",
      "|review_creation_date|         0|\n",
      "|review_answer_tim...|         0|\n",
      "+--------------------+----------+\n",
      "\n"
     ]
    }
   ],
   "source": [
    "count_nulls(order_reviews).show()"
   ]
  },
  {
   "cell_type": "code",
   "execution_count": 33,
   "id": "d51aaed3",
   "metadata": {},
   "outputs": [
    {
     "data": {
      "text/plain": [
       "[('seller_id', 'string'),\n",
       " ('seller_zip_code_prefix', 'int'),\n",
       " ('seller_city', 'string'),\n",
       " ('seller_state', 'string')]"
      ]
     },
     "execution_count": 33,
     "metadata": {},
     "output_type": "execute_result"
    }
   ],
   "source": [
    "sellers_df.dtypes"
   ]
  },
  {
   "cell_type": "code",
   "execution_count": 34,
   "id": "6019691c",
   "metadata": {},
   "outputs": [],
   "source": [
    "#Dropping irrelevant columns\n",
    "sellers_df = sellers_df.drop('seller_zip_code_prefix')"
   ]
  },
  {
   "cell_type": "code",
   "execution_count": 35,
   "id": "f57f713c",
   "metadata": {},
   "outputs": [
    {
     "name": "stdout",
     "output_type": "stream",
     "text": [
      "+------------+----------+\n",
      "|      column|null_count|\n",
      "+------------+----------+\n",
      "|   seller_id|         0|\n",
      "| seller_city|         0|\n",
      "|seller_state|         0|\n",
      "+------------+----------+\n",
      "\n"
     ]
    }
   ],
   "source": [
    "count_nulls(sellers_df).show()"
   ]
  },
  {
   "cell_type": "code",
   "execution_count": 36,
   "id": "db89ce94",
   "metadata": {},
   "outputs": [
    {
     "data": {
      "text/plain": [
       "[('product_category_name', 'string'),\n",
       " ('product_category_name_english', 'string')]"
      ]
     },
     "execution_count": 36,
     "metadata": {},
     "output_type": "execute_result"
    }
   ],
   "source": [
    "product_category_name_translation_df.dtypes"
   ]
  },
  {
   "cell_type": "code",
   "execution_count": 37,
   "id": "a0168a76",
   "metadata": {},
   "outputs": [
    {
     "name": "stdout",
     "output_type": "stream",
     "text": [
      "+--------------------+----------+\n",
      "|              column|null_count|\n",
      "+--------------------+----------+\n",
      "|product_category_...|         0|\n",
      "|product_category_...|         0|\n",
      "+--------------------+----------+\n",
      "\n"
     ]
    }
   ],
   "source": [
    "count_nulls(product_category_name_translation_df).show()"
   ]
  },
  {
   "cell_type": "code",
   "execution_count": 38,
   "id": "cb9f0133",
   "metadata": {},
   "outputs": [],
   "source": [
    "#Joining all datasets into a single dataset (post-processing)\n",
    "joined_df = orders_df.join(order_items_df,on='order_id',how='inner')\\\n",
    ".join(order_payments_df,on='order_id',how='inner')\\\n",
    ".join(customers_df,on='customer_id',how='inner')\\\n",
    ".join(order_reviews,on='order_id',how='inner')\\\n",
    ".join(products_df,on='product_id',how='inner')\\\n",
    ".join(sellers_df,on='seller_id',how='inner')\\\n",
    ".join(product_category_name_translation_df,on='product_category_name',how='inner')\n"
   ]
  },
  {
   "cell_type": "code",
   "execution_count": 39,
   "id": "e989f91d",
   "metadata": {},
   "outputs": [
    {
     "data": {
      "text/plain": [
       "['product_category_name',\n",
       " 'seller_id',\n",
       " 'product_id',\n",
       " 'order_id',\n",
       " 'customer_id',\n",
       " 'order_status',\n",
       " 'order_purchase_timestamp',\n",
       " 'order_delivered_customer_date',\n",
       " 'order_estimated_delivery_date',\n",
       " 'order_item_id',\n",
       " 'shipping_limit_date',\n",
       " 'price',\n",
       " 'freight_value',\n",
       " 'payment_sequential',\n",
       " 'payment_type',\n",
       " 'payment_installments',\n",
       " 'payment_value',\n",
       " 'customer_unique_id',\n",
       " 'customer_zip_code_prefix',\n",
       " 'customer_city',\n",
       " 'customer_state',\n",
       " 'review_id',\n",
       " 'review_score',\n",
       " 'review_creation_date',\n",
       " 'review_answer_timestamp',\n",
       " 'seller_city',\n",
       " 'seller_state',\n",
       " 'product_category_name_english']"
      ]
     },
     "execution_count": 39,
     "metadata": {},
     "output_type": "execute_result"
    }
   ],
   "source": [
    "joined_df.columns"
   ]
  },
  {
   "cell_type": "code",
   "execution_count": 40,
   "id": "e7ec8100",
   "metadata": {},
   "outputs": [],
   "source": [
    "# Saving the processed and joined data on HDFS as a CSV file\n",
    "joined_df.write.csv(\"hdfs:///user/talentum/processed_combined_data.csv\")"
   ]
  },
  {
   "cell_type": "code",
   "execution_count": 41,
   "id": "5aa05c0c",
   "metadata": {},
   "outputs": [],
   "source": [
    "# Saving processed data to hive table using PartitionBy by 'customer_state'\n",
    "joined_df.write.format(\"orc\").mode(\"overwrite\").partitionBy('customer_state')\\\n",
    ".option(\"path\", \"hdfs:///user/hive/warehouse/\")\\\n",
    ".saveAsTable(\"ecomm.olist_data_table\")"
   ]
  },
  {
   "cell_type": "code",
   "execution_count": null,
   "id": "4b1105d5",
   "metadata": {},
   "outputs": [],
   "source": []
  }
 ],
 "metadata": {
  "kernelspec": {
   "display_name": "Python 3 (ipykernel)",
   "language": "python",
   "name": "python3"
  },
  "language_info": {
   "codemirror_mode": {
    "name": "ipython",
    "version": 3
   },
   "file_extension": ".py",
   "mimetype": "text/x-python",
   "name": "python",
   "nbconvert_exporter": "python",
   "pygments_lexer": "ipython3",
   "version": "3.11.5"
  }
 },
 "nbformat": 4,
 "nbformat_minor": 5
}
