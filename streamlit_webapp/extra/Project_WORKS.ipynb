{
 "cells": [
  {
   "cell_type": "code",
   "execution_count": 1,
   "id": "f08924d1-eea6-4dac-9ea1-6229f20e2c86",
   "metadata": {
    "tags": []
   },
   "outputs": [],
   "source": [
    "import pandas as pd"
   ]
  },
  {
   "cell_type": "code",
   "execution_count": 3,
   "id": "7534333f-b99e-4740-9354-1866ac9633c6",
   "metadata": {
    "tags": []
   },
   "outputs": [],
   "source": [
    "raw_path=''"
   ]
  },
  {
   "cell_type": "code",
   "execution_count": 4,
   "id": "37911418-60a1-41fc-98fe-6782f677e5ac",
   "metadata": {
    "tags": []
   },
   "outputs": [],
   "source": [
    "olist_customer = pd.read_csv(raw_path + 'olist_customers_dataset.csv')\n",
    "olist_geolocation = pd.read_csv(raw_path + 'olist_geolocation_dataset.csv')\n",
    "olist_orders = pd.read_csv(raw_path + 'olist_orders_dataset.csv')\n",
    "olist_order_items = pd.read_csv(raw_path + 'olist_order_items_dataset.csv')\n",
    "olist_order_payments = pd.read_csv(raw_path + 'olist_order_payments_dataset.csv')\n",
    "olist_order_reviews = pd.read_csv(raw_path + 'olist_order_reviews_dataset.csv')\n",
    "olist_products = pd.read_csv(raw_path + 'olist_products_dataset.csv')\n",
    "olist_sellers = pd.read_csv(raw_path + 'olist_sellers_dataset.csv')\n",
    "olist_categname = pd.read_csv(raw_path + 'product_category_name_translation.csv')\n"
   ]
  },
  {
   "cell_type": "code",
   "execution_count": null,
   "id": "603f7207-94a0-498d-a75f-489e936cf072",
   "metadata": {},
   "outputs": [],
   "source": []
  },
  {
   "cell_type": "code",
   "execution_count": 45,
   "id": "574264e7-0d8a-4144-9c91-bfb8b297b34b",
   "metadata": {
    "tags": []
   },
   "outputs": [
    {
     "data": {
      "text/plain": [
       "Index(['product_category_name', 'product_category_name_english'], dtype='object')"
      ]
     },
     "execution_count": 45,
     "metadata": {},
     "output_type": "execute_result"
    }
   ],
   "source": [
    "olist_categname.columns"
   ]
  },
  {
   "cell_type": "code",
   "execution_count": 46,
   "id": "b34e4fca-a31d-4d8f-8b5e-e65808205d1e",
   "metadata": {
    "tags": []
   },
   "outputs": [
    {
     "data": {
      "text/plain": [
       "Index(['geolocation_zip_code_prefix', 'geolocation_lat', 'geolocation_lng',\n",
       "       'geolocation_city', 'geolocation_state'],\n",
       "      dtype='object')"
      ]
     },
     "execution_count": 46,
     "metadata": {},
     "output_type": "execute_result"
    }
   ],
   "source": [
    "olist_geolocation.columns"
   ]
  },
  {
   "cell_type": "code",
   "execution_count": null,
   "id": "09c0312f-abb1-4b42-b491-d8ce4d2d55a4",
   "metadata": {},
   "outputs": [],
   "source": []
  },
  {
   "cell_type": "code",
   "execution_count": 5,
   "id": "a80ef960-6955-4a3b-ac63-539e5493e883",
   "metadata": {
    "tags": []
   },
   "outputs": [],
   "source": [
    "data = olist_orders.merge(olist_customer, on=\"customer_id\") \\\n",
    ".merge(olist_order_items, on=\"order_id\") \\\n",
    ".merge(olist_products , on=\"product_id\") \\\n",
    ".merge(olist_categname, on=\"product_category_name\") \\\n",
    ".merge(olist_order_payments, on=\"order_id\") \\\n",
    ".merge(olist_sellers, on=\"seller_id\") \\\n",
    ".merge(olist_order_reviews, on=\"order_id\")"
   ]
  },
  {
   "cell_type": "code",
   "execution_count": 6,
   "id": "e4644aba-7088-47e5-b7c6-71a6deca31b5",
   "metadata": {
    "tags": []
   },
   "outputs": [
    {
     "name": "stdout",
     "output_type": "stream",
     "text": [
      "<class 'pandas.core.frame.DataFrame'>\n",
      "Int64Index: 115609 entries, 0 to 115608\n",
      "Data columns (total 40 columns):\n",
      " #   Column                         Non-Null Count   Dtype  \n",
      "---  ------                         --------------   -----  \n",
      " 0   order_id                       115609 non-null  object \n",
      " 1   customer_id                    115609 non-null  object \n",
      " 2   order_status                   115609 non-null  object \n",
      " 3   order_purchase_timestamp       115609 non-null  object \n",
      " 4   order_approved_at              115595 non-null  object \n",
      " 5   order_delivered_carrier_date   114414 non-null  object \n",
      " 6   order_delivered_customer_date  113209 non-null  object \n",
      " 7   order_estimated_delivery_date  115609 non-null  object \n",
      " 8   customer_unique_id             115609 non-null  object \n",
      " 9   customer_zip_code_prefix       115609 non-null  int64  \n",
      " 10  customer_city                  115609 non-null  object \n",
      " 11  customer_state                 115609 non-null  object \n",
      " 12  order_item_id                  115609 non-null  int64  \n",
      " 13  product_id                     115609 non-null  object \n",
      " 14  seller_id                      115609 non-null  object \n",
      " 15  shipping_limit_date            115609 non-null  object \n",
      " 16  price                          115609 non-null  float64\n",
      " 17  freight_value                  115609 non-null  float64\n",
      " 18  product_category_name          115609 non-null  object \n",
      " 19  product_name_lenght            115609 non-null  float64\n",
      " 20  product_description_lenght     115609 non-null  float64\n",
      " 21  product_photos_qty             115609 non-null  float64\n",
      " 22  product_weight_g               115608 non-null  float64\n",
      " 23  product_length_cm              115608 non-null  float64\n",
      " 24  product_height_cm              115608 non-null  float64\n",
      " 25  product_width_cm               115608 non-null  float64\n",
      " 26  product_category_name_english  115609 non-null  object \n",
      " 27  payment_sequential             115609 non-null  int64  \n",
      " 28  payment_type                   115609 non-null  object \n",
      " 29  payment_installments           115609 non-null  int64  \n",
      " 30  payment_value                  115609 non-null  float64\n",
      " 31  seller_zip_code_prefix         115609 non-null  int64  \n",
      " 32  seller_city                    115609 non-null  object \n",
      " 33  seller_state                   115609 non-null  object \n",
      " 34  review_id                      115609 non-null  object \n",
      " 35  review_score                   115609 non-null  int64  \n",
      " 36  review_comment_title           13801 non-null   object \n",
      " 37  review_comment_message         48906 non-null   object \n",
      " 38  review_creation_date           115609 non-null  object \n",
      " 39  review_answer_timestamp        115609 non-null  object \n",
      "dtypes: float64(10), int64(6), object(24)\n",
      "memory usage: 36.2+ MB\n"
     ]
    }
   ],
   "source": [
    "data.info()"
   ]
  },
  {
   "cell_type": "code",
   "execution_count": 11,
   "id": "ab477122-0b00-4f36-bee8-511b8ed031f7",
   "metadata": {
    "tags": []
   },
   "outputs": [
    {
     "name": "stdout",
     "output_type": "stream",
     "text": [
      "<class 'pandas.core.frame.DataFrame'>\n",
      "RangeIndex: 5 entries, 0 to 4\n",
      "Data columns (total 38 columns):\n",
      " #   Column                         Non-Null Count  Dtype  \n",
      "---  ------                         --------------  -----  \n",
      " 0   Unnamed: 0                     5 non-null      int64  \n",
      " 1   order_id                       5 non-null      object \n",
      " 2   customer_id                    5 non-null      object \n",
      " 3   order_status                   5 non-null      object \n",
      " 4   order_purchase_timestamp       5 non-null      object \n",
      " 5   order_approved_at              5 non-null      object \n",
      " 6   order_delivered_carrier_date   5 non-null      object \n",
      " 7   order_delivered_customer_date  5 non-null      object \n",
      " 8   order_estimated_delivery_date  5 non-null      object \n",
      " 9   customer_unique_id             5 non-null      object \n",
      " 10  customer_zip_code_prefix       5 non-null      int64  \n",
      " 11  customer_city                  5 non-null      object \n",
      " 12  customer_state                 5 non-null      object \n",
      " 13  order_item_id                  5 non-null      int64  \n",
      " 14  product_id                     5 non-null      object \n",
      " 15  seller_id                      5 non-null      object \n",
      " 16  shipping_limit_date            5 non-null      object \n",
      " 17  price                          5 non-null      float64\n",
      " 18  freight_value                  5 non-null      float64\n",
      " 19  product_name_lenght            5 non-null      float64\n",
      " 20  product_description_lenght     5 non-null      float64\n",
      " 21  product_photos_qty             5 non-null      float64\n",
      " 22  product_weight_g               5 non-null      float64\n",
      " 23  product_length_cm              5 non-null      float64\n",
      " 24  product_height_cm              5 non-null      float64\n",
      " 25  product_width_cm               5 non-null      float64\n",
      " 26  product_category_name_english  5 non-null      object \n",
      " 27  payment_sequential             5 non-null      int64  \n",
      " 28  payment_type                   5 non-null      object \n",
      " 29  payment_installments           5 non-null      int64  \n",
      " 30  payment_value                  5 non-null      float64\n",
      " 31  seller_zip_code_prefix         5 non-null      int64  \n",
      " 32  seller_city                    5 non-null      object \n",
      " 33  seller_state                   5 non-null      object \n",
      " 34  review_id                      5 non-null      object \n",
      " 35  review_score                   5 non-null      int64  \n",
      " 36  review_creation_date           5 non-null      object \n",
      " 37  review_answer_timestamp        5 non-null      object \n",
      "dtypes: float64(10), int64(7), object(21)\n",
      "memory usage: 1.6+ KB\n"
     ]
    }
   ],
   "source": [
    "pd.read_csv('joined_data_set.csv',nrows=5).info()"
   ]
  },
  {
   "cell_type": "code",
   "execution_count": 7,
   "id": "29b65552-b9e8-4b73-8b9a-64170d44781a",
   "metadata": {},
   "outputs": [
    {
     "data": {
      "text/plain": [
       "array(['SP', 'SC', 'AM', 'MG', 'RJ', 'PR', 'RS', 'CE', 'BA', 'ES', 'DF',\n",
       "       'GO', 'PE', 'RO', 'MS', 'PA', 'PB', 'AP', 'SE', 'AL', 'PI', 'MA',\n",
       "       'MT', 'RR', 'TO', 'AC', 'RN'], dtype=object)"
      ]
     },
     "execution_count": 7,
     "metadata": {},
     "output_type": "execute_result"
    }
   ],
   "source": [
    "data.customer_state.unique()"
   ]
  },
  {
   "cell_type": "code",
   "execution_count": 9,
   "id": "a7d6046e-e080-46bc-adc2-861788a2d349",
   "metadata": {
    "tags": []
   },
   "outputs": [
    {
     "data": {
      "text/plain": [
       "array(['SP', 'SC', 'MG', 'PR', 'RS', 'RN', 'RJ', 'ES', 'DF', 'PB', 'GO',\n",
       "       'PE', 'CE', 'RO', 'BA', 'MT', 'MS', 'PI', 'SE', 'AM', 'MA', 'PA',\n",
       "       'AC'], dtype=object)"
      ]
     },
     "execution_count": 9,
     "metadata": {},
     "output_type": "execute_result"
    }
   ],
   "source": [
    "data.seller_state.unique()"
   ]
  },
  {
   "cell_type": "code",
   "execution_count": 9,
   "id": "ba52d326-826d-4bd8-929a-8d95f28ddf60",
   "metadata": {
    "tags": []
   },
   "outputs": [
    {
     "data": {
      "text/html": [
       "<div>\n",
       "<style scoped>\n",
       "    .dataframe tbody tr th:only-of-type {\n",
       "        vertical-align: middle;\n",
       "    }\n",
       "\n",
       "    .dataframe tbody tr th {\n",
       "        vertical-align: top;\n",
       "    }\n",
       "\n",
       "    .dataframe thead th {\n",
       "        text-align: right;\n",
       "    }\n",
       "</style>\n",
       "<table border=\"1\" class=\"dataframe\">\n",
       "  <thead>\n",
       "    <tr style=\"text-align: right;\">\n",
       "      <th></th>\n",
       "      <th>order_id</th>\n",
       "      <th>customer_id</th>\n",
       "      <th>order_status</th>\n",
       "      <th>order_purchase_timestamp</th>\n",
       "      <th>order_approved_at</th>\n",
       "      <th>order_delivered_carrier_date</th>\n",
       "      <th>order_delivered_customer_date</th>\n",
       "      <th>order_estimated_delivery_date</th>\n",
       "      <th>customer_unique_id</th>\n",
       "      <th>customer_zip_code_prefix</th>\n",
       "      <th>...</th>\n",
       "      <th>payment_value</th>\n",
       "      <th>seller_zip_code_prefix</th>\n",
       "      <th>seller_city</th>\n",
       "      <th>seller_state</th>\n",
       "      <th>review_id</th>\n",
       "      <th>review_score</th>\n",
       "      <th>review_comment_title</th>\n",
       "      <th>review_comment_message</th>\n",
       "      <th>review_creation_date</th>\n",
       "      <th>review_answer_timestamp</th>\n",
       "    </tr>\n",
       "  </thead>\n",
       "  <tbody>\n",
       "    <tr>\n",
       "      <th>0</th>\n",
       "      <td>e481f51cbdc54678b7cc49136f2d6af7</td>\n",
       "      <td>9ef432eb6251297304e76186b10a928d</td>\n",
       "      <td>delivered</td>\n",
       "      <td>2017-10-02 10:56:33</td>\n",
       "      <td>2017-10-02 11:07:15</td>\n",
       "      <td>2017-10-04 19:55:00</td>\n",
       "      <td>2017-10-10 21:25:13</td>\n",
       "      <td>2017-10-18 00:00:00</td>\n",
       "      <td>7c396fd4830fd04220f754e42b4e5bff</td>\n",
       "      <td>3149</td>\n",
       "      <td>...</td>\n",
       "      <td>18.12</td>\n",
       "      <td>9350</td>\n",
       "      <td>maua</td>\n",
       "      <td>SP</td>\n",
       "      <td>a54f0611adc9ed256b57ede6b6eb5114</td>\n",
       "      <td>4</td>\n",
       "      <td>NaN</td>\n",
       "      <td>Não testei o produto ainda, mas ele veio corre...</td>\n",
       "      <td>2017-10-11 00:00:00</td>\n",
       "      <td>2017-10-12 03:43:48</td>\n",
       "    </tr>\n",
       "    <tr>\n",
       "      <th>1</th>\n",
       "      <td>e481f51cbdc54678b7cc49136f2d6af7</td>\n",
       "      <td>9ef432eb6251297304e76186b10a928d</td>\n",
       "      <td>delivered</td>\n",
       "      <td>2017-10-02 10:56:33</td>\n",
       "      <td>2017-10-02 11:07:15</td>\n",
       "      <td>2017-10-04 19:55:00</td>\n",
       "      <td>2017-10-10 21:25:13</td>\n",
       "      <td>2017-10-18 00:00:00</td>\n",
       "      <td>7c396fd4830fd04220f754e42b4e5bff</td>\n",
       "      <td>3149</td>\n",
       "      <td>...</td>\n",
       "      <td>2.00</td>\n",
       "      <td>9350</td>\n",
       "      <td>maua</td>\n",
       "      <td>SP</td>\n",
       "      <td>a54f0611adc9ed256b57ede6b6eb5114</td>\n",
       "      <td>4</td>\n",
       "      <td>NaN</td>\n",
       "      <td>Não testei o produto ainda, mas ele veio corre...</td>\n",
       "      <td>2017-10-11 00:00:00</td>\n",
       "      <td>2017-10-12 03:43:48</td>\n",
       "    </tr>\n",
       "    <tr>\n",
       "      <th>2</th>\n",
       "      <td>e481f51cbdc54678b7cc49136f2d6af7</td>\n",
       "      <td>9ef432eb6251297304e76186b10a928d</td>\n",
       "      <td>delivered</td>\n",
       "      <td>2017-10-02 10:56:33</td>\n",
       "      <td>2017-10-02 11:07:15</td>\n",
       "      <td>2017-10-04 19:55:00</td>\n",
       "      <td>2017-10-10 21:25:13</td>\n",
       "      <td>2017-10-18 00:00:00</td>\n",
       "      <td>7c396fd4830fd04220f754e42b4e5bff</td>\n",
       "      <td>3149</td>\n",
       "      <td>...</td>\n",
       "      <td>18.59</td>\n",
       "      <td>9350</td>\n",
       "      <td>maua</td>\n",
       "      <td>SP</td>\n",
       "      <td>a54f0611adc9ed256b57ede6b6eb5114</td>\n",
       "      <td>4</td>\n",
       "      <td>NaN</td>\n",
       "      <td>Não testei o produto ainda, mas ele veio corre...</td>\n",
       "      <td>2017-10-11 00:00:00</td>\n",
       "      <td>2017-10-12 03:43:48</td>\n",
       "    </tr>\n",
       "    <tr>\n",
       "      <th>3</th>\n",
       "      <td>128e10d95713541c87cd1a2e48201934</td>\n",
       "      <td>a20e8105f23924cd00833fd87daa0831</td>\n",
       "      <td>delivered</td>\n",
       "      <td>2017-08-15 18:29:31</td>\n",
       "      <td>2017-08-15 20:05:16</td>\n",
       "      <td>2017-08-17 15:28:33</td>\n",
       "      <td>2017-08-18 14:44:43</td>\n",
       "      <td>2017-08-28 00:00:00</td>\n",
       "      <td>3a51803cc0d012c3b5dc8b7528cb05f7</td>\n",
       "      <td>3366</td>\n",
       "      <td>...</td>\n",
       "      <td>37.77</td>\n",
       "      <td>9350</td>\n",
       "      <td>maua</td>\n",
       "      <td>SP</td>\n",
       "      <td>b46f1e34512b0f4c74a72398b03ca788</td>\n",
       "      <td>4</td>\n",
       "      <td>NaN</td>\n",
       "      <td>Deveriam embalar melhor o produto. A caixa vei...</td>\n",
       "      <td>2017-08-19 00:00:00</td>\n",
       "      <td>2017-08-20 15:16:36</td>\n",
       "    </tr>\n",
       "    <tr>\n",
       "      <th>4</th>\n",
       "      <td>0e7e841ddf8f8f2de2bad69267ecfbcf</td>\n",
       "      <td>26c7ac168e1433912a51b924fbd34d34</td>\n",
       "      <td>delivered</td>\n",
       "      <td>2017-08-02 18:24:47</td>\n",
       "      <td>2017-08-02 18:43:15</td>\n",
       "      <td>2017-08-04 17:35:43</td>\n",
       "      <td>2017-08-07 18:30:01</td>\n",
       "      <td>2017-08-15 00:00:00</td>\n",
       "      <td>ef0996a1a279c26e7ecbd737be23d235</td>\n",
       "      <td>2290</td>\n",
       "      <td>...</td>\n",
       "      <td>37.77</td>\n",
       "      <td>9350</td>\n",
       "      <td>maua</td>\n",
       "      <td>SP</td>\n",
       "      <td>dc90f19c2806f1abba9e72ad3c350073</td>\n",
       "      <td>5</td>\n",
       "      <td>NaN</td>\n",
       "      <td>Só achei ela pequena pra seis xícaras ,mais é ...</td>\n",
       "      <td>2017-08-08 00:00:00</td>\n",
       "      <td>2017-08-08 23:26:23</td>\n",
       "    </tr>\n",
       "    <tr>\n",
       "      <th>5</th>\n",
       "      <td>bfc39df4f36c3693ff3b63fcbea9e90a</td>\n",
       "      <td>53904ddbea91e1e92b2b3f1d09a7af86</td>\n",
       "      <td>delivered</td>\n",
       "      <td>2017-10-23 23:26:46</td>\n",
       "      <td>2017-10-25 02:14:11</td>\n",
       "      <td>2017-10-27 16:48:46</td>\n",
       "      <td>2017-11-07 18:04:59</td>\n",
       "      <td>2017-11-13 00:00:00</td>\n",
       "      <td>e781fdcc107d13d865fc7698711cc572</td>\n",
       "      <td>88032</td>\n",
       "      <td>...</td>\n",
       "      <td>44.09</td>\n",
       "      <td>9350</td>\n",
       "      <td>maua</td>\n",
       "      <td>SP</td>\n",
       "      <td>1bafb430e498b939f258b9c9dbdff9b1</td>\n",
       "      <td>3</td>\n",
       "      <td>NaN</td>\n",
       "      <td>NaN</td>\n",
       "      <td>2017-11-08 00:00:00</td>\n",
       "      <td>2017-11-10 19:52:38</td>\n",
       "    </tr>\n",
       "    <tr>\n",
       "      <th>6</th>\n",
       "      <td>5f49f31e537f8f1a496454b48edbe34d</td>\n",
       "      <td>a7260a6ccba78544ccfaf43f920b7240</td>\n",
       "      <td>delivered</td>\n",
       "      <td>2017-08-24 11:31:28</td>\n",
       "      <td>2017-08-24 11:45:25</td>\n",
       "      <td>2017-08-25 14:17:55</td>\n",
       "      <td>2017-08-28 20:12:20</td>\n",
       "      <td>2017-09-14 00:00:00</td>\n",
       "      <td>7a1de9bde89aedca8c5fbad489c5571c</td>\n",
       "      <td>1315</td>\n",
       "      <td>...</td>\n",
       "      <td>127.45</td>\n",
       "      <td>9350</td>\n",
       "      <td>maua</td>\n",
       "      <td>SP</td>\n",
       "      <td>8899ca945efd951c97107b4966289227</td>\n",
       "      <td>1</td>\n",
       "      <td>NaN</td>\n",
       "      <td>Prezados que porcaria de atendimento ao client...</td>\n",
       "      <td>2017-08-29 00:00:00</td>\n",
       "      <td>2017-08-30 02:26:02</td>\n",
       "    </tr>\n",
       "    <tr>\n",
       "      <th>7</th>\n",
       "      <td>5f49f31e537f8f1a496454b48edbe34d</td>\n",
       "      <td>a7260a6ccba78544ccfaf43f920b7240</td>\n",
       "      <td>delivered</td>\n",
       "      <td>2017-08-24 11:31:28</td>\n",
       "      <td>2017-08-24 11:45:25</td>\n",
       "      <td>2017-08-25 14:17:55</td>\n",
       "      <td>2017-08-28 20:12:20</td>\n",
       "      <td>2017-09-14 00:00:00</td>\n",
       "      <td>7a1de9bde89aedca8c5fbad489c5571c</td>\n",
       "      <td>1315</td>\n",
       "      <td>...</td>\n",
       "      <td>127.45</td>\n",
       "      <td>14021</td>\n",
       "      <td>ribeirao preto</td>\n",
       "      <td>SP</td>\n",
       "      <td>8899ca945efd951c97107b4966289227</td>\n",
       "      <td>1</td>\n",
       "      <td>NaN</td>\n",
       "      <td>Prezados que porcaria de atendimento ao client...</td>\n",
       "      <td>2017-08-29 00:00:00</td>\n",
       "      <td>2017-08-30 02:26:02</td>\n",
       "    </tr>\n",
       "    <tr>\n",
       "      <th>8</th>\n",
       "      <td>1fa40f202d5d233b6491e976c557b822</td>\n",
       "      <td>50fd5707c28d0a64dc20d67f937dd9ba</td>\n",
       "      <td>delivered</td>\n",
       "      <td>2017-09-23 22:11:10</td>\n",
       "      <td>2017-09-23 22:25:11</td>\n",
       "      <td>2017-09-26 17:27:54</td>\n",
       "      <td>2017-10-19 21:09:21</td>\n",
       "      <td>2017-11-13 00:00:00</td>\n",
       "      <td>35c6ec4630637b3ec0da6e587f245f83</td>\n",
       "      <td>69043</td>\n",
       "      <td>...</td>\n",
       "      <td>50.05</td>\n",
       "      <td>9350</td>\n",
       "      <td>maua</td>\n",
       "      <td>SP</td>\n",
       "      <td>4b70092fc12f2328972d5ff1022d87e9</td>\n",
       "      <td>4</td>\n",
       "      <td>NaN</td>\n",
       "      <td>NaN</td>\n",
       "      <td>2017-10-20 00:00:00</td>\n",
       "      <td>2017-10-23 04:13:41</td>\n",
       "    </tr>\n",
       "    <tr>\n",
       "      <th>9</th>\n",
       "      <td>41c045db2d1876be9f05cf4a787693b2</td>\n",
       "      <td>a286f46d6e54cc0179bbb0ee07b0df5e</td>\n",
       "      <td>delivered</td>\n",
       "      <td>2017-08-16 14:06:30</td>\n",
       "      <td>2017-08-16 14:55:20</td>\n",
       "      <td>2017-08-18 15:41:40</td>\n",
       "      <td>2017-08-21 15:05:13</td>\n",
       "      <td>2017-08-29 00:00:00</td>\n",
       "      <td>4e4fa2b85379e9db6dc59f873f0a9748</td>\n",
       "      <td>5640</td>\n",
       "      <td>...</td>\n",
       "      <td>32.68</td>\n",
       "      <td>9350</td>\n",
       "      <td>maua</td>\n",
       "      <td>SP</td>\n",
       "      <td>b9e086024ceb0234e5950016497a4928</td>\n",
       "      <td>5</td>\n",
       "      <td>NaN</td>\n",
       "      <td>NaN</td>\n",
       "      <td>2017-08-22 00:00:00</td>\n",
       "      <td>2017-08-26 02:31:53</td>\n",
       "    </tr>\n",
       "  </tbody>\n",
       "</table>\n",
       "<p>10 rows × 40 columns</p>\n",
       "</div>"
      ],
      "text/plain": [
       "                           order_id                       customer_id  \\\n",
       "0  e481f51cbdc54678b7cc49136f2d6af7  9ef432eb6251297304e76186b10a928d   \n",
       "1  e481f51cbdc54678b7cc49136f2d6af7  9ef432eb6251297304e76186b10a928d   \n",
       "2  e481f51cbdc54678b7cc49136f2d6af7  9ef432eb6251297304e76186b10a928d   \n",
       "3  128e10d95713541c87cd1a2e48201934  a20e8105f23924cd00833fd87daa0831   \n",
       "4  0e7e841ddf8f8f2de2bad69267ecfbcf  26c7ac168e1433912a51b924fbd34d34   \n",
       "5  bfc39df4f36c3693ff3b63fcbea9e90a  53904ddbea91e1e92b2b3f1d09a7af86   \n",
       "6  5f49f31e537f8f1a496454b48edbe34d  a7260a6ccba78544ccfaf43f920b7240   \n",
       "7  5f49f31e537f8f1a496454b48edbe34d  a7260a6ccba78544ccfaf43f920b7240   \n",
       "8  1fa40f202d5d233b6491e976c557b822  50fd5707c28d0a64dc20d67f937dd9ba   \n",
       "9  41c045db2d1876be9f05cf4a787693b2  a286f46d6e54cc0179bbb0ee07b0df5e   \n",
       "\n",
       "  order_status order_purchase_timestamp    order_approved_at  \\\n",
       "0    delivered      2017-10-02 10:56:33  2017-10-02 11:07:15   \n",
       "1    delivered      2017-10-02 10:56:33  2017-10-02 11:07:15   \n",
       "2    delivered      2017-10-02 10:56:33  2017-10-02 11:07:15   \n",
       "3    delivered      2017-08-15 18:29:31  2017-08-15 20:05:16   \n",
       "4    delivered      2017-08-02 18:24:47  2017-08-02 18:43:15   \n",
       "5    delivered      2017-10-23 23:26:46  2017-10-25 02:14:11   \n",
       "6    delivered      2017-08-24 11:31:28  2017-08-24 11:45:25   \n",
       "7    delivered      2017-08-24 11:31:28  2017-08-24 11:45:25   \n",
       "8    delivered      2017-09-23 22:11:10  2017-09-23 22:25:11   \n",
       "9    delivered      2017-08-16 14:06:30  2017-08-16 14:55:20   \n",
       "\n",
       "  order_delivered_carrier_date order_delivered_customer_date  \\\n",
       "0          2017-10-04 19:55:00           2017-10-10 21:25:13   \n",
       "1          2017-10-04 19:55:00           2017-10-10 21:25:13   \n",
       "2          2017-10-04 19:55:00           2017-10-10 21:25:13   \n",
       "3          2017-08-17 15:28:33           2017-08-18 14:44:43   \n",
       "4          2017-08-04 17:35:43           2017-08-07 18:30:01   \n",
       "5          2017-10-27 16:48:46           2017-11-07 18:04:59   \n",
       "6          2017-08-25 14:17:55           2017-08-28 20:12:20   \n",
       "7          2017-08-25 14:17:55           2017-08-28 20:12:20   \n",
       "8          2017-09-26 17:27:54           2017-10-19 21:09:21   \n",
       "9          2017-08-18 15:41:40           2017-08-21 15:05:13   \n",
       "\n",
       "  order_estimated_delivery_date                customer_unique_id  \\\n",
       "0           2017-10-18 00:00:00  7c396fd4830fd04220f754e42b4e5bff   \n",
       "1           2017-10-18 00:00:00  7c396fd4830fd04220f754e42b4e5bff   \n",
       "2           2017-10-18 00:00:00  7c396fd4830fd04220f754e42b4e5bff   \n",
       "3           2017-08-28 00:00:00  3a51803cc0d012c3b5dc8b7528cb05f7   \n",
       "4           2017-08-15 00:00:00  ef0996a1a279c26e7ecbd737be23d235   \n",
       "5           2017-11-13 00:00:00  e781fdcc107d13d865fc7698711cc572   \n",
       "6           2017-09-14 00:00:00  7a1de9bde89aedca8c5fbad489c5571c   \n",
       "7           2017-09-14 00:00:00  7a1de9bde89aedca8c5fbad489c5571c   \n",
       "8           2017-11-13 00:00:00  35c6ec4630637b3ec0da6e587f245f83   \n",
       "9           2017-08-29 00:00:00  4e4fa2b85379e9db6dc59f873f0a9748   \n",
       "\n",
       "   customer_zip_code_prefix  ... payment_value seller_zip_code_prefix  \\\n",
       "0                      3149  ...         18.12                   9350   \n",
       "1                      3149  ...          2.00                   9350   \n",
       "2                      3149  ...         18.59                   9350   \n",
       "3                      3366  ...         37.77                   9350   \n",
       "4                      2290  ...         37.77                   9350   \n",
       "5                     88032  ...         44.09                   9350   \n",
       "6                      1315  ...        127.45                   9350   \n",
       "7                      1315  ...        127.45                  14021   \n",
       "8                     69043  ...         50.05                   9350   \n",
       "9                      5640  ...         32.68                   9350   \n",
       "\n",
       "      seller_city seller_state                         review_id review_score  \\\n",
       "0            maua           SP  a54f0611adc9ed256b57ede6b6eb5114            4   \n",
       "1            maua           SP  a54f0611adc9ed256b57ede6b6eb5114            4   \n",
       "2            maua           SP  a54f0611adc9ed256b57ede6b6eb5114            4   \n",
       "3            maua           SP  b46f1e34512b0f4c74a72398b03ca788            4   \n",
       "4            maua           SP  dc90f19c2806f1abba9e72ad3c350073            5   \n",
       "5            maua           SP  1bafb430e498b939f258b9c9dbdff9b1            3   \n",
       "6            maua           SP  8899ca945efd951c97107b4966289227            1   \n",
       "7  ribeirao preto           SP  8899ca945efd951c97107b4966289227            1   \n",
       "8            maua           SP  4b70092fc12f2328972d5ff1022d87e9            4   \n",
       "9            maua           SP  b9e086024ceb0234e5950016497a4928            5   \n",
       "\n",
       "   review_comment_title                             review_comment_message  \\\n",
       "0                   NaN  Não testei o produto ainda, mas ele veio corre...   \n",
       "1                   NaN  Não testei o produto ainda, mas ele veio corre...   \n",
       "2                   NaN  Não testei o produto ainda, mas ele veio corre...   \n",
       "3                   NaN  Deveriam embalar melhor o produto. A caixa vei...   \n",
       "4                   NaN  Só achei ela pequena pra seis xícaras ,mais é ...   \n",
       "5                   NaN                                                NaN   \n",
       "6                   NaN  Prezados que porcaria de atendimento ao client...   \n",
       "7                   NaN  Prezados que porcaria de atendimento ao client...   \n",
       "8                   NaN                                                NaN   \n",
       "9                   NaN                                                NaN   \n",
       "\n",
       "  review_creation_date  review_answer_timestamp  \n",
       "0  2017-10-11 00:00:00      2017-10-12 03:43:48  \n",
       "1  2017-10-11 00:00:00      2017-10-12 03:43:48  \n",
       "2  2017-10-11 00:00:00      2017-10-12 03:43:48  \n",
       "3  2017-08-19 00:00:00      2017-08-20 15:16:36  \n",
       "4  2017-08-08 00:00:00      2017-08-08 23:26:23  \n",
       "5  2017-11-08 00:00:00      2017-11-10 19:52:38  \n",
       "6  2017-08-29 00:00:00      2017-08-30 02:26:02  \n",
       "7  2017-08-29 00:00:00      2017-08-30 02:26:02  \n",
       "8  2017-10-20 00:00:00      2017-10-23 04:13:41  \n",
       "9  2017-08-22 00:00:00      2017-08-26 02:31:53  \n",
       "\n",
       "[10 rows x 40 columns]"
      ]
     },
     "execution_count": 9,
     "metadata": {},
     "output_type": "execute_result"
    }
   ],
   "source": [
    "data[:10]"
   ]
  },
  {
   "cell_type": "code",
   "execution_count": 10,
   "id": "b6ce2172-b913-47a7-824b-a42992f36e9b",
   "metadata": {
    "tags": []
   },
   "outputs": [
    {
     "name": "stdout",
     "output_type": "stream",
     "text": [
      "delivered      113210\n",
      "shipped          1138\n",
      "canceled          536\n",
      "invoiced          358\n",
      "processing        357\n",
      "unavailable         7\n",
      "approved            3\n",
      "Name: order_status, dtype: int64\n",
      "SP    48797\n",
      "RJ    14987\n",
      "MG    13429\n",
      "RS     6413\n",
      "PR     5879\n",
      "SC     4218\n",
      "BA     3942\n",
      "DF     2449\n",
      "GO     2359\n",
      "ES     2300\n",
      "PE     1851\n",
      "CE     1527\n",
      "MT     1106\n",
      "PA     1081\n",
      "MS      845\n",
      "MA      832\n",
      "PB      619\n",
      "PI      561\n",
      "RN      560\n",
      "AL      455\n",
      "SE      393\n",
      "TO      333\n",
      "RO      279\n",
      "AM      168\n",
      "AC       93\n",
      "AP       83\n",
      "RR       50\n",
      "Name: customer_state, dtype: int64\n",
      "1     101340\n",
      "2      10055\n",
      "3       2326\n",
      "4        969\n",
      "5        458\n",
      "6        256\n",
      "7         60\n",
      "8         35\n",
      "9         28\n",
      "10        25\n",
      "11        17\n",
      "12        12\n",
      "13         7\n",
      "14         6\n",
      "15         4\n",
      "16         2\n",
      "17         2\n",
      "18         2\n",
      "19         2\n",
      "20         2\n",
      "21         1\n",
      "Name: order_item_id, dtype: int64\n",
      "cama_mesa_banho                  11847\n",
      "beleza_saude                      9944\n",
      "esporte_lazer                     8942\n",
      "moveis_decoracao                  8743\n",
      "informatica_acessorios            8105\n",
      "                                 ...  \n",
      "artes_e_artesanato                  24\n",
      "la_cuisine                          15\n",
      "cds_dvds_musicais                   14\n",
      "fashion_roupa_infanto_juvenil        8\n",
      "seguros_e_servicos                   2\n",
      "Name: product_category_name, Length: 71, dtype: int64\n",
      "59.0    8598\n",
      "60.0    8004\n",
      "56.0    6803\n",
      "58.0    6753\n",
      "57.0    6261\n",
      "        ... \n",
      "7.0        2\n",
      "76.0       1\n",
      "66.0       1\n",
      "68.0       1\n",
      "69.0       1\n",
      "Name: product_name_lenght, Length: 66, dtype: int64\n",
      "1.0     58429\n",
      "2.0     22894\n",
      "3.0     12869\n",
      "4.0      8770\n",
      "5.0      5558\n",
      "6.0      3905\n",
      "7.0      1552\n",
      "8.0       771\n",
      "10.0      353\n",
      "9.0       309\n",
      "11.0       73\n",
      "12.0       60\n",
      "13.0       30\n",
      "15.0       12\n",
      "17.0       11\n",
      "14.0        6\n",
      "18.0        4\n",
      "19.0        2\n",
      "20.0        1\n",
      "Name: product_photos_qty, dtype: int64\n",
      "16.0    17712\n",
      "20.0    10603\n",
      "30.0     7814\n",
      "17.0     6126\n",
      "18.0     5844\n",
      "        ...  \n",
      "96.0        8\n",
      "94.0        6\n",
      "83.0        6\n",
      "9.0         4\n",
      "8.0         2\n",
      "Name: product_length_cm, Length: 99, dtype: int64\n",
      "20.0     12447\n",
      "11.0     10662\n",
      "15.0      8964\n",
      "16.0      8677\n",
      "30.0      7880\n",
      "         ...  \n",
      "97.0         1\n",
      "98.0         1\n",
      "104.0        1\n",
      "87.0         1\n",
      "103.0        1\n",
      "Name: product_width_cm, Length: 95, dtype: int64\n",
      "bed_bath_table               11847\n",
      "health_beauty                 9944\n",
      "sports_leisure                8942\n",
      "furniture_decor               8743\n",
      "computers_accessories         8105\n",
      "                             ...  \n",
      "arts_and_craftmanship           24\n",
      "la_cuisine                      15\n",
      "cds_dvds_musicals               14\n",
      "fashion_childrens_clothes        8\n",
      "security_and_services            2\n",
      "Name: product_category_name_english, Length: 71, dtype: int64\n",
      "1     110662\n",
      "2       3298\n",
      "3        636\n",
      "4        307\n",
      "5        183\n",
      "6        127\n",
      "7         88\n",
      "8         58\n",
      "9         47\n",
      "10        40\n",
      "11        35\n",
      "12        27\n",
      "13        15\n",
      "14        13\n",
      "15        11\n",
      "19         9\n",
      "18         9\n",
      "16         9\n",
      "17         9\n",
      "20         6\n",
      "21         6\n",
      "22         3\n",
      "26         2\n",
      "25         2\n",
      "24         2\n",
      "23         2\n",
      "27         1\n",
      "29         1\n",
      "28         1\n",
      "Name: payment_sequential, dtype: int64\n",
      "credit_card    85278\n",
      "boleto         22510\n",
      "voucher         6162\n",
      "debit_card      1659\n",
      "Name: payment_type, dtype: int64\n",
      "1     57599\n",
      "2     13404\n",
      "3     11551\n",
      "4      7855\n",
      "10     6785\n",
      "5      5928\n",
      "8      5013\n",
      "6      4546\n",
      "7      1789\n",
      "9       710\n",
      "12      164\n",
      "15       91\n",
      "18       38\n",
      "24       34\n",
      "11       22\n",
      "20       20\n",
      "13       19\n",
      "14       16\n",
      "17        7\n",
      "16        7\n",
      "21        6\n",
      "0         3\n",
      "22        1\n",
      "23        1\n",
      "Name: payment_installments, dtype: int64\n",
      "SP    82417\n",
      "MG     9014\n",
      "PR     8964\n",
      "RJ     4906\n",
      "SC     4221\n",
      "RS     2224\n",
      "DF      937\n",
      "BA      698\n",
      "GO      537\n",
      "PE      461\n",
      "MA      403\n",
      "ES      374\n",
      "MT      147\n",
      "CE      103\n",
      "MS       59\n",
      "RN       56\n",
      "PB       40\n",
      "RO       14\n",
      "PI       12\n",
      "SE       10\n",
      "PA        8\n",
      "AM        3\n",
      "AC        1\n",
      "Name: seller_state, dtype: int64\n",
      "5    65374\n",
      "4    21951\n",
      "1    14546\n",
      "3     9718\n",
      "2     4020\n",
      "Name: review_score, dtype: int64\n"
     ]
    }
   ],
   "source": [
    "for  i in data.columns:\n",
    "    if data[i].nunique() < 100:\n",
    "        print(data[i].value_counts())"
   ]
  },
  {
   "cell_type": "code",
   "execution_count": 11,
   "id": "6b0c86d8-d582-4195-9c37-78fa843bdddf",
   "metadata": {
    "tags": []
   },
   "outputs": [
    {
     "data": {
      "text/plain": [
       "Recomendo          489\n",
       "recomendo          401\n",
       "Bom                331\n",
       "super recomendo    310\n",
       "Excelente          293\n",
       "Muito bom          279\n",
       "Ótimo              267\n",
       "Super recomendo    252\n",
       "Ótimo              234\n",
       "Otimo              201\n",
       "Name: review_comment_title, dtype: int64"
      ]
     },
     "execution_count": 11,
     "metadata": {},
     "output_type": "execute_result"
    }
   ],
   "source": [
    "data.review_comment_title.value_counts()[:10]"
   ]
  },
  {
   "cell_type": "code",
   "execution_count": 12,
   "id": "5525d134-d574-4af1-8414-1830d6c82cce",
   "metadata": {
    "tags": []
   },
   "outputs": [
    {
     "data": {
      "text/plain": [
       "delivered      113210\n",
       "shipped          1138\n",
       "canceled          536\n",
       "invoiced          358\n",
       "processing        357\n",
       "unavailable         7\n",
       "approved            3\n",
       "Name: order_status, dtype: int64"
      ]
     },
     "execution_count": 12,
     "metadata": {},
     "output_type": "execute_result"
    }
   ],
   "source": [
    "data.order_status.value_counts()"
   ]
  },
  {
   "cell_type": "code",
   "execution_count": 13,
   "id": "9af6b002-770c-4175-b56c-13c06c2b357e",
   "metadata": {
    "tags": []
   },
   "outputs": [
    {
     "data": {
      "text/plain": [
       "bed_bath_table               11847\n",
       "health_beauty                 9944\n",
       "sports_leisure                8942\n",
       "furniture_decor               8743\n",
       "computers_accessories         8105\n",
       "                             ...  \n",
       "arts_and_craftmanship           24\n",
       "la_cuisine                      15\n",
       "cds_dvds_musicals               14\n",
       "fashion_childrens_clothes        8\n",
       "security_and_services            2\n",
       "Name: product_category_name_english, Length: 71, dtype: int64"
      ]
     },
     "execution_count": 13,
     "metadata": {},
     "output_type": "execute_result"
    }
   ],
   "source": [
    "data.product_category_name_english.value_counts()"
   ]
  },
  {
   "cell_type": "code",
   "execution_count": 14,
   "id": "eac0a41a-4456-4aaa-bb96-a49ddaa69005",
   "metadata": {
    "tags": []
   },
   "outputs": [
    {
     "data": {
      "text/plain": [
       "cama_mesa_banho                  11847\n",
       "beleza_saude                      9944\n",
       "esporte_lazer                     8942\n",
       "moveis_decoracao                  8743\n",
       "informatica_acessorios            8105\n",
       "                                 ...  \n",
       "artes_e_artesanato                  24\n",
       "la_cuisine                          15\n",
       "cds_dvds_musicais                   14\n",
       "fashion_roupa_infanto_juvenil        8\n",
       "seguros_e_servicos                   2\n",
       "Name: product_category_name, Length: 71, dtype: int64"
      ]
     },
     "execution_count": 14,
     "metadata": {},
     "output_type": "execute_result"
    }
   ],
   "source": [
    "data.product_category_name.value_counts()"
   ]
  },
  {
   "cell_type": "code",
   "execution_count": 15,
   "id": "2a3b2b4b-5eaf-46a0-8856-d63d8567601c",
   "metadata": {
    "tags": []
   },
   "outputs": [
    {
     "data": {
      "text/plain": [
       "35176"
      ]
     },
     "execution_count": 15,
     "metadata": {},
     "output_type": "execute_result"
    }
   ],
   "source": [
    "data.review_comment_message.nunique()"
   ]
  },
  {
   "cell_type": "code",
   "execution_count": 16,
   "id": "2327ac8b-bb94-4bb2-a8f5-4e1f2b5bceff",
   "metadata": {
    "tags": []
   },
   "outputs": [
    {
     "data": {
      "text/plain": [
       "35176"
      ]
     },
     "execution_count": 16,
     "metadata": {},
     "output_type": "execute_result"
    }
   ],
   "source": [
    "data['review_comment_message'].nunique()"
   ]
  },
  {
   "cell_type": "code",
   "execution_count": 18,
   "id": "1c35cd8f-a9a1-463a-baf9-397cfc78522d",
   "metadata": {
    "tags": []
   },
   "outputs": [],
   "source": [
    "# from googletrans import Translator\n",
    "\n",
    "# # Create a sample DataFrame\n",
    "# # data = {'Review': [\"Bonjour, comment ça va?\", \"Ich liebe diesen Film\", \"Hola, ¿cómo estás?\"]}\n",
    "# # df = pd.DataFrame(data)\n",
    "\n",
    "# # Function to translate a text using Googletrans\n",
    "# def translate_text(text, dest='en'):\n",
    "#     translator = Translator()\n",
    "#     translated_text = translator.translate(text, dest=dest)\n",
    "#     return translated_text.text\n",
    "\n",
    "# # Apply the translation function to the 'Review' column\n",
    "# data['Translated_Review'] = data['review_comment_message'].apply(translate_text)\n",
    "\n",
    "# # Display the DataFrame with translated reviews\n",
    "\n"
   ]
  },
  {
   "cell_type": "code",
   "execution_count": 19,
   "id": "c11c492a-b226-44fb-be8e-cc05ea494fb6",
   "metadata": {},
   "outputs": [
    {
     "name": "stdout",
     "output_type": "stream",
     "text": [
      "customer_zip_code_prefix  >  0.7843642183811036\n",
      "order_item_id  >  7.19520595525071\n",
      "price  >  7.615418216518572\n",
      "freight_value  >  5.560212760479062\n",
      "product_name_lenght  >  -0.905419685477803\n",
      "product_description_lenght  >  2.0115330379399667\n",
      "product_photos_qty  >  1.9108679719349142\n",
      "product_weight_g  >  3.580649801661388\n",
      "product_length_cm  >  1.7425098719945324\n",
      "product_height_cm  >  2.2431210608437415\n",
      "product_width_cm  >  1.707217058139488\n",
      "payment_sequential  >  16.00176825924981\n",
      "payment_installments  >  1.6181717207743274\n",
      "payment_value  >  14.306544229593069\n",
      "seller_zip_code_prefix  >  1.5480429933544555\n",
      "review_score  >  -1.275224717627826\n"
     ]
    }
   ],
   "source": [
    "for i in data.columns:\n",
    "    if data[i].dtype != 'object':\n",
    "        print(i,' > ',data[i].skew())"
   ]
  },
  {
   "cell_type": "code",
   "execution_count": 20,
   "id": "fd815f2c-a59e-4157-89c2-be90c95ad7d0",
   "metadata": {
    "tags": []
   },
   "outputs": [],
   "source": [
    "from scipy.stats import shapiro"
   ]
  },
  {
   "cell_type": "code",
   "execution_count": null,
   "id": "5b1bbb12-3e27-4f57-8431-967d4350aa60",
   "metadata": {},
   "outputs": [],
   "source": []
  },
  {
   "cell_type": "code",
   "execution_count": 21,
   "id": "2ecc7fe2-f6b7-4169-9636-cc36256336a0",
   "metadata": {
    "tags": []
   },
   "outputs": [
    {
     "name": "stdout",
     "output_type": "stream",
     "text": [
      "customer_zip_code_prefix  >  0\n",
      "order_item_id  >  0\n",
      "price  >  0\n",
      "freight_value  >  0\n",
      "product_name_lenght  >  0\n",
      "product_description_lenght  >  0\n",
      "product_photos_qty  >  0\n",
      "product_weight_g  >  1\n",
      "product_length_cm  >  1\n",
      "product_height_cm  >  1\n",
      "product_width_cm  >  1\n",
      "payment_sequential  >  0\n",
      "payment_installments  >  0\n",
      "payment_value  >  0\n",
      "seller_zip_code_prefix  >  0\n",
      "review_score  >  0\n"
     ]
    },
    {
     "name": "stderr",
     "output_type": "stream",
     "text": [
      "/home/kar911/.local/lib/python3.10/site-packages/scipy/stats/_morestats.py:1800: UserWarning: p-value may not be accurate for N > 5000.\n",
      "  warnings.warn(\"p-value may not be accurate for N > 5000.\")\n"
     ]
    }
   ],
   "source": [
    "for i in data.columns:\n",
    "    if data[i].dtype != 'object':\n",
    "        print(i,' > ', 1 if shapiro(data[i]).pvalue > 0.05 else 0 )"
   ]
  },
  {
   "cell_type": "code",
   "execution_count": 22,
   "id": "be470ab8-0600-4938-9741-fa06f38729e4",
   "metadata": {
    "tags": []
   },
   "outputs": [],
   "source": [
    "import numpy as np"
   ]
  },
  {
   "cell_type": "code",
   "execution_count": 23,
   "id": "dfd8061b-b8e7-49f8-bcdc-4043aafacc5b",
   "metadata": {
    "tags": []
   },
   "outputs": [
    {
     "data": {
      "text/plain": [
       "<AxesSubplot: >"
      ]
     },
     "execution_count": 23,
     "metadata": {},
     "output_type": "execute_result"
    },
    {
     "data": {
      "image/png": "[encoded data removed]",
      "text/plain": [
       "<Figure size 640x480 with 1 Axes>"
      ]
     },
     "metadata": {},
     "output_type": "display_data"
    }
   ],
   "source": [
    "da=data.product_weight_g\n",
    "da = da[da < da.quantile(.78)]\n",
    "da = da[da > da.quantile(.05)]\n",
    "\n",
    "da.plot(kind='box')"
   ]
  },
  {
   "cell_type": "code",
   "execution_count": 24,
   "id": "4b32036d-58ed-4abf-8523-3fd7290d64c8",
   "metadata": {
    "tags": []
   },
   "outputs": [
    {
     "data": {
      "text/plain": [
       "<AxesSubplot: >"
      ]
     },
     "execution_count": 24,
     "metadata": {},
     "output_type": "execute_result"
    },
    {
     "data": {
      "image/png": "[encoded data removed]",
      "text/plain": [
       "<Figure size 640x480 with 1 Axes>"
      ]
     },
     "metadata": {},
     "output_type": "display_data"
    }
   ],
   "source": [
    "data.product_length_cm.plot(kind='box')"
   ]
  },
  {
   "cell_type": "code",
   "execution_count": 25,
   "id": "562d8564-144c-4107-bbcd-44a4763346cf",
   "metadata": {},
   "outputs": [
    {
     "name": "stdout",
     "output_type": "stream",
     "text": [
      "order_status  >  7\n",
      "payment_type  >  4\n",
      "review_score  >  5\n"
     ]
    }
   ],
   "source": [
    "for i in data.columns:\n",
    "    if data[i].nunique() < 10:\n",
    "        print(i,' > ',data[i].nunique())"
   ]
  },
  {
   "cell_type": "code",
   "execution_count": 26,
   "id": "67da6233-640e-4258-9e1f-bd6153091a3a",
   "metadata": {
    "tags": []
   },
   "outputs": [],
   "source": [
    "dd2=pd.crosstab(data.order_status,data.payment_type)"
   ]
  },
  {
   "cell_type": "code",
   "execution_count": 27,
   "id": "ce3e6733-3bc9-49c6-882d-e274350da5e3",
   "metadata": {
    "tags": []
   },
   "outputs": [],
   "source": [
    "dd1=pd.crosstab(data.review_score,data.payment_type)"
   ]
  },
  {
   "cell_type": "code",
   "execution_count": 28,
   "id": "6409bfb1-a78a-47dd-b7b7-e83410ea5b73",
   "metadata": {
    "tags": []
   },
   "outputs": [],
   "source": [
    "dd3=pd.crosstab(data.review_score,data.order_status)"
   ]
  },
  {
   "cell_type": "code",
   "execution_count": 29,
   "id": "004e5dbb-a882-4842-a667-bf62d7e8abd1",
   "metadata": {
    "tags": []
   },
   "outputs": [
    {
     "data": {
      "image/png": "[encoded data removed]",
      "text/plain": [
       "<Figure size 640x480 with 1 Axes>"
      ]
     },
     "metadata": {},
     "output_type": "display_data"
    }
   ],
   "source": [
    "import pandas as pd\n",
    "import seaborn as sns\n",
    "import matplotlib.pyplot as plt\n",
    "\n",
    "# Create a sample DataFrame\n",
    "data = {'Category': ['A', 'B', 'A', 'B', 'A', 'B'],\n",
    "        'Value': [10, 20, 30, 40, 50, 60]}\n",
    "df = pd.DataFrame(data)\n",
    "\n",
    "# Create a crosstab\n",
    "cross_tab = pd.crosstab(df['Category'], columns='count')\n",
    "\n",
    "# Set the color palette\n",
    "palette = sns.color_palette(\"pastel\")\n",
    "\n",
    "# Create a heatmap using sns.heatmap\n",
    "sns.heatmap(cross_tab, annot=True, cmap=palette, cbar=False, fmt='d')\n",
    "\n",
    "# Show the plot\n",
    "plt.show()\n"
   ]
  },
  {
   "cell_type": "code",
   "execution_count": 34,
   "id": "36652c6f-180c-4300-be0a-e69a08904434",
   "metadata": {
    "tags": []
   },
   "outputs": [],
   "source": [
    "# import seaborn as sns\n",
    "# cm = sns.light_palette(\"green\", as_cmap=True)\n",
    "# cm=sns.choose_cubehelix_palette()\n",
    "# cm[0]\n",
    "# dd1.style.background_gradient(cmap=cm.pop())"
   ]
  },
  {
   "cell_type": "code",
   "execution_count": 36,
   "id": "2a181901-bc7a-4f27-8b27-535d1a124996",
   "metadata": {
    "tags": []
   },
   "outputs": [
    {
     "data": {
      "text/html": [
       "<style type=\"text/css\">\n",
       "#T_4e1d3_row0_col0, #T_4e1d3_row0_col1, #T_4e1d3_row0_col2, #T_4e1d3_row0_col3, #T_4e1d3_row1_col2, #T_4e1d3_row3_col1, #T_4e1d3_row3_col2, #T_4e1d3_row3_col3, #T_4e1d3_row4_col1, #T_4e1d3_row4_col2, #T_4e1d3_row4_col3, #T_4e1d3_row6_col0, #T_4e1d3_row6_col1, #T_4e1d3_row6_col2, #T_4e1d3_row6_col3 {\n",
       "  background-color: #00ffff;\n",
       "  color: #000000;\n",
       "}\n",
       "#T_4e1d3_row1_col0, #T_4e1d3_row1_col1, #T_4e1d3_row1_col3, #T_4e1d3_row3_col0, #T_4e1d3_row4_col0 {\n",
       "  background-color: #01feff;\n",
       "  color: #000000;\n",
       "}\n",
       "#T_4e1d3_row2_col0, #T_4e1d3_row2_col1, #T_4e1d3_row2_col2, #T_4e1d3_row2_col3 {\n",
       "  background-color: #ff00ff;\n",
       "  color: #f1f1f1;\n",
       "}\n",
       "#T_4e1d3_row5_col0, #T_4e1d3_row5_col1 {\n",
       "  background-color: #02fdff;\n",
       "  color: #000000;\n",
       "}\n",
       "#T_4e1d3_row5_col2, #T_4e1d3_row5_col3 {\n",
       "  background-color: #03fcff;\n",
       "  color: #000000;\n",
       "}\n",
       "</style>\n",
       "<table id=\"T_4e1d3\">\n",
       "  <thead>\n",
       "    <tr>\n",
       "      <th class=\"index_name level0\" >payment_type</th>\n",
       "      <th id=\"T_4e1d3_level0_col0\" class=\"col_heading level0 col0\" >boleto</th>\n",
       "      <th id=\"T_4e1d3_level0_col1\" class=\"col_heading level0 col1\" >credit_card</th>\n",
       "      <th id=\"T_4e1d3_level0_col2\" class=\"col_heading level0 col2\" >debit_card</th>\n",
       "      <th id=\"T_4e1d3_level0_col3\" class=\"col_heading level0 col3\" >voucher</th>\n",
       "    </tr>\n",
       "    <tr>\n",
       "      <th class=\"index_name level0\" >order_status</th>\n",
       "      <th class=\"blank col0\" >&nbsp;</th>\n",
       "      <th class=\"blank col1\" >&nbsp;</th>\n",
       "      <th class=\"blank col2\" >&nbsp;</th>\n",
       "      <th class=\"blank col3\" >&nbsp;</th>\n",
       "    </tr>\n",
       "  </thead>\n",
       "  <tbody>\n",
       "    <tr>\n",
       "      <th id=\"T_4e1d3_level0_row0\" class=\"row_heading level0 row0\" >approved</th>\n",
       "      <td id=\"T_4e1d3_row0_col0\" class=\"data row0 col0\" >0</td>\n",
       "      <td id=\"T_4e1d3_row0_col1\" class=\"data row0 col1\" >3</td>\n",
       "      <td id=\"T_4e1d3_row0_col2\" class=\"data row0 col2\" >0</td>\n",
       "      <td id=\"T_4e1d3_row0_col3\" class=\"data row0 col3\" >0</td>\n",
       "    </tr>\n",
       "    <tr>\n",
       "      <th id=\"T_4e1d3_level0_row1\" class=\"row_heading level0 row1\" >canceled</th>\n",
       "      <td id=\"T_4e1d3_row1_col0\" class=\"data row1 col0\" >92</td>\n",
       "      <td id=\"T_4e1d3_row1_col1\" class=\"data row1 col1\" >411</td>\n",
       "      <td id=\"T_4e1d3_row1_col2\" class=\"data row1 col2\" >6</td>\n",
       "      <td id=\"T_4e1d3_row1_col3\" class=\"data row1 col3\" >27</td>\n",
       "    </tr>\n",
       "    <tr>\n",
       "      <th id=\"T_4e1d3_level0_row2\" class=\"row_heading level0 row2\" >delivered</th>\n",
       "      <td id=\"T_4e1d3_row2_col0\" class=\"data row2 col0\" >22029</td>\n",
       "      <td id=\"T_4e1d3_row2_col1\" class=\"data row2 col1\" >83536</td>\n",
       "      <td id=\"T_4e1d3_row2_col2\" class=\"data row2 col2\" >1623</td>\n",
       "      <td id=\"T_4e1d3_row2_col3\" class=\"data row2 col3\" >6022</td>\n",
       "    </tr>\n",
       "    <tr>\n",
       "      <th id=\"T_4e1d3_level0_row3\" class=\"row_heading level0 row3\" >invoiced</th>\n",
       "      <td id=\"T_4e1d3_row3_col0\" class=\"data row3 col0\" >88</td>\n",
       "      <td id=\"T_4e1d3_row3_col1\" class=\"data row3 col1\" >250</td>\n",
       "      <td id=\"T_4e1d3_row3_col2\" class=\"data row3 col2\" >6</td>\n",
       "      <td id=\"T_4e1d3_row3_col3\" class=\"data row3 col3\" >14</td>\n",
       "    </tr>\n",
       "    <tr>\n",
       "      <th id=\"T_4e1d3_level0_row4\" class=\"row_heading level0 row4\" >processing</th>\n",
       "      <td id=\"T_4e1d3_row4_col0\" class=\"data row4 col0\" >93</td>\n",
       "      <td id=\"T_4e1d3_row4_col1\" class=\"data row4 col1\" >240</td>\n",
       "      <td id=\"T_4e1d3_row4_col2\" class=\"data row4 col2\" >2</td>\n",
       "      <td id=\"T_4e1d3_row4_col3\" class=\"data row4 col3\" >22</td>\n",
       "    </tr>\n",
       "    <tr>\n",
       "      <th id=\"T_4e1d3_level0_row5\" class=\"row_heading level0 row5\" >shipped</th>\n",
       "      <td id=\"T_4e1d3_row5_col0\" class=\"data row5 col0\" >208</td>\n",
       "      <td id=\"T_4e1d3_row5_col1\" class=\"data row5 col1\" >831</td>\n",
       "      <td id=\"T_4e1d3_row5_col2\" class=\"data row5 col2\" >22</td>\n",
       "      <td id=\"T_4e1d3_row5_col3\" class=\"data row5 col3\" >77</td>\n",
       "    </tr>\n",
       "    <tr>\n",
       "      <th id=\"T_4e1d3_level0_row6\" class=\"row_heading level0 row6\" >unavailable</th>\n",
       "      <td id=\"T_4e1d3_row6_col0\" class=\"data row6 col0\" >0</td>\n",
       "      <td id=\"T_4e1d3_row6_col1\" class=\"data row6 col1\" >7</td>\n",
       "      <td id=\"T_4e1d3_row6_col2\" class=\"data row6 col2\" >0</td>\n",
       "      <td id=\"T_4e1d3_row6_col3\" class=\"data row6 col3\" >0</td>\n",
       "    </tr>\n",
       "  </tbody>\n",
       "</table>\n"
      ],
      "text/plain": [
       "<pandas.io.formats.style.Styler at 0x7f53cba0afb0>"
      ]
     },
     "execution_count": 36,
     "metadata": {},
     "output_type": "execute_result"
    }
   ],
   "source": [
    "dd2.style.background_gradient(cmap='cool')"
   ]
  },
  {
   "cell_type": "code",
   "execution_count": 37,
   "id": "b4818ed6-9dc3-450d-aebd-668e2737f721",
   "metadata": {
    "tags": []
   },
   "outputs": [
    {
     "data": {
      "text/html": [
       "<style type=\"text/css\">\n",
       "#T_09a60_row0_col0, #T_09a60_row0_col1, #T_09a60_row0_col3, #T_09a60_row0_col4, #T_09a60_row0_col5, #T_09a60_row0_col6, #T_09a60_row4_col2 {\n",
       "  background-color: #ff00ff;\n",
       "  color: #f1f1f1;\n",
       "}\n",
       "#T_09a60_row0_col2 {\n",
       "  background-color: #25daff;\n",
       "  color: #000000;\n",
       "}\n",
       "#T_09a60_row1_col0, #T_09a60_row1_col2, #T_09a60_row1_col5, #T_09a60_row1_col6, #T_09a60_row2_col0, #T_09a60_row2_col3, #T_09a60_row2_col6, #T_09a60_row3_col1, #T_09a60_row3_col4, #T_09a60_row3_col6, #T_09a60_row4_col0 {\n",
       "  background-color: #00ffff;\n",
       "  color: #000000;\n",
       "}\n",
       "#T_09a60_row1_col1 {\n",
       "  background-color: #0cf3ff;\n",
       "  color: #000000;\n",
       "}\n",
       "#T_09a60_row1_col3 {\n",
       "  background-color: #0ff0ff;\n",
       "  color: #000000;\n",
       "}\n",
       "#T_09a60_row1_col4 {\n",
       "  background-color: #14ebff;\n",
       "  color: #000000;\n",
       "}\n",
       "#T_09a60_row2_col1 {\n",
       "  background-color: #0bf4ff;\n",
       "  color: #000000;\n",
       "}\n",
       "#T_09a60_row2_col2 {\n",
       "  background-color: #17e8ff;\n",
       "  color: #000000;\n",
       "}\n",
       "#T_09a60_row2_col4, #T_09a60_row3_col5, #T_09a60_row4_col4 {\n",
       "  background-color: #04fbff;\n",
       "  color: #000000;\n",
       "}\n",
       "#T_09a60_row2_col5 {\n",
       "  background-color: #10efff;\n",
       "  color: #000000;\n",
       "}\n",
       "#T_09a60_row3_col0 {\n",
       "  background-color: #807fff;\n",
       "  color: #f1f1f1;\n",
       "}\n",
       "#T_09a60_row3_col2 {\n",
       "  background-color: #4bb4ff;\n",
       "  color: #000000;\n",
       "}\n",
       "#T_09a60_row3_col3 {\n",
       "  background-color: #02fdff;\n",
       "  color: #000000;\n",
       "}\n",
       "#T_09a60_row4_col1 {\n",
       "  background-color: #13ecff;\n",
       "  color: #000000;\n",
       "}\n",
       "#T_09a60_row4_col3 {\n",
       "  background-color: #0af5ff;\n",
       "  color: #000000;\n",
       "}\n",
       "#T_09a60_row4_col5 {\n",
       "  background-color: #12edff;\n",
       "  color: #000000;\n",
       "}\n",
       "#T_09a60_row4_col6 {\n",
       "  background-color: #2ad5ff;\n",
       "  color: #000000;\n",
       "}\n",
       "</style>\n",
       "<table id=\"T_09a60\">\n",
       "  <thead>\n",
       "    <tr>\n",
       "      <th class=\"index_name level0\" >order_status</th>\n",
       "      <th id=\"T_09a60_level0_col0\" class=\"col_heading level0 col0\" >approved</th>\n",
       "      <th id=\"T_09a60_level0_col1\" class=\"col_heading level0 col1\" >canceled</th>\n",
       "      <th id=\"T_09a60_level0_col2\" class=\"col_heading level0 col2\" >delivered</th>\n",
       "      <th id=\"T_09a60_level0_col3\" class=\"col_heading level0 col3\" >invoiced</th>\n",
       "      <th id=\"T_09a60_level0_col4\" class=\"col_heading level0 col4\" >processing</th>\n",
       "      <th id=\"T_09a60_level0_col5\" class=\"col_heading level0 col5\" >shipped</th>\n",
       "      <th id=\"T_09a60_level0_col6\" class=\"col_heading level0 col6\" >unavailable</th>\n",
       "    </tr>\n",
       "    <tr>\n",
       "      <th class=\"index_name level0\" >review_score</th>\n",
       "      <th class=\"blank col0\" >&nbsp;</th>\n",
       "      <th class=\"blank col1\" >&nbsp;</th>\n",
       "      <th class=\"blank col2\" >&nbsp;</th>\n",
       "      <th class=\"blank col3\" >&nbsp;</th>\n",
       "      <th class=\"blank col4\" >&nbsp;</th>\n",
       "      <th class=\"blank col5\" >&nbsp;</th>\n",
       "      <th class=\"blank col6\" >&nbsp;</th>\n",
       "    </tr>\n",
       "  </thead>\n",
       "  <tbody>\n",
       "    <tr>\n",
       "      <th id=\"T_09a60_level0_row0\" class=\"row_heading level0 row0\" >1</th>\n",
       "      <td id=\"T_09a60_row0_col0\" class=\"data row0 col0\" >2</td>\n",
       "      <td id=\"T_09a60_row0_col1\" class=\"data row0 col1\" >411</td>\n",
       "      <td id=\"T_09a60_row0_col2\" class=\"data row0 col2\" >12862</td>\n",
       "      <td id=\"T_09a60_row0_col3\" class=\"data row0 col3\" >259</td>\n",
       "      <td id=\"T_09a60_row0_col4\" class=\"data row0 col4\" >296</td>\n",
       "      <td id=\"T_09a60_row0_col5\" class=\"data row0 col5\" >710</td>\n",
       "      <td id=\"T_09a60_row0_col6\" class=\"data row0 col6\" >6</td>\n",
       "    </tr>\n",
       "    <tr>\n",
       "      <th id=\"T_09a60_level0_row1\" class=\"row_heading level0 row1\" >2</th>\n",
       "      <td id=\"T_09a60_row1_col0\" class=\"data row1 col0\" >0</td>\n",
       "      <td id=\"T_09a60_row1_col1\" class=\"data row1 col1\" >34</td>\n",
       "      <td id=\"T_09a60_row1_col2\" class=\"data row1 col2\" >3840</td>\n",
       "      <td id=\"T_09a60_row1_col3\" class=\"data row1 col3\" >33</td>\n",
       "      <td id=\"T_09a60_row1_col4\" class=\"data row1 col4\" >30</td>\n",
       "      <td id=\"T_09a60_row1_col5\" class=\"data row1 col5\" >83</td>\n",
       "      <td id=\"T_09a60_row1_col6\" class=\"data row1 col6\" >0</td>\n",
       "    </tr>\n",
       "    <tr>\n",
       "      <th id=\"T_09a60_level0_row2\" class=\"row_heading level0 row2\" >3</th>\n",
       "      <td id=\"T_09a60_row2_col0\" class=\"data row2 col0\" >0</td>\n",
       "      <td id=\"T_09a60_row2_col1\" class=\"data row2 col1\" >32</td>\n",
       "      <td id=\"T_09a60_row2_col2\" class=\"data row2 col2\" >9533</td>\n",
       "      <td id=\"T_09a60_row2_col3\" class=\"data row2 col3\" >18</td>\n",
       "      <td id=\"T_09a60_row2_col4\" class=\"data row2 col4\" >12</td>\n",
       "      <td id=\"T_09a60_row2_col5\" class=\"data row2 col5\" >123</td>\n",
       "      <td id=\"T_09a60_row2_col6\" class=\"data row2 col6\" >0</td>\n",
       "    </tr>\n",
       "    <tr>\n",
       "      <th id=\"T_09a60_level0_row3\" class=\"row_heading level0 row3\" >4</th>\n",
       "      <td id=\"T_09a60_row3_col0\" class=\"data row3 col0\" >1</td>\n",
       "      <td id=\"T_09a60_row3_col1\" class=\"data row3 col1\" >14</td>\n",
       "      <td id=\"T_09a60_row3_col2\" class=\"data row3 col2\" >21816</td>\n",
       "      <td id=\"T_09a60_row3_col3\" class=\"data row3 col3\" >20</td>\n",
       "      <td id=\"T_09a60_row3_col4\" class=\"data row3 col4\" >7</td>\n",
       "      <td id=\"T_09a60_row3_col5\" class=\"data row3 col5\" >93</td>\n",
       "      <td id=\"T_09a60_row3_col6\" class=\"data row3 col6\" >0</td>\n",
       "    </tr>\n",
       "    <tr>\n",
       "      <th id=\"T_09a60_level0_row4\" class=\"row_heading level0 row4\" >5</th>\n",
       "      <td id=\"T_09a60_row4_col0\" class=\"data row4 col0\" >0</td>\n",
       "      <td id=\"T_09a60_row4_col1\" class=\"data row4 col1\" >45</td>\n",
       "      <td id=\"T_09a60_row4_col2\" class=\"data row4 col2\" >65159</td>\n",
       "      <td id=\"T_09a60_row4_col3\" class=\"data row4 col3\" >28</td>\n",
       "      <td id=\"T_09a60_row4_col4\" class=\"data row4 col4\" >12</td>\n",
       "      <td id=\"T_09a60_row4_col5\" class=\"data row4 col5\" >129</td>\n",
       "      <td id=\"T_09a60_row4_col6\" class=\"data row4 col6\" >1</td>\n",
       "    </tr>\n",
       "  </tbody>\n",
       "</table>\n"
      ],
      "text/plain": [
       "<pandas.io.formats.style.Styler at 0x7f53cba08790>"
      ]
     },
     "execution_count": 37,
     "metadata": {},
     "output_type": "execute_result"
    }
   ],
   "source": [
    "dd3.style.background_gradient(cmap='cool')"
   ]
  },
  {
   "cell_type": "code",
   "execution_count": 49,
   "id": "3309e58b-77d8-4ed2-ad72-486a2c101fa8",
   "metadata": {
    "tags": []
   },
   "outputs": [
    {
     "data": {
      "text/plain": [
       "<AxesSubplot: >"
      ]
     },
     "execution_count": 49,
     "metadata": {},
     "output_type": "execute_result"
    },
    {
     "data": {
      "image/png": "[encoded data removed]",
      "text/plain": [
       "<Figure size 640x480 with 1 Axes>"
      ]
     },
     "metadata": {},
     "output_type": "display_data"
    }
   ],
   "source": [
    "sns.violinplot(data.product_weight_g)"
   ]
  },
  {
   "cell_type": "code",
   "execution_count": 50,
   "id": "b207a680-2629-47fc-afd6-c485518b6fe9",
   "metadata": {
    "tags": []
   },
   "outputs": [
    {
     "data": {
      "text/plain": [
       "<AxesSubplot: >"
      ]
     },
     "execution_count": 50,
     "metadata": {},
     "output_type": "execute_result"
    },
    {
     "data": {
      "image/png": "[encoded data removed]",
      "text/plain": [
       "<Figure size 640x480 with 1 Axes>"
      ]
     },
     "metadata": {},
     "output_type": "display_data"
    }
   ],
   "source": [
    "sns.boxenplot(data.product_weight_g)"
   ]
  },
  {
   "cell_type": "code",
   "execution_count": 51,
   "id": "28d633ef-54f3-4a61-a1b3-ce18b697f50b",
   "metadata": {
    "tags": []
   },
   "outputs": [
    {
     "data": {
      "text/plain": [
       "<AxesSubplot: >"
      ]
     },
     "execution_count": 51,
     "metadata": {},
     "output_type": "execute_result"
    },
    {
     "data": {
      "image/png": "[encoded data removed]",
      "text/plain": [
       "<Figure size 640x480 with 1 Axes>"
      ]
     },
     "metadata": {},
     "output_type": "display_data"
    }
   ],
   "source": [
    "sns.boxplot(data.product_weight_g)"
   ]
  },
  {
   "cell_type": "code",
   "execution_count": 52,
   "id": "108147cd-e6c6-4e67-83bc-219dcfe06453",
   "metadata": {
    "tags": []
   },
   "outputs": [
    {
     "data": {
      "text/html": [
       "<div>\n",
       "<style scoped>\n",
       "    .dataframe tbody tr th:only-of-type {\n",
       "        vertical-align: middle;\n",
       "    }\n",
       "\n",
       "    .dataframe tbody tr th {\n",
       "        vertical-align: top;\n",
       "    }\n",
       "\n",
       "    .dataframe thead th {\n",
       "        text-align: right;\n",
       "    }\n",
       "</style>\n",
       "<table border=\"1\" class=\"dataframe\">\n",
       "  <thead>\n",
       "    <tr style=\"text-align: right;\">\n",
       "      <th></th>\n",
       "      <th>order_id</th>\n",
       "      <th>customer_id</th>\n",
       "      <th>order_status</th>\n",
       "      <th>order_purchase_timestamp</th>\n",
       "      <th>order_approved_at</th>\n",
       "      <th>order_delivered_carrier_date</th>\n",
       "      <th>order_delivered_customer_date</th>\n",
       "      <th>order_estimated_delivery_date</th>\n",
       "      <th>customer_unique_id</th>\n",
       "      <th>customer_city</th>\n",
       "      <th>...</th>\n",
       "      <th>product_category_name</th>\n",
       "      <th>product_category_name_english</th>\n",
       "      <th>payment_type</th>\n",
       "      <th>seller_city</th>\n",
       "      <th>seller_state</th>\n",
       "      <th>review_id</th>\n",
       "      <th>review_comment_title</th>\n",
       "      <th>review_comment_message</th>\n",
       "      <th>review_creation_date</th>\n",
       "      <th>review_answer_timestamp</th>\n",
       "    </tr>\n",
       "  </thead>\n",
       "  <tbody>\n",
       "    <tr>\n",
       "      <th>count</th>\n",
       "      <td>115609</td>\n",
       "      <td>115609</td>\n",
       "      <td>115609</td>\n",
       "      <td>115609</td>\n",
       "      <td>115595</td>\n",
       "      <td>114414</td>\n",
       "      <td>113209</td>\n",
       "      <td>115609</td>\n",
       "      <td>115609</td>\n",
       "      <td>115609</td>\n",
       "      <td>...</td>\n",
       "      <td>115609</td>\n",
       "      <td>115609</td>\n",
       "      <td>115609</td>\n",
       "      <td>115609</td>\n",
       "      <td>115609</td>\n",
       "      <td>115609</td>\n",
       "      <td>13801</td>\n",
       "      <td>48906</td>\n",
       "      <td>115609</td>\n",
       "      <td>115609</td>\n",
       "    </tr>\n",
       "    <tr>\n",
       "      <th>unique</th>\n",
       "      <td>96516</td>\n",
       "      <td>96516</td>\n",
       "      <td>7</td>\n",
       "      <td>95989</td>\n",
       "      <td>88332</td>\n",
       "      <td>79241</td>\n",
       "      <td>93702</td>\n",
       "      <td>449</td>\n",
       "      <td>93396</td>\n",
       "      <td>4093</td>\n",
       "      <td>...</td>\n",
       "      <td>71</td>\n",
       "      <td>71</td>\n",
       "      <td>4</td>\n",
       "      <td>604</td>\n",
       "      <td>23</td>\n",
       "      <td>96319</td>\n",
       "      <td>4477</td>\n",
       "      <td>35176</td>\n",
       "      <td>632</td>\n",
       "      <td>96163</td>\n",
       "    </tr>\n",
       "    <tr>\n",
       "      <th>top</th>\n",
       "      <td>895ab968e7bb0d5659d16cd74cd1650c</td>\n",
       "      <td>270c23a11d024a44c896d1894b261a83</td>\n",
       "      <td>delivered</td>\n",
       "      <td>2017-08-08 20:26:31</td>\n",
       "      <td>2017-08-08 20:43:31</td>\n",
       "      <td>2017-08-10 11:58:14</td>\n",
       "      <td>2017-08-14 12:46:18</td>\n",
       "      <td>2017-12-20 00:00:00</td>\n",
       "      <td>9a736b248f67d166d2fbb006bcb877c3</td>\n",
       "      <td>sao paulo</td>\n",
       "      <td>...</td>\n",
       "      <td>cama_mesa_banho</td>\n",
       "      <td>bed_bath_table</td>\n",
       "      <td>credit_card</td>\n",
       "      <td>sao paulo</td>\n",
       "      <td>SP</td>\n",
       "      <td>eef5dbca8d37dfce6db7d7b16dd0525e</td>\n",
       "      <td>Recomendo</td>\n",
       "      <td>Muito bom</td>\n",
       "      <td>2017-12-19 00:00:00</td>\n",
       "      <td>2017-08-17 22:17:55</td>\n",
       "    </tr>\n",
       "    <tr>\n",
       "      <th>freq</th>\n",
       "      <td>63</td>\n",
       "      <td>63</td>\n",
       "      <td>113210</td>\n",
       "      <td>63</td>\n",
       "      <td>63</td>\n",
       "      <td>63</td>\n",
       "      <td>63</td>\n",
       "      <td>649</td>\n",
       "      <td>75</td>\n",
       "      <td>18267</td>\n",
       "      <td>...</td>\n",
       "      <td>11847</td>\n",
       "      <td>11847</td>\n",
       "      <td>85278</td>\n",
       "      <td>28811</td>\n",
       "      <td>82417</td>\n",
       "      <td>63</td>\n",
       "      <td>489</td>\n",
       "      <td>253</td>\n",
       "      <td>531</td>\n",
       "      <td>63</td>\n",
       "    </tr>\n",
       "  </tbody>\n",
       "</table>\n",
       "<p>4 rows × 24 columns</p>\n",
       "</div>"
      ],
      "text/plain": [
       "                                order_id                       customer_id  \\\n",
       "count                             115609                            115609   \n",
       "unique                             96516                             96516   \n",
       "top     895ab968e7bb0d5659d16cd74cd1650c  270c23a11d024a44c896d1894b261a83   \n",
       "freq                                  63                                63   \n",
       "\n",
       "       order_status order_purchase_timestamp    order_approved_at  \\\n",
       "count        115609                   115609               115595   \n",
       "unique            7                    95989                88332   \n",
       "top       delivered      2017-08-08 20:26:31  2017-08-08 20:43:31   \n",
       "freq         113210                       63                   63   \n",
       "\n",
       "       order_delivered_carrier_date order_delivered_customer_date  \\\n",
       "count                        114414                        113209   \n",
       "unique                        79241                         93702   \n",
       "top             2017-08-10 11:58:14           2017-08-14 12:46:18   \n",
       "freq                             63                            63   \n",
       "\n",
       "       order_estimated_delivery_date                customer_unique_id  \\\n",
       "count                         115609                            115609   \n",
       "unique                           449                             93396   \n",
       "top              2017-12-20 00:00:00  9a736b248f67d166d2fbb006bcb877c3   \n",
       "freq                             649                                75   \n",
       "\n",
       "       customer_city  ... product_category_name product_category_name_english  \\\n",
       "count         115609  ...                115609                        115609   \n",
       "unique          4093  ...                    71                            71   \n",
       "top        sao paulo  ...       cama_mesa_banho                bed_bath_table   \n",
       "freq           18267  ...                 11847                         11847   \n",
       "\n",
       "       payment_type seller_city seller_state  \\\n",
       "count        115609      115609       115609   \n",
       "unique            4         604           23   \n",
       "top     credit_card   sao paulo           SP   \n",
       "freq          85278       28811        82417   \n",
       "\n",
       "                               review_id review_comment_title  \\\n",
       "count                             115609                13801   \n",
       "unique                             96319                 4477   \n",
       "top     eef5dbca8d37dfce6db7d7b16dd0525e            Recomendo   \n",
       "freq                                  63                  489   \n",
       "\n",
       "       review_comment_message review_creation_date review_answer_timestamp  \n",
       "count                   48906               115609                  115609  \n",
       "unique                  35176                  632                   96163  \n",
       "top                 Muito bom  2017-12-19 00:00:00     2017-08-17 22:17:55  \n",
       "freq                      253                  531                      63  \n",
       "\n",
       "[4 rows x 24 columns]"
      ]
     },
     "execution_count": 52,
     "metadata": {},
     "output_type": "execute_result"
    }
   ],
   "source": [
    "data.describe(include=['O'])"
   ]
  },
  {
   "cell_type": "code",
   "execution_count": 53,
   "id": "00dda507-abc6-4cd4-adcf-a68111cf10e9",
   "metadata": {
    "tags": []
   },
   "outputs": [
    {
     "data": {
      "text/html": [
       "<div>\n",
       "<style scoped>\n",
       "    .dataframe tbody tr th:only-of-type {\n",
       "        vertical-align: middle;\n",
       "    }\n",
       "\n",
       "    .dataframe tbody tr th {\n",
       "        vertical-align: top;\n",
       "    }\n",
       "\n",
       "    .dataframe thead th {\n",
       "        text-align: right;\n",
       "    }\n",
       "</style>\n",
       "<table border=\"1\" class=\"dataframe\">\n",
       "  <thead>\n",
       "    <tr style=\"text-align: right;\">\n",
       "      <th></th>\n",
       "      <th>customer_zip_code_prefix</th>\n",
       "      <th>order_item_id</th>\n",
       "      <th>payment_sequential</th>\n",
       "      <th>payment_installments</th>\n",
       "      <th>seller_zip_code_prefix</th>\n",
       "      <th>review_score</th>\n",
       "    </tr>\n",
       "  </thead>\n",
       "  <tbody>\n",
       "    <tr>\n",
       "      <th>count</th>\n",
       "      <td>115609.000000</td>\n",
       "      <td>115609.000000</td>\n",
       "      <td>115609.000000</td>\n",
       "      <td>115609.000000</td>\n",
       "      <td>115609.000000</td>\n",
       "      <td>115609.000000</td>\n",
       "    </tr>\n",
       "    <tr>\n",
       "      <th>mean</th>\n",
       "      <td>35061.537597</td>\n",
       "      <td>1.194535</td>\n",
       "      <td>1.093747</td>\n",
       "      <td>2.946233</td>\n",
       "      <td>24515.713958</td>\n",
       "      <td>4.034409</td>\n",
       "    </tr>\n",
       "    <tr>\n",
       "      <th>std</th>\n",
       "      <td>29841.671732</td>\n",
       "      <td>0.685926</td>\n",
       "      <td>0.729849</td>\n",
       "      <td>2.781087</td>\n",
       "      <td>27636.640968</td>\n",
       "      <td>1.385584</td>\n",
       "    </tr>\n",
       "    <tr>\n",
       "      <th>min</th>\n",
       "      <td>1003.000000</td>\n",
       "      <td>1.000000</td>\n",
       "      <td>1.000000</td>\n",
       "      <td>0.000000</td>\n",
       "      <td>1001.000000</td>\n",
       "      <td>1.000000</td>\n",
       "    </tr>\n",
       "    <tr>\n",
       "      <th>25%</th>\n",
       "      <td>11310.000000</td>\n",
       "      <td>1.000000</td>\n",
       "      <td>1.000000</td>\n",
       "      <td>1.000000</td>\n",
       "      <td>6429.000000</td>\n",
       "      <td>4.000000</td>\n",
       "    </tr>\n",
       "    <tr>\n",
       "      <th>50%</th>\n",
       "      <td>24241.000000</td>\n",
       "      <td>1.000000</td>\n",
       "      <td>1.000000</td>\n",
       "      <td>2.000000</td>\n",
       "      <td>13660.000000</td>\n",
       "      <td>5.000000</td>\n",
       "    </tr>\n",
       "    <tr>\n",
       "      <th>75%</th>\n",
       "      <td>58745.000000</td>\n",
       "      <td>1.000000</td>\n",
       "      <td>1.000000</td>\n",
       "      <td>4.000000</td>\n",
       "      <td>28605.000000</td>\n",
       "      <td>5.000000</td>\n",
       "    </tr>\n",
       "    <tr>\n",
       "      <th>max</th>\n",
       "      <td>99980.000000</td>\n",
       "      <td>21.000000</td>\n",
       "      <td>29.000000</td>\n",
       "      <td>24.000000</td>\n",
       "      <td>99730.000000</td>\n",
       "      <td>5.000000</td>\n",
       "    </tr>\n",
       "  </tbody>\n",
       "</table>\n",
       "</div>"
      ],
      "text/plain": [
       "       customer_zip_code_prefix  order_item_id  payment_sequential  \\\n",
       "count             115609.000000  115609.000000       115609.000000   \n",
       "mean               35061.537597       1.194535            1.093747   \n",
       "std                29841.671732       0.685926            0.729849   \n",
       "min                 1003.000000       1.000000            1.000000   \n",
       "25%                11310.000000       1.000000            1.000000   \n",
       "50%                24241.000000       1.000000            1.000000   \n",
       "75%                58745.000000       1.000000            1.000000   \n",
       "max                99980.000000      21.000000           29.000000   \n",
       "\n",
       "       payment_installments  seller_zip_code_prefix   review_score  \n",
       "count         115609.000000           115609.000000  115609.000000  \n",
       "mean               2.946233            24515.713958       4.034409  \n",
       "std                2.781087            27636.640968       1.385584  \n",
       "min                0.000000             1001.000000       1.000000  \n",
       "25%                1.000000             6429.000000       4.000000  \n",
       "50%                2.000000            13660.000000       5.000000  \n",
       "75%                4.000000            28605.000000       5.000000  \n",
       "max               24.000000            99730.000000       5.000000  "
      ]
     },
     "execution_count": 53,
     "metadata": {},
     "output_type": "execute_result"
    }
   ],
   "source": [
    "data.describe(include=['int'])"
   ]
  },
  {
   "cell_type": "code",
   "execution_count": 54,
   "id": "c22f8b84-0d8c-4586-897e-b400a7d779e1",
   "metadata": {
    "tags": []
   },
   "outputs": [
    {
     "data": {
      "text/html": [
       "<div>\n",
       "<style scoped>\n",
       "    .dataframe tbody tr th:only-of-type {\n",
       "        vertical-align: middle;\n",
       "    }\n",
       "\n",
       "    .dataframe tbody tr th {\n",
       "        vertical-align: top;\n",
       "    }\n",
       "\n",
       "    .dataframe thead th {\n",
       "        text-align: right;\n",
       "    }\n",
       "</style>\n",
       "<table border=\"1\" class=\"dataframe\">\n",
       "  <thead>\n",
       "    <tr style=\"text-align: right;\">\n",
       "      <th></th>\n",
       "      <th>price</th>\n",
       "      <th>freight_value</th>\n",
       "      <th>product_name_lenght</th>\n",
       "      <th>product_description_lenght</th>\n",
       "      <th>product_photos_qty</th>\n",
       "      <th>product_weight_g</th>\n",
       "      <th>product_length_cm</th>\n",
       "      <th>product_height_cm</th>\n",
       "      <th>product_width_cm</th>\n",
       "      <th>payment_value</th>\n",
       "    </tr>\n",
       "  </thead>\n",
       "  <tbody>\n",
       "    <tr>\n",
       "      <th>count</th>\n",
       "      <td>115609.000000</td>\n",
       "      <td>115609.000000</td>\n",
       "      <td>115609.000000</td>\n",
       "      <td>115609.000000</td>\n",
       "      <td>115609.000000</td>\n",
       "      <td>115608.000000</td>\n",
       "      <td>115608.000000</td>\n",
       "      <td>115608.000000</td>\n",
       "      <td>115608.000000</td>\n",
       "      <td>115609.000000</td>\n",
       "    </tr>\n",
       "    <tr>\n",
       "      <th>mean</th>\n",
       "      <td>120.619850</td>\n",
       "      <td>20.056880</td>\n",
       "      <td>48.766541</td>\n",
       "      <td>785.808198</td>\n",
       "      <td>2.205373</td>\n",
       "      <td>2113.907697</td>\n",
       "      <td>30.307903</td>\n",
       "      <td>16.638477</td>\n",
       "      <td>23.113167</td>\n",
       "      <td>172.387379</td>\n",
       "    </tr>\n",
       "    <tr>\n",
       "      <th>std</th>\n",
       "      <td>182.653476</td>\n",
       "      <td>15.836184</td>\n",
       "      <td>10.034187</td>\n",
       "      <td>652.418619</td>\n",
       "      <td>1.717771</td>\n",
       "      <td>3781.754895</td>\n",
       "      <td>16.211108</td>\n",
       "      <td>13.473570</td>\n",
       "      <td>11.755083</td>\n",
       "      <td>265.873969</td>\n",
       "    </tr>\n",
       "    <tr>\n",
       "      <th>min</th>\n",
       "      <td>0.850000</td>\n",
       "      <td>0.000000</td>\n",
       "      <td>5.000000</td>\n",
       "      <td>4.000000</td>\n",
       "      <td>1.000000</td>\n",
       "      <td>0.000000</td>\n",
       "      <td>7.000000</td>\n",
       "      <td>2.000000</td>\n",
       "      <td>6.000000</td>\n",
       "      <td>0.000000</td>\n",
       "    </tr>\n",
       "    <tr>\n",
       "      <th>25%</th>\n",
       "      <td>39.900000</td>\n",
       "      <td>13.080000</td>\n",
       "      <td>42.000000</td>\n",
       "      <td>346.000000</td>\n",
       "      <td>1.000000</td>\n",
       "      <td>300.000000</td>\n",
       "      <td>18.000000</td>\n",
       "      <td>8.000000</td>\n",
       "      <td>15.000000</td>\n",
       "      <td>60.870000</td>\n",
       "    </tr>\n",
       "    <tr>\n",
       "      <th>50%</th>\n",
       "      <td>74.900000</td>\n",
       "      <td>16.320000</td>\n",
       "      <td>52.000000</td>\n",
       "      <td>600.000000</td>\n",
       "      <td>1.000000</td>\n",
       "      <td>700.000000</td>\n",
       "      <td>25.000000</td>\n",
       "      <td>13.000000</td>\n",
       "      <td>20.000000</td>\n",
       "      <td>108.050000</td>\n",
       "    </tr>\n",
       "    <tr>\n",
       "      <th>75%</th>\n",
       "      <td>134.900000</td>\n",
       "      <td>21.210000</td>\n",
       "      <td>57.000000</td>\n",
       "      <td>983.000000</td>\n",
       "      <td>3.000000</td>\n",
       "      <td>1800.000000</td>\n",
       "      <td>38.000000</td>\n",
       "      <td>20.000000</td>\n",
       "      <td>30.000000</td>\n",
       "      <td>189.480000</td>\n",
       "    </tr>\n",
       "    <tr>\n",
       "      <th>max</th>\n",
       "      <td>6735.000000</td>\n",
       "      <td>409.680000</td>\n",
       "      <td>76.000000</td>\n",
       "      <td>3992.000000</td>\n",
       "      <td>20.000000</td>\n",
       "      <td>40425.000000</td>\n",
       "      <td>105.000000</td>\n",
       "      <td>105.000000</td>\n",
       "      <td>118.000000</td>\n",
       "      <td>13664.080000</td>\n",
       "    </tr>\n",
       "  </tbody>\n",
       "</table>\n",
       "</div>"
      ],
      "text/plain": [
       "               price  freight_value  product_name_lenght  \\\n",
       "count  115609.000000  115609.000000        115609.000000   \n",
       "mean      120.619850      20.056880            48.766541   \n",
       "std       182.653476      15.836184            10.034187   \n",
       "min         0.850000       0.000000             5.000000   \n",
       "25%        39.900000      13.080000            42.000000   \n",
       "50%        74.900000      16.320000            52.000000   \n",
       "75%       134.900000      21.210000            57.000000   \n",
       "max      6735.000000     409.680000            76.000000   \n",
       "\n",
       "       product_description_lenght  product_photos_qty  product_weight_g  \\\n",
       "count               115609.000000       115609.000000     115608.000000   \n",
       "mean                   785.808198            2.205373       2113.907697   \n",
       "std                    652.418619            1.717771       3781.754895   \n",
       "min                      4.000000            1.000000          0.000000   \n",
       "25%                    346.000000            1.000000        300.000000   \n",
       "50%                    600.000000            1.000000        700.000000   \n",
       "75%                    983.000000            3.000000       1800.000000   \n",
       "max                   3992.000000           20.000000      40425.000000   \n",
       "\n",
       "       product_length_cm  product_height_cm  product_width_cm  payment_value  \n",
       "count      115608.000000      115608.000000     115608.000000  115609.000000  \n",
       "mean           30.307903          16.638477         23.113167     172.387379  \n",
       "std            16.211108          13.473570         11.755083     265.873969  \n",
       "min             7.000000           2.000000          6.000000       0.000000  \n",
       "25%            18.000000           8.000000         15.000000      60.870000  \n",
       "50%            25.000000          13.000000         20.000000     108.050000  \n",
       "75%            38.000000          20.000000         30.000000     189.480000  \n",
       "max           105.000000         105.000000        118.000000   13664.080000  "
      ]
     },
     "execution_count": 54,
     "metadata": {},
     "output_type": "execute_result"
    }
   ],
   "source": [
    "data.describe(include=['float'])"
   ]
  },
  {
   "cell_type": "code",
   "execution_count": 55,
   "id": "0433e8a7-50b1-4b8b-8339-6af311e93cd1",
   "metadata": {
    "tags": []
   },
   "outputs": [
    {
     "data": {
      "text/plain": [
       "<AxesSubplot: >"
      ]
     },
     "execution_count": 55,
     "metadata": {},
     "output_type": "execute_result"
    },
    {
     "data": {
      "image/png": "[encoded data removed]",
      "text/plain": [
       "<Figure size 640x480 with 1 Axes>"
      ]
     },
     "metadata": {},
     "output_type": "display_data"
    }
   ],
   "source": [
    "sns.violinplot(data.price,orient='h')"
   ]
  },
  {
   "cell_type": "code",
   "execution_count": 56,
   "id": "d5f272c0-3b52-44d5-ba89-8279a79d9e78",
   "metadata": {
    "tags": []
   },
   "outputs": [],
   "source": [
    "import seaborn as sn"
   ]
  },
  {
   "cell_type": "code",
   "execution_count": 74,
   "id": "fde87356-f1f5-4b81-8eee-f33a03454b98",
   "metadata": {
    "tags": []
   },
   "outputs": [],
   "source": [
    "import scipy.stats as st"
   ]
  },
  {
   "cell_type": "code",
   "execution_count": 75,
   "id": "a09ca05a-729e-45a7-a0bf-7593e9948763",
   "metadata": {},
   "outputs": [],
   "source": [
    "def all_plot():\n",
    "    for i in data.columns:\n",
    "        if data[i].dtype != 'object':\n",
    "            %matplotlib qt\n",
    "\n",
    "            print()\n",
    "            try:\n",
    "                q1,q3=data[i].quantile([0.25,0.75])\n",
    "                IQR=q3-q1\n",
    "                low_lim = q1 - 1.5 * IQR\n",
    "                up_lim = q3 + 1.5 * IQR\n",
    "                out_count= data[i][~(data[i] >low_lim) & ~(data[i] < up_lim)].shape\n",
    "                print(i)\n",
    "                print('outlier_count > ',out_count)\n",
    "                in_count= data[i][(data[i] >low_lim) & (data[i] < up_lim)].shape\n",
    "                print('inlier_count > ',in_count)\n",
    "                print('skew',data[i][(data[i] >low_lim) & (data[i] < up_lim)].skew())\n",
    "                if data[i][(data[i] >low_lim) & (data[i] < up_lim)].shape[0] > 2: \n",
    "                    print('kurtosis',st.kurtosis(data[i][(data[i] >low_lim) & (data[i] < up_lim)]))\n",
    "                    print('shapiro_willk',st.shapiro(data[i][(data[i] >low_lim) & (data[i] < up_lim)]))\n",
    "                    yield sn.boxenplot(data[i],orient='h')\n",
    "            except Exception as e:\n",
    "                print(e)"
   ]
  },
  {
   "cell_type": "code",
   "execution_count": 76,
   "id": "f718cadc-67ad-4d5f-a671-84537d50114d",
   "metadata": {
    "tags": []
   },
   "outputs": [],
   "source": [
    "new=all_plot()"
   ]
  },
  {
   "cell_type": "code",
   "execution_count": 77,
   "id": "945cb8fa-4623-42a7-bd45-ab2dba3d468d",
   "metadata": {
    "tags": []
   },
   "outputs": [
    {
     "data": {
      "text/plain": [
       "<AxesSubplot: >"
      ]
     },
     "execution_count": 77,
     "metadata": {},
     "output_type": "execute_result"
    }
   ],
   "source": [
    "sn.boxenplot(data['payment_installments'],orient='h')"
   ]
  },
  {
   "cell_type": "code",
   "execution_count": null,
   "id": "9ba0ec1a-4b75-48eb-aa31-42650d61b4ae",
   "metadata": {
    "tags": []
   },
   "outputs": [],
   "source": [
    "next(new)"
   ]
  },
  {
   "cell_type": "code",
   "execution_count": null,
   "id": "45880655-3b52-4992-870a-410aaccafc0a",
   "metadata": {},
   "outputs": [],
   "source": []
  },
  {
   "cell_type": "code",
   "execution_count": 64,
   "id": "df00d131-5ba6-40b5-a31c-c6e8020acbf3",
   "metadata": {
    "tags": []
   },
   "outputs": [],
   "source": [
    "def all_plot():\n",
    "    for i in data.columns:\n",
    "        if data[i].dtype != 'object':\n",
    "            %matplotlib qt\n",
    "\n",
    "            print()\n",
    "            try:\n",
    "                q1,q3=data[i].quantile([0.25,0.75])\n",
    "                IQR=q3-q1\n",
    "                low_lim = q1 - 1.5 * IQR\n",
    "                up_lim = q3 + 1.5 * IQR\n",
    "                out_count= data[i][~(data[i] >low_lim) & ~(data[i] < up_lim)].shape\n",
    "                print(i)\n",
    "                print('outlier_count > ',out_count)\n",
    "                in_count= data[i][(data[i] >low_lim) & (data[i] < up_lim)].shape\n",
    "                print('inlier_count > ',in_count)\n",
    "                print('skew',data[i][(data[i] >low_lim) & (data[i] < up_lim)].skew())\n",
    "                if data[i][(data[i] >low_lim) & (data[i] < up_lim)].shape[0] > 2: \n",
    "                    print('kurtosis',st.kurtosis(data[i][(data[i] >low_lim) & (data[i] < up_lim)]))\n",
    "                    print('shapiro_willk',st.shapiro(data[i][(data[i] >low_lim) & (data[i] < up_lim)]))\n",
    "                yield sn.violinplot(x=data[i][(data[i] >low_lim) & (data[i] < up_lim)],orient='h')\n",
    "            except Exception as e:\n",
    "                print(e)"
   ]
  },
  {
   "cell_type": "code",
   "execution_count": 65,
   "id": "c45f70e6-bb24-4c7d-a279-2578ad0bb8a9",
   "metadata": {
    "tags": []
   },
   "outputs": [],
   "source": [
    "\n",
    "new=all_plot()"
   ]
  },
  {
   "cell_type": "code",
   "execution_count": 82,
   "id": "b2ad7f07-6c5a-49d2-aa2b-a1804de50312",
   "metadata": {
    "tags": []
   },
   "outputs": [
    {
     "ename": "StopIteration",
     "evalue": "",
     "output_type": "error",
     "traceback": [
      "\u001b[0;31m---------------------------------------------------------------------------\u001b[0m",
      "\u001b[0;31mStopIteration\u001b[0m                             Traceback (most recent call last)",
      "Cell \u001b[0;32mIn[82], line 1\u001b[0m\n\u001b[0;32m----> 1\u001b[0m \u001b[38;5;28;43mnext\u001b[39;49m\u001b[43m(\u001b[49m\u001b[43mnew\u001b[49m\u001b[43m)\u001b[49m\n",
      "\u001b[0;31mStopIteration\u001b[0m: "
     ]
    }
   ],
   "source": [
    "next(new)"
   ]
  }
 ],
 "metadata": {
  "kernelspec": {
   "display_name": "Python 3 (ipykernel)",
   "language": "python",
   "name": "python3"
  },
  "language_info": {
   "codemirror_mode": {
    "name": "ipython",
    "version": 3
   },
   "file_extension": ".py",
   "mimetype": "text/x-python",
   "name": "python",
   "nbconvert_exporter": "python",
   "pygments_lexer": "ipython3",
   "version": "3.10.12"
  }
 },
 "nbformat": 4,
 "nbformat_minor": 5
}
