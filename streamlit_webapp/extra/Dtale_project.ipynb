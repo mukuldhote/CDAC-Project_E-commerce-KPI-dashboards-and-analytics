{
 "cells": [
  {
   "cell_type": "code",
   "execution_count": 2,
   "id": "76bbdfb8-77f4-493c-ab3b-6c8d9a8a0410",
   "metadata": {
    "tags": []
   },
   "outputs": [],
   "source": [
    "import dtale"
   ]
  },
  {
   "cell_type": "code",
   "execution_count": 46,
   "id": "769676f3-3020-4911-abdf-5c7d0604c113",
   "metadata": {
    "tags": []
   },
   "outputs": [],
   "source": [
    "import pandas as pd\n",
    "import scipy.stats as st"
   ]
  },
  {
   "cell_type": "code",
   "execution_count": 4,
   "id": "9cdfa97a-6e25-4083-a13d-7415c98f8df4",
   "metadata": {
    "tags": []
   },
   "outputs": [],
   "source": [
    "raw_path=''"
   ]
  },
  {
   "cell_type": "code",
   "execution_count": 5,
   "id": "0dea0b83-97ff-4a44-a1ec-6eb5827fdc54",
   "metadata": {
    "tags": []
   },
   "outputs": [],
   "source": [
    "olist_customer = pd.read_csv(raw_path + 'olist_customers_dataset.csv')\n",
    "olist_geolocation = pd.read_csv(raw_path + 'olist_geolocation_dataset.csv')\n",
    "olist_orders = pd.read_csv(raw_path + 'olist_orders_dataset.csv')\n",
    "olist_order_items = pd.read_csv(raw_path + 'olist_order_items_dataset.csv')\n",
    "olist_order_payments = pd.read_csv(raw_path + 'olist_order_payments_dataset.csv')\n",
    "olist_order_reviews = pd.read_csv(raw_path + 'olist_order_reviews_dataset.csv')\n",
    "olist_products = pd.read_csv(raw_path + 'olist_products_dataset.csv')\n",
    "olist_sellers = pd.read_csv(raw_path + 'olist_sellers_dataset.csv')\n",
    "olist_categname = pd.read_csv(raw_path + 'product_category_name_translation.csv')\n"
   ]
  },
  {
   "cell_type": "code",
   "execution_count": 6,
   "id": "42cbab19-0a66-447b-9205-2e10ec2e7c99",
   "metadata": {
    "tags": []
   },
   "outputs": [
    {
     "data": {
      "text/plain": [
       "Index(['product_category_name', 'product_category_name_english'], dtype='object')"
      ]
     },
     "execution_count": 6,
     "metadata": {},
     "output_type": "execute_result"
    }
   ],
   "source": [
    "olist_categname.columns"
   ]
  },
  {
   "cell_type": "code",
   "execution_count": 7,
   "id": "64792db0-6984-490f-9fd0-e70806ab06e9",
   "metadata": {
    "tags": []
   },
   "outputs": [
    {
     "data": {
      "text/plain": [
       "Index(['geolocation_zip_code_prefix', 'geolocation_lat', 'geolocation_lng',\n",
       "       'geolocation_city', 'geolocation_state'],\n",
       "      dtype='object')"
      ]
     },
     "execution_count": 7,
     "metadata": {},
     "output_type": "execute_result"
    }
   ],
   "source": [
    "olist_geolocation.columns"
   ]
  },
  {
   "cell_type": "code",
   "execution_count": null,
   "id": "1c2d1f7e-242f-4d24-852b-4f47d41b0f18",
   "metadata": {},
   "outputs": [],
   "source": []
  },
  {
   "cell_type": "code",
   "execution_count": 8,
   "id": "78d879cd-d4c4-4992-b249-23ff67883768",
   "metadata": {
    "tags": []
   },
   "outputs": [],
   "source": [
    "data = olist_orders.merge(olist_customer, on=\"customer_id\") \\\n",
    ".merge(olist_order_items, on=\"order_id\") \\\n",
    ".merge(olist_products , on=\"product_id\") \\\n",
    ".merge(olist_categname, on=\"product_category_name\") \\\n",
    ".merge(olist_order_payments, on=\"order_id\") \\\n",
    ".merge(olist_sellers, on=\"seller_id\") \\\n",
    ".merge(olist_order_reviews, on=\"order_id\")"
   ]
  },
  {
   "cell_type": "code",
   "execution_count": 9,
   "id": "93f76c5d-2a7c-453f-b4f0-a226672ec534",
   "metadata": {
    "tags": []
   },
   "outputs": [
    {
     "name": "stderr",
     "output_type": "stream",
     "text": [
      "/home/kar911/.local/lib/python3.10/site-packages/dtale/views.py:756: FutureWarning:\n",
      "\n",
      "['order_approved_at', 'order_delivered_carrier_date', 'order_delivered_customer_date', 'review_comment_title', 'review_comment_message'] did not aggregate successfully. If any error is raised this will raise in a future version of pandas. Drop these columns/ops to avoid this warning.\n",
      "\n"
     ]
    },
    {
     "data": {
      "text/plain": []
     },
     "execution_count": 9,
     "metadata": {},
     "output_type": "execute_result"
    }
   ],
   "source": [
    "dtale.show(data,open_browser=True)"
   ]
  },
  {
   "cell_type": "code",
   "execution_count": 10,
   "id": "0d1bb1a1-b087-43f5-9a8d-c926113acc1a",
   "metadata": {
    "tags": []
   },
   "outputs": [],
   "source": [
    "import scipy.stats as st\n",
    "import seaborn as sn\n",
    "import matplotlib.pyplot as plt"
   ]
  },
  {
   "cell_type": "markdown",
   "id": "e37185bc-e397-42f8-91df-6baa048b851e",
   "metadata": {
    "tags": []
   },
   "source": [
    "# plot the sns.violen for all eligible"
   ]
  },
  {
   "cell_type": "code",
   "execution_count": 11,
   "id": "d17dfa89-7701-4f36-9ee6-7808e26beba1",
   "metadata": {},
   "outputs": [
    {
     "name": "stderr",
     "output_type": "stream",
     "text": [
      "/tmp/ipykernel_6564/2858318647.py:1: FutureWarning:\n",
      "\n",
      "The default value of numeric_only in DataFrame.quantile is deprecated. In a future version, it will default to False. Select only valid columns or specify the value of numeric_only to silence this warning.\n",
      "\n"
     ]
    },
    {
     "data": {
      "text/html": [
       "<div>\n",
       "<style scoped>\n",
       "    .dataframe tbody tr th:only-of-type {\n",
       "        vertical-align: middle;\n",
       "    }\n",
       "\n",
       "    .dataframe tbody tr th {\n",
       "        vertical-align: top;\n",
       "    }\n",
       "\n",
       "    .dataframe thead th {\n",
       "        text-align: right;\n",
       "    }\n",
       "</style>\n",
       "<table border=\"1\" class=\"dataframe\">\n",
       "  <thead>\n",
       "    <tr style=\"text-align: right;\">\n",
       "      <th></th>\n",
       "      <th>customer_zip_code_prefix</th>\n",
       "      <th>order_item_id</th>\n",
       "      <th>price</th>\n",
       "      <th>freight_value</th>\n",
       "      <th>product_name_lenght</th>\n",
       "      <th>product_description_lenght</th>\n",
       "      <th>product_photos_qty</th>\n",
       "      <th>product_weight_g</th>\n",
       "      <th>product_length_cm</th>\n",
       "      <th>product_height_cm</th>\n",
       "      <th>product_width_cm</th>\n",
       "      <th>payment_sequential</th>\n",
       "      <th>payment_installments</th>\n",
       "      <th>payment_value</th>\n",
       "      <th>seller_zip_code_prefix</th>\n",
       "      <th>review_score</th>\n",
       "    </tr>\n",
       "  </thead>\n",
       "  <tbody>\n",
       "    <tr>\n",
       "      <th>0.25</th>\n",
       "      <td>11310.0</td>\n",
       "      <td>1.0</td>\n",
       "      <td>39.9</td>\n",
       "      <td>13.08</td>\n",
       "      <td>42.0</td>\n",
       "      <td>346.0</td>\n",
       "      <td>1.0</td>\n",
       "      <td>300.0</td>\n",
       "      <td>18.0</td>\n",
       "      <td>8.0</td>\n",
       "      <td>15.0</td>\n",
       "      <td>1.0</td>\n",
       "      <td>1.0</td>\n",
       "      <td>60.87</td>\n",
       "      <td>6429.0</td>\n",
       "      <td>4.0</td>\n",
       "    </tr>\n",
       "    <tr>\n",
       "      <th>0.75</th>\n",
       "      <td>58745.0</td>\n",
       "      <td>1.0</td>\n",
       "      <td>134.9</td>\n",
       "      <td>21.21</td>\n",
       "      <td>57.0</td>\n",
       "      <td>983.0</td>\n",
       "      <td>3.0</td>\n",
       "      <td>1800.0</td>\n",
       "      <td>38.0</td>\n",
       "      <td>20.0</td>\n",
       "      <td>30.0</td>\n",
       "      <td>1.0</td>\n",
       "      <td>4.0</td>\n",
       "      <td>189.48</td>\n",
       "      <td>28605.0</td>\n",
       "      <td>5.0</td>\n",
       "    </tr>\n",
       "  </tbody>\n",
       "</table>\n",
       "</div>"
      ],
      "text/plain": [
       "      customer_zip_code_prefix  order_item_id  price  freight_value  \\\n",
       "0.25                   11310.0            1.0   39.9          13.08   \n",
       "0.75                   58745.0            1.0  134.9          21.21   \n",
       "\n",
       "      product_name_lenght  product_description_lenght  product_photos_qty  \\\n",
       "0.25                 42.0                       346.0                 1.0   \n",
       "0.75                 57.0                       983.0                 3.0   \n",
       "\n",
       "      product_weight_g  product_length_cm  product_height_cm  \\\n",
       "0.25             300.0               18.0                8.0   \n",
       "0.75            1800.0               38.0               20.0   \n",
       "\n",
       "      product_width_cm  payment_sequential  payment_installments  \\\n",
       "0.25              15.0                 1.0                   1.0   \n",
       "0.75              30.0                 1.0                   4.0   \n",
       "\n",
       "      payment_value  seller_zip_code_prefix  review_score  \n",
       "0.25          60.87                  6429.0           4.0  \n",
       "0.75         189.48                 28605.0           5.0  "
      ]
     },
     "execution_count": 11,
     "metadata": {},
     "output_type": "execute_result"
    }
   ],
   "source": [
    "data.quantile([0.25,0.75])"
   ]
  },
  {
   "cell_type": "code",
   "execution_count": 12,
   "id": "93ebd636-a29c-489e-aa34-66cafeaaf667",
   "metadata": {
    "tags": []
   },
   "outputs": [
    {
     "data": {
      "text/plain": [
       "(16,)"
      ]
     },
     "execution_count": 12,
     "metadata": {},
     "output_type": "execute_result"
    }
   ],
   "source": [
    "data.select_dtypes(exclude='O').columns.shape"
   ]
  },
  {
   "cell_type": "code",
   "execution_count": 64,
   "id": "279191eb-69c3-44e4-b938-645e22e2ac74",
   "metadata": {
    "tags": []
   },
   "outputs": [],
   "source": [
    "def all_plot():\n",
    "    for i in data.columns:\n",
    "        if data[i].dtype != 'object':\n",
    "            %matplotlib qt\n",
    "\n",
    "            print()\n",
    "            try:\n",
    "                q1,q3=data[i].quantile([0.25,0.75])\n",
    "                IQR=q3-q1\n",
    "                low_lim = q1 - 1.5 * IQR\n",
    "                up_lim = q3 + 1.5 * IQR\n",
    "                out_count= data[i][~(data[i] >low_lim) & ~(data[i] < up_lim)].shape\n",
    "                print(i)\n",
    "                print('outlier_count > ',out_count)\n",
    "                in_count= data[i][(data[i] >low_lim) & (data[i] < up_lim)].shape\n",
    "                print('inlier_count > ',in_count)\n",
    "                print('skew',data[i][(data[i] >low_lim) & (data[i] < up_lim)].skew())\n",
    "                if data[i][(data[i] >low_lim) & (data[i] < up_lim)].shape[0] > 2: \n",
    "                    print('kurtosis',st.kurtosis(data[i][(data[i] >low_lim) & (data[i] < up_lim)]))\n",
    "                    print('shapiro_willk',st.shapiro(data[i][(data[i] >low_lim) & (data[i] < up_lim)]))\n",
    "                yield sn.violinplot(x=data[i][(data[i] >low_lim) & (data[i] < up_lim)],orient='h')\n",
    "            except Exception as e:\n",
    "                print(e)"
   ]
  },
  {
   "cell_type": "code",
   "execution_count": 65,
   "id": "f6f06f55-320a-4ec2-822f-b95cf31a9755",
   "metadata": {
    "tags": []
   },
   "outputs": [],
   "source": [
    "\n",
    "new=all_plot()"
   ]
  },
  {
   "cell_type": "code",
   "execution_count": 82,
   "id": "83524738-0544-4727-8869-5217a7a45862",
   "metadata": {
    "tags": []
   },
   "outputs": [
    {
     "ename": "StopIteration",
     "evalue": "",
     "output_type": "error",
     "traceback": [
      "\u001b[0;31m---------------------------------------------------------------------------\u001b[0m",
      "\u001b[0;31mStopIteration\u001b[0m                             Traceback (most recent call last)",
      "Cell \u001b[0;32mIn[82], line 1\u001b[0m\n\u001b[0;32m----> 1\u001b[0m \u001b[38;5;28;43mnext\u001b[39;49m\u001b[43m(\u001b[49m\u001b[43mnew\u001b[49m\u001b[43m)\u001b[49m\n",
      "\u001b[0;31mStopIteration\u001b[0m: "
     ]
    }
   ],
   "source": [
    "next(new)"
   ]
  },
  {
   "cell_type": "code",
   "execution_count": null,
   "id": "07af43de-ca1e-45f2-863a-0df07c9c4981",
   "metadata": {},
   "outputs": [],
   "source": [
    "import seaborn as sns\n",
    "import matplotlib.pyplot as plt\n",
    "\n",
    "# Set the Matplotlib backend to 'qt'\n",
    "%matplotlib qt\n",
    "\n",
    "# Create a Seaborn plot\n",
    "sns.set(style=\"whitegrid\")\n",
    "tips = sns.load_dataset(\"tips\")\n",
    "ax = sns.barplot(x=\"day\", y=\"total_bill\", data=tips)\n",
    "\n",
    "# Save the plot to a file\n",
    "# fig = ax.get_figure()\n",
    "# fig.savefig(\"seaborn_plot.png\")"
   ]
  },
  {
   "cell_type": "code",
   "execution_count": null,
   "id": "7b5faa04-e3f9-439c-986c-86fb410f37e7",
   "metadata": {},
   "outputs": [],
   "source": [
    "# Close the Matplotlib window\n",
    "plt.close(fig)"
   ]
  },
  {
   "cell_type": "code",
   "execution_count": 4,
   "id": "3aac543d-80fc-4d09-8905-2af4d0cdaefb",
   "metadata": {
    "tags": []
   },
   "outputs": [
    {
     "name": "stdout",
     "output_type": "stream",
     "text": [
      "Defaulting to user installation because normal site-packages is not writeable\n",
      "Collecting PyQt5\n",
      "  Downloading PyQt5-5.15.10-cp37-abi3-manylinux_2_17_x86_64.whl.metadata (2.1 kB)\n",
      "Collecting PyQt5-sip<13,>=12.13 (from PyQt5)\n",
      "  Downloading PyQt5_sip-12.13.0-cp310-cp310-manylinux_2_5_x86_64.manylinux1_x86_64.whl.metadata (504 bytes)\n",
      "Collecting PyQt5-Qt5>=5.15.2 (from PyQt5)\n",
      "  Downloading PyQt5_Qt5-5.15.2-py3-none-manylinux2014_x86_64.whl (59.9 MB)\n",
      "\u001b[2K     \u001b[90m━━━━━━━━━━━━━━━━━━━━━━━━━━━━━━━━━━━━━━━━\u001b[0m \u001b[32m59.9/59.9 MB\u001b[0m \u001b[31m5.6 MB/s\u001b[0m eta \u001b[36m0:00:00\u001b[0m00:01\u001b[0m00:01\u001b[0mm\n",
      "\u001b[?25hDownloading PyQt5-5.15.10-cp37-abi3-manylinux_2_17_x86_64.whl (8.2 MB)\n",
      "\u001b[2K   \u001b[90m━━━━━━━━━━━━━━━━━━━━━━━━━━━━━━━━━━━━━━━━\u001b[0m \u001b[32m8.2/8.2 MB\u001b[0m \u001b[31m7.6 MB/s\u001b[0m eta \u001b[36m0:00:00\u001b[0m00:01\u001b[0m00:01\u001b[0m\n",
      "\u001b[?25hDownloading PyQt5_sip-12.13.0-cp310-cp310-manylinux_2_5_x86_64.manylinux1_x86_64.whl (338 kB)\n",
      "\u001b[2K   \u001b[90m━━━━━━━━━━━━━━━━━━━━━━━━━━━━━━━━━━━━━━━━\u001b[0m \u001b[32m338.1/338.1 kB\u001b[0m \u001b[31m7.1 MB/s\u001b[0m eta \u001b[36m0:00:00\u001b[0mta \u001b[36m0:00:01\u001b[0m\n",
      "\u001b[?25hInstalling collected packages: PyQt5-Qt5, PyQt5-sip, PyQt5\n",
      "Successfully installed PyQt5-5.15.10 PyQt5-Qt5-5.15.2 PyQt5-sip-12.13.0\n"
     ]
    }
   ],
   "source": [
    "!pip install PyQt5\n"
   ]
  },
  {
   "cell_type": "code",
   "execution_count": 5,
   "id": "efd9a0a9-02f6-4110-885e-d57ddf690402",
   "metadata": {
    "tags": []
   },
   "outputs": [
    {
     "name": "stdout",
     "output_type": "stream",
     "text": [
      "Defaulting to user installation because normal site-packages is not writeable\n",
      "Collecting PySide2\n",
      "  Downloading PySide2-5.15.2.1-5.15.2-cp35.cp36.cp37.cp38.cp39.cp310-abi3-manylinux1_x86_64.whl (164.3 MB)\n",
      "\u001b[2K     \u001b[90m━━━━━━━━━━━━━━━━━━━━━━━━━━━━━━━━━━━━━━━\u001b[0m \u001b[32m164.3/164.3 MB\u001b[0m \u001b[31m3.0 MB/s\u001b[0m eta \u001b[36m0:00:00\u001b[0m00:01\u001b[0m00:02\u001b[0m\n",
      "\u001b[?25hCollecting shiboken2==5.15.2.1 (from PySide2)\n",
      "  Downloading shiboken2-5.15.2.1-5.15.2-cp35.cp36.cp37.cp38.cp39.cp310-abi3-manylinux1_x86_64.whl (975 kB)\n",
      "\u001b[2K     \u001b[90m━━━━━━━━━━━━━━━━━━━━━━━━━━━━━━━━━━━━━━━\u001b[0m \u001b[32m975.4/975.4 kB\u001b[0m \u001b[31m4.8 MB/s\u001b[0m eta \u001b[36m0:00:00\u001b[0m00:01\u001b[0m00:01\u001b[0m\n",
      "\u001b[?25hInstalling collected packages: shiboken2, PySide2\n",
      "Successfully installed PySide2-5.15.2.1 shiboken2-5.15.2.1\n"
     ]
    }
   ],
   "source": [
    "!pip install PySide2\n"
   ]
  },
  {
   "cell_type": "code",
   "execution_count": null,
   "id": "c1873467-d4cb-4f2a-ab9a-4ae8d9cdadb6",
   "metadata": {},
   "outputs": [],
   "source": []
  }
 ],
 "metadata": {
  "kernelspec": {
   "display_name": "Python 3 (ipykernel)",
   "language": "python",
   "name": "python3"
  },
  "language_info": {
   "codemirror_mode": {
    "name": "ipython",
    "version": 3
   },
   "file_extension": ".py",
   "mimetype": "text/x-python",
   "name": "python",
   "nbconvert_exporter": "python",
   "pygments_lexer": "ipython3",
   "version": "3.10.12"
  }
 },
 "nbformat": 4,
 "nbformat_minor": 5
}
