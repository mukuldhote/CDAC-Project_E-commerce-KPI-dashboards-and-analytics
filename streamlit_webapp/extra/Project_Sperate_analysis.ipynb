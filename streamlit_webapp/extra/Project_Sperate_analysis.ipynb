{
 "cells": [
  {
   "cell_type": "code",
   "execution_count": 1,
   "id": "f08924d1-eea6-4dac-9ea1-6229f20e2c86",
   "metadata": {
    "tags": []
   },
   "outputs": [],
   "source": [
    "import pandas as pd\n",
    "import numpy as np\n",
    "import seaborn as sn\n",
    "import matplotlib.pyplot as plt\n",
    "from scipy.stats import *"
   ]
  },
  {
   "cell_type": "code",
   "execution_count": 2,
   "id": "7534333f-b99e-4740-9354-1866ac9633c6",
   "metadata": {
    "tags": []
   },
   "outputs": [],
   "source": [
    "raw_path=''"
   ]
  },
  {
   "cell_type": "code",
   "execution_count": 3,
   "id": "916c3a8f-3ee9-4dda-b2c2-0720b847815f",
   "metadata": {
    "tags": []
   },
   "outputs": [],
   "source": [
    "olist_customer = pd.read_csv(raw_path + 'olist_customers_dataset.csv')"
   ]
  },
  {
   "cell_type": "code",
   "execution_count": 4,
   "id": "ef92ae63-379e-4a77-9ddd-9679a6a5d587",
   "metadata": {
    "tags": []
   },
   "outputs": [],
   "source": [
    "olist_geolocation = pd.read_csv(raw_path + 'olist_geolocation_dataset.csv')"
   ]
  },
  {
   "cell_type": "code",
   "execution_count": 5,
   "id": "a94f7dbb-44db-4e97-aacf-d3f194ae2583",
   "metadata": {
    "tags": []
   },
   "outputs": [],
   "source": [
    "olist_orders = pd.read_csv(raw_path + 'olist_orders_dataset.csv')"
   ]
  },
  {
   "cell_type": "code",
   "execution_count": 6,
   "id": "b773f582-5d90-4c26-9326-4e89d82ff7d1",
   "metadata": {
    "tags": []
   },
   "outputs": [],
   "source": [
    "olist_order_items = pd.read_csv(raw_path + 'olist_order_items_dataset.csv')"
   ]
  },
  {
   "cell_type": "code",
   "execution_count": 7,
   "id": "69de9e1f-9025-496e-98c7-823709d290d5",
   "metadata": {
    "tags": []
   },
   "outputs": [],
   "source": [
    "olist_order_payments = pd.read_csv(raw_path + 'olist_order_payments_dataset.csv')"
   ]
  },
  {
   "cell_type": "code",
   "execution_count": 8,
   "id": "78285f67-4a1e-4fe7-b2be-04ded17d5d9b",
   "metadata": {
    "tags": []
   },
   "outputs": [],
   "source": [
    "olist_order_reviews = pd.read_csv(raw_path + 'olist_order_reviews_dataset.csv')"
   ]
  },
  {
   "cell_type": "code",
   "execution_count": 9,
   "id": "c2b8338f-8907-4473-bfad-40c0bcedd2b2",
   "metadata": {
    "tags": []
   },
   "outputs": [],
   "source": [
    "olist_products = pd.read_csv(raw_path + 'olist_products_dataset.csv')"
   ]
  },
  {
   "cell_type": "code",
   "execution_count": 10,
   "id": "8231139f-e6fa-4b84-9bd7-6086271ef4ca",
   "metadata": {
    "tags": []
   },
   "outputs": [],
   "source": [
    "olist_sellers = pd.read_csv(raw_path + 'olist_sellers_dataset.csv')"
   ]
  },
  {
   "cell_type": "code",
   "execution_count": 11,
   "id": "da7da719-6363-499e-8c54-6e47dc6b43c2",
   "metadata": {
    "tags": []
   },
   "outputs": [],
   "source": [
    "olist_categname = pd.read_csv(raw_path + 'product_category_name_translation.csv')"
   ]
  },
  {
   "cell_type": "markdown",
   "id": "a1b4d056-ff8e-4061-9642-a92a1f8d356b",
   "metadata": {},
   "source": [
    "# olist_customer --------------------------------------------------------"
   ]
  },
  {
   "cell_type": "code",
   "execution_count": 7,
   "id": "81714dd0-1b24-4ae1-b7ee-83031e957f42",
   "metadata": {
    "tags": []
   },
   "outputs": [
    {
     "name": "stdout",
     "output_type": "stream",
     "text": [
      "<class 'pandas.core.frame.DataFrame'>\n",
      "RangeIndex: 99441 entries, 0 to 99440\n",
      "Data columns (total 5 columns):\n",
      " #   Column                    Dtype \n",
      "---  ------                    ----- \n",
      " 0   customer_id               object\n",
      " 1   customer_unique_id        object\n",
      " 2   customer_zip_code_prefix  int64 \n",
      " 3   customer_city             object\n",
      " 4   customer_state            object\n",
      "dtypes: int64(1), object(4)\n",
      "memory usage: 3.8+ MB\n"
     ]
    }
   ],
   "source": [
    "olist_customer.info(verbose=True,show_counts=False)"
   ]
  },
  {
   "cell_type": "code",
   "execution_count": 8,
   "id": "2d75f87b-77d6-45ff-9028-2253f66d0ae5",
   "metadata": {
    "tags": []
   },
   "outputs": [
    {
     "name": "stdout",
     "output_type": "stream",
     "text": [
      "<class 'pandas.core.frame.DataFrame'>\n",
      "RangeIndex: 99441 entries, 0 to 99440\n",
      "Data columns (total 5 columns):\n",
      " #   Column                    Dtype \n",
      "---  ------                    ----- \n",
      " 0   customer_id               object\n",
      " 1   customer_unique_id        object\n",
      " 2   customer_zip_code_prefix  int64 \n",
      " 3   customer_city             object\n",
      " 4   customer_state            object\n",
      "dtypes: int64(1), object(4)\n",
      "memory usage: 3.8+ MB\n"
     ]
    }
   ],
   "source": [
    "olist_customer.info(verbose=True,show_counts=False)"
   ]
  },
  {
   "cell_type": "code",
   "execution_count": 9,
   "id": "99927e2d-de6a-4152-8d6f-af7d965d9fb9",
   "metadata": {
    "tags": []
   },
   "outputs": [
    {
     "data": {
      "text/plain": [
       "customer_id                 0\n",
       "customer_unique_id          0\n",
       "customer_zip_code_prefix    0\n",
       "customer_city               0\n",
       "customer_state              0\n",
       "dtype: int64"
      ]
     },
     "execution_count": 9,
     "metadata": {},
     "output_type": "execute_result"
    }
   ],
   "source": [
    "olist_customer.isna().sum()"
   ]
  },
  {
   "cell_type": "code",
   "execution_count": 10,
   "id": "5227c83c-7369-4207-9e6a-02170b749791",
   "metadata": {
    "tags": []
   },
   "outputs": [
    {
     "data": {
      "text/plain": [
       "customer_id                 99441\n",
       "customer_unique_id          96096\n",
       "customer_zip_code_prefix    14994\n",
       "customer_city                4119\n",
       "customer_state                 27\n",
       "dtype: int64"
      ]
     },
     "execution_count": 10,
     "metadata": {},
     "output_type": "execute_result"
    }
   ],
   "source": [
    "olist_customer.nunique()"
   ]
  },
  {
   "cell_type": "markdown",
   "id": "05c77b8a-e7cf-4f08-98b0-c54b5036895c",
   "metadata": {},
   "source": [
    "## the ,'customer_unique_id':'nunique' is not giving the same 'customer_id':'nunique'"
   ]
  },
  {
   "cell_type": "code",
   "execution_count": 11,
   "id": "0b781ed6-329d-4590-996b-e15e0b5c1358",
   "metadata": {
    "tags": []
   },
   "outputs": [
    {
     "data": {
      "text/html": [
       "<div>\n",
       "<style scoped>\n",
       "    .dataframe tbody tr th:only-of-type {\n",
       "        vertical-align: middle;\n",
       "    }\n",
       "\n",
       "    .dataframe tbody tr th {\n",
       "        vertical-align: top;\n",
       "    }\n",
       "\n",
       "    .dataframe thead th {\n",
       "        text-align: right;\n",
       "    }\n",
       "</style>\n",
       "<table border=\"1\" class=\"dataframe\">\n",
       "  <thead>\n",
       "    <tr style=\"text-align: right;\">\n",
       "      <th></th>\n",
       "      <th>customer_city</th>\n",
       "      <th>customer_zip_code_prefix</th>\n",
       "      <th>customer_unique_id</th>\n",
       "      <th>customer_id</th>\n",
       "    </tr>\n",
       "    <tr>\n",
       "      <th>customer_state</th>\n",
       "      <th></th>\n",
       "      <th></th>\n",
       "      <th></th>\n",
       "      <th></th>\n",
       "    </tr>\n",
       "  </thead>\n",
       "  <tbody>\n",
       "    <tr>\n",
       "      <th>MG</th>\n",
       "      <td>745</td>\n",
       "      <td>1349</td>\n",
       "      <td>11259</td>\n",
       "      <td>11635</td>\n",
       "    </tr>\n",
       "    <tr>\n",
       "      <th>SP</th>\n",
       "      <td>629</td>\n",
       "      <td>5591</td>\n",
       "      <td>40302</td>\n",
       "      <td>41746</td>\n",
       "    </tr>\n",
       "    <tr>\n",
       "      <th>RS</th>\n",
       "      <td>379</td>\n",
       "      <td>877</td>\n",
       "      <td>5277</td>\n",
       "      <td>5466</td>\n",
       "    </tr>\n",
       "    <tr>\n",
       "      <th>PR</th>\n",
       "      <td>364</td>\n",
       "      <td>861</td>\n",
       "      <td>4882</td>\n",
       "      <td>5045</td>\n",
       "    </tr>\n",
       "    <tr>\n",
       "      <th>BA</th>\n",
       "      <td>353</td>\n",
       "      <td>735</td>\n",
       "      <td>3277</td>\n",
       "      <td>3380</td>\n",
       "    </tr>\n",
       "    <tr>\n",
       "      <th>SC</th>\n",
       "      <td>240</td>\n",
       "      <td>517</td>\n",
       "      <td>3534</td>\n",
       "      <td>3637</td>\n",
       "    </tr>\n",
       "    <tr>\n",
       "      <th>GO</th>\n",
       "      <td>178</td>\n",
       "      <td>540</td>\n",
       "      <td>1952</td>\n",
       "      <td>2020</td>\n",
       "    </tr>\n",
       "    <tr>\n",
       "      <th>CE</th>\n",
       "      <td>161</td>\n",
       "      <td>384</td>\n",
       "      <td>1313</td>\n",
       "      <td>1336</td>\n",
       "    </tr>\n",
       "    <tr>\n",
       "      <th>PE</th>\n",
       "      <td>152</td>\n",
       "      <td>439</td>\n",
       "      <td>1609</td>\n",
       "      <td>1652</td>\n",
       "    </tr>\n",
       "    <tr>\n",
       "      <th>RJ</th>\n",
       "      <td>149</td>\n",
       "      <td>1199</td>\n",
       "      <td>12384</td>\n",
       "      <td>12852</td>\n",
       "    </tr>\n",
       "    <tr>\n",
       "      <th>MA</th>\n",
       "      <td>122</td>\n",
       "      <td>196</td>\n",
       "      <td>726</td>\n",
       "      <td>747</td>\n",
       "    </tr>\n",
       "    <tr>\n",
       "      <th>MT</th>\n",
       "      <td>101</td>\n",
       "      <td>175</td>\n",
       "      <td>876</td>\n",
       "      <td>907</td>\n",
       "    </tr>\n",
       "    <tr>\n",
       "      <th>ES</th>\n",
       "      <td>95</td>\n",
       "      <td>265</td>\n",
       "      <td>1964</td>\n",
       "      <td>2033</td>\n",
       "    </tr>\n",
       "    <tr>\n",
       "      <th>PB</th>\n",
       "      <td>92</td>\n",
       "      <td>181</td>\n",
       "      <td>519</td>\n",
       "      <td>536</td>\n",
       "    </tr>\n",
       "    <tr>\n",
       "      <th>RN</th>\n",
       "      <td>90</td>\n",
       "      <td>177</td>\n",
       "      <td>474</td>\n",
       "      <td>485</td>\n",
       "    </tr>\n",
       "    <tr>\n",
       "      <th>PA</th>\n",
       "      <td>89</td>\n",
       "      <td>209</td>\n",
       "      <td>949</td>\n",
       "      <td>975</td>\n",
       "    </tr>\n",
       "    <tr>\n",
       "      <th>PI</th>\n",
       "      <td>72</td>\n",
       "      <td>154</td>\n",
       "      <td>482</td>\n",
       "      <td>495</td>\n",
       "    </tr>\n",
       "    <tr>\n",
       "      <th>AL</th>\n",
       "      <td>68</td>\n",
       "      <td>126</td>\n",
       "      <td>401</td>\n",
       "      <td>413</td>\n",
       "    </tr>\n",
       "    <tr>\n",
       "      <th>MS</th>\n",
       "      <td>67</td>\n",
       "      <td>186</td>\n",
       "      <td>694</td>\n",
       "      <td>715</td>\n",
       "    </tr>\n",
       "    <tr>\n",
       "      <th>TO</th>\n",
       "      <td>56</td>\n",
       "      <td>96</td>\n",
       "      <td>273</td>\n",
       "      <td>280</td>\n",
       "    </tr>\n",
       "    <tr>\n",
       "      <th>SE</th>\n",
       "      <td>46</td>\n",
       "      <td>89</td>\n",
       "      <td>342</td>\n",
       "      <td>350</td>\n",
       "    </tr>\n",
       "    <tr>\n",
       "      <th>RO</th>\n",
       "      <td>35</td>\n",
       "      <td>75</td>\n",
       "      <td>240</td>\n",
       "      <td>253</td>\n",
       "    </tr>\n",
       "    <tr>\n",
       "      <th>AC</th>\n",
       "      <td>8</td>\n",
       "      <td>20</td>\n",
       "      <td>77</td>\n",
       "      <td>81</td>\n",
       "    </tr>\n",
       "    <tr>\n",
       "      <th>DF</th>\n",
       "      <td>6</td>\n",
       "      <td>465</td>\n",
       "      <td>2075</td>\n",
       "      <td>2140</td>\n",
       "    </tr>\n",
       "    <tr>\n",
       "      <th>AP</th>\n",
       "      <td>6</td>\n",
       "      <td>18</td>\n",
       "      <td>67</td>\n",
       "      <td>68</td>\n",
       "    </tr>\n",
       "    <tr>\n",
       "      <th>AM</th>\n",
       "      <td>5</td>\n",
       "      <td>55</td>\n",
       "      <td>143</td>\n",
       "      <td>148</td>\n",
       "    </tr>\n",
       "    <tr>\n",
       "      <th>RR</th>\n",
       "      <td>2</td>\n",
       "      <td>15</td>\n",
       "      <td>45</td>\n",
       "      <td>46</td>\n",
       "    </tr>\n",
       "  </tbody>\n",
       "</table>\n",
       "</div>"
      ],
      "text/plain": [
       "                customer_city  customer_zip_code_prefix  customer_unique_id  \\\n",
       "customer_state                                                                \n",
       "MG                        745                      1349               11259   \n",
       "SP                        629                      5591               40302   \n",
       "RS                        379                       877                5277   \n",
       "PR                        364                       861                4882   \n",
       "BA                        353                       735                3277   \n",
       "SC                        240                       517                3534   \n",
       "GO                        178                       540                1952   \n",
       "CE                        161                       384                1313   \n",
       "PE                        152                       439                1609   \n",
       "RJ                        149                      1199               12384   \n",
       "MA                        122                       196                 726   \n",
       "MT                        101                       175                 876   \n",
       "ES                         95                       265                1964   \n",
       "PB                         92                       181                 519   \n",
       "RN                         90                       177                 474   \n",
       "PA                         89                       209                 949   \n",
       "PI                         72                       154                 482   \n",
       "AL                         68                       126                 401   \n",
       "MS                         67                       186                 694   \n",
       "TO                         56                        96                 273   \n",
       "SE                         46                        89                 342   \n",
       "RO                         35                        75                 240   \n",
       "AC                          8                        20                  77   \n",
       "DF                          6                       465                2075   \n",
       "AP                          6                        18                  67   \n",
       "AM                          5                        55                 143   \n",
       "RR                          2                        15                  45   \n",
       "\n",
       "                customer_id  \n",
       "customer_state               \n",
       "MG                    11635  \n",
       "SP                    41746  \n",
       "RS                     5466  \n",
       "PR                     5045  \n",
       "BA                     3380  \n",
       "SC                     3637  \n",
       "GO                     2020  \n",
       "CE                     1336  \n",
       "PE                     1652  \n",
       "RJ                    12852  \n",
       "MA                      747  \n",
       "MT                      907  \n",
       "ES                     2033  \n",
       "PB                      536  \n",
       "RN                      485  \n",
       "PA                      975  \n",
       "PI                      495  \n",
       "AL                      413  \n",
       "MS                      715  \n",
       "TO                      280  \n",
       "SE                      350  \n",
       "RO                      253  \n",
       "AC                       81  \n",
       "DF                     2140  \n",
       "AP                       68  \n",
       "AM                      148  \n",
       "RR                       46  "
      ]
     },
     "execution_count": 11,
     "metadata": {},
     "output_type": "execute_result"
    }
   ],
   "source": [
    "olist_customer.groupby('customer_state').agg({'customer_city':'nunique','customer_zip_code_prefix':'nunique','customer_unique_id':'nunique','customer_id':'nunique'}).sort_values(by='customer_city',ascending=False)"
   ]
  },
  {
   "cell_type": "code",
   "execution_count": 12,
   "id": "62d0f459-4acf-4a27-8ac0-664293802cdc",
   "metadata": {
    "tags": []
   },
   "outputs": [
    {
     "data": {
      "text/plain": [
       "<bound method DataFrame.mode of Empty DataFrame\n",
       "Columns: []\n",
       "Index: []>"
      ]
     },
     "execution_count": 12,
     "metadata": {},
     "output_type": "execute_result"
    }
   ],
   "source": [
    "pd.DataFrame().mode"
   ]
  },
  {
   "cell_type": "markdown",
   "id": "494b2305-2850-40ff-aeeb-24d502b9eee3",
   "metadata": {},
   "source": [
    "# olist_geolocation --------------------------------------------------------"
   ]
  },
  {
   "cell_type": "code",
   "execution_count": 13,
   "id": "8726ef19-a4f4-4876-a4f2-bd60a5d6dae8",
   "metadata": {
    "tags": []
   },
   "outputs": [
    {
     "name": "stdout",
     "output_type": "stream",
     "text": [
      "<class 'pandas.core.frame.DataFrame'>\n",
      "RangeIndex: 1000163 entries, 0 to 1000162\n",
      "Data columns (total 5 columns):\n",
      " #   Column                       Dtype  \n",
      "---  ------                       -----  \n",
      " 0   geolocation_zip_code_prefix  int64  \n",
      " 1   geolocation_lat              float64\n",
      " 2   geolocation_lng              float64\n",
      " 3   geolocation_city             object \n",
      " 4   geolocation_state            object \n",
      "dtypes: float64(2), int64(1), object(2)\n",
      "memory usage: 38.2+ MB\n"
     ]
    }
   ],
   "source": [
    "olist_geolocation.info(verbose=True,show_counts=False)"
   ]
  },
  {
   "cell_type": "code",
   "execution_count": 14,
   "id": "c60f6de5-9ee2-4c17-abf6-31e8dc2e3a0c",
   "metadata": {
    "tags": []
   },
   "outputs": [
    {
     "name": "stdout",
     "output_type": "stream",
     "text": [
      "<class 'pandas.core.frame.DataFrame'>\n",
      "RangeIndex: 1000163 entries, 0 to 1000162\n",
      "Data columns (total 5 columns):\n",
      " #   Column                       Dtype  \n",
      "---  ------                       -----  \n",
      " 0   geolocation_zip_code_prefix  int64  \n",
      " 1   geolocation_lat              float64\n",
      " 2   geolocation_lng              float64\n",
      " 3   geolocation_city             object \n",
      " 4   geolocation_state            object \n",
      "dtypes: float64(2), int64(1), object(2)\n",
      "memory usage: 38.2+ MB\n"
     ]
    }
   ],
   "source": [
    "olist_geolocation.info(verbose=True,show_counts=False)"
   ]
  },
  {
   "cell_type": "code",
   "execution_count": 15,
   "id": "f616615b-2ce9-4e9d-bc21-2adc6d7c908d",
   "metadata": {
    "tags": []
   },
   "outputs": [
    {
     "data": {
      "text/plain": [
       "geolocation_zip_code_prefix    0\n",
       "geolocation_lat                0\n",
       "geolocation_lng                0\n",
       "geolocation_city               0\n",
       "geolocation_state              0\n",
       "dtype: int64"
      ]
     },
     "execution_count": 15,
     "metadata": {},
     "output_type": "execute_result"
    }
   ],
   "source": [
    "olist_geolocation.isna().sum()"
   ]
  },
  {
   "cell_type": "code",
   "execution_count": 16,
   "id": "c53e8751-cd6c-4466-9bc2-c134cdce7e9d",
   "metadata": {
    "tags": []
   },
   "outputs": [
    {
     "data": {
      "text/plain": [
       "geolocation_zip_code_prefix     19015\n",
       "geolocation_lat                717360\n",
       "geolocation_lng                717613\n",
       "geolocation_city                 8011\n",
       "geolocation_state                  27\n",
       "dtype: int64"
      ]
     },
     "execution_count": 16,
     "metadata": {},
     "output_type": "execute_result"
    }
   ],
   "source": [
    "olist_geolocation.nunique()"
   ]
  },
  {
   "cell_type": "markdown",
   "id": "7572fa9b-e2de-45b2-b1ba-e6c5a96c0da3",
   "metadata": {},
   "source": [
    "## the ,'geolocation_city':'nunique' is not giving the same 'customer_city':'nunique' while the state is same or its like that they are offer the servieses or the data is of point upping their span\n",
    "\n",
    "## and the lat_log is not matching with original and geolocation_zip_code_prefix is can be used to find density of zipcode and that can be used"
   ]
  },
  {
   "cell_type": "code",
   "execution_count": 32,
   "id": "eaa431b4-fb31-4e13-97df-f0f6ef4a57ef",
   "metadata": {
    "tags": []
   },
   "outputs": [],
   "source": [
    "olist_geolocation['lon_lat'] = olist_geolocation.geolocation_lng.astype(str)+olist_geolocation.geolocation_lat.astype(str)"
   ]
  },
  {
   "cell_type": "code",
   "execution_count": 33,
   "id": "67a4ba13-1d7f-4e94-a5dd-cbb4de078665",
   "metadata": {
    "tags": []
   },
   "outputs": [
    {
     "data": {
      "text/html": [
       "<div>\n",
       "<style scoped>\n",
       "    .dataframe tbody tr th:only-of-type {\n",
       "        vertical-align: middle;\n",
       "    }\n",
       "\n",
       "    .dataframe tbody tr th {\n",
       "        vertical-align: top;\n",
       "    }\n",
       "\n",
       "    .dataframe thead th {\n",
       "        text-align: right;\n",
       "    }\n",
       "</style>\n",
       "<table border=\"1\" class=\"dataframe\">\n",
       "  <thead>\n",
       "    <tr style=\"text-align: right;\">\n",
       "      <th></th>\n",
       "      <th>geolocation_city</th>\n",
       "      <th>geolocation_zip_code_prefix</th>\n",
       "      <th>geolocation_lng</th>\n",
       "      <th>geolocation_lat</th>\n",
       "      <th>lon_lat</th>\n",
       "    </tr>\n",
       "    <tr>\n",
       "      <th>geolocation_state</th>\n",
       "      <th></th>\n",
       "      <th></th>\n",
       "      <th></th>\n",
       "      <th></th>\n",
       "      <th></th>\n",
       "    </tr>\n",
       "  </thead>\n",
       "  <tbody>\n",
       "    <tr>\n",
       "      <th>MG</th>\n",
       "      <td>1426</td>\n",
       "      <td>1868</td>\n",
       "      <td>100207</td>\n",
       "      <td>100202</td>\n",
       "      <td>100288</td>\n",
       "    </tr>\n",
       "    <tr>\n",
       "      <th>SP</th>\n",
       "      <td>1048</td>\n",
       "      <td>6349</td>\n",
       "      <td>273628</td>\n",
       "      <td>273479</td>\n",
       "      <td>274019</td>\n",
       "    </tr>\n",
       "    <tr>\n",
       "      <th>RS</th>\n",
       "      <td>691</td>\n",
       "      <td>1132</td>\n",
       "      <td>47441</td>\n",
       "      <td>47458</td>\n",
       "      <td>47533</td>\n",
       "    </tr>\n",
       "    <tr>\n",
       "      <th>BA</th>\n",
       "      <td>652</td>\n",
       "      <td>992</td>\n",
       "      <td>27290</td>\n",
       "      <td>27285</td>\n",
       "      <td>27321</td>\n",
       "    </tr>\n",
       "    <tr>\n",
       "      <th>PR</th>\n",
       "      <td>651</td>\n",
       "      <td>1046</td>\n",
       "      <td>44395</td>\n",
       "      <td>44372</td>\n",
       "      <td>44436</td>\n",
       "    </tr>\n",
       "    <tr>\n",
       "      <th>SC</th>\n",
       "      <td>420</td>\n",
       "      <td>620</td>\n",
       "      <td>29307</td>\n",
       "      <td>29286</td>\n",
       "      <td>29326</td>\n",
       "    </tr>\n",
       "    <tr>\n",
       "      <th>GO</th>\n",
       "      <td>384</td>\n",
       "      <td>773</td>\n",
       "      <td>15005</td>\n",
       "      <td>14998</td>\n",
       "      <td>15017</td>\n",
       "    </tr>\n",
       "    <tr>\n",
       "      <th>MA</th>\n",
       "      <td>299</td>\n",
       "      <td>313</td>\n",
       "      <td>6133</td>\n",
       "      <td>6137</td>\n",
       "      <td>6138</td>\n",
       "    </tr>\n",
       "    <tr>\n",
       "      <th>PI</th>\n",
       "      <td>278</td>\n",
       "      <td>307</td>\n",
       "      <td>3519</td>\n",
       "      <td>3521</td>\n",
       "      <td>3521</td>\n",
       "    </tr>\n",
       "    <tr>\n",
       "      <th>PE</th>\n",
       "      <td>267</td>\n",
       "      <td>596</td>\n",
       "      <td>13062</td>\n",
       "      <td>13063</td>\n",
       "      <td>13070</td>\n",
       "    </tr>\n",
       "    <tr>\n",
       "      <th>CE</th>\n",
       "      <td>260</td>\n",
       "      <td>548</td>\n",
       "      <td>9478</td>\n",
       "      <td>9480</td>\n",
       "      <td>9485</td>\n",
       "    </tr>\n",
       "    <tr>\n",
       "      <th>PB</th>\n",
       "      <td>254</td>\n",
       "      <td>324</td>\n",
       "      <td>4696</td>\n",
       "      <td>4696</td>\n",
       "      <td>4700</td>\n",
       "    </tr>\n",
       "    <tr>\n",
       "      <th>RJ</th>\n",
       "      <td>245</td>\n",
       "      <td>1390</td>\n",
       "      <td>77307</td>\n",
       "      <td>77270</td>\n",
       "      <td>77395</td>\n",
       "    </tr>\n",
       "    <tr>\n",
       "      <th>PA</th>\n",
       "      <td>219</td>\n",
       "      <td>309</td>\n",
       "      <td>8261</td>\n",
       "      <td>8273</td>\n",
       "      <td>8284</td>\n",
       "    </tr>\n",
       "    <tr>\n",
       "      <th>RN</th>\n",
       "      <td>214</td>\n",
       "      <td>280</td>\n",
       "      <td>3965</td>\n",
       "      <td>3965</td>\n",
       "      <td>3965</td>\n",
       "    </tr>\n",
       "    <tr>\n",
       "      <th>MT</th>\n",
       "      <td>213</td>\n",
       "      <td>254</td>\n",
       "      <td>9099</td>\n",
       "      <td>9101</td>\n",
       "      <td>9106</td>\n",
       "    </tr>\n",
       "    <tr>\n",
       "      <th>TO</th>\n",
       "      <td>173</td>\n",
       "      <td>184</td>\n",
       "      <td>2949</td>\n",
       "      <td>2947</td>\n",
       "      <td>2953</td>\n",
       "    </tr>\n",
       "    <tr>\n",
       "      <th>ES</th>\n",
       "      <td>160</td>\n",
       "      <td>315</td>\n",
       "      <td>12309</td>\n",
       "      <td>12306</td>\n",
       "      <td>12321</td>\n",
       "    </tr>\n",
       "    <tr>\n",
       "      <th>MS</th>\n",
       "      <td>133</td>\n",
       "      <td>242</td>\n",
       "      <td>8494</td>\n",
       "      <td>8493</td>\n",
       "      <td>8495</td>\n",
       "    </tr>\n",
       "    <tr>\n",
       "      <th>AL</th>\n",
       "      <td>130</td>\n",
       "      <td>178</td>\n",
       "      <td>3319</td>\n",
       "      <td>3296</td>\n",
       "      <td>3323</td>\n",
       "    </tr>\n",
       "    <tr>\n",
       "      <th>SE</th>\n",
       "      <td>96</td>\n",
       "      <td>135</td>\n",
       "      <td>2630</td>\n",
       "      <td>2627</td>\n",
       "      <td>2631</td>\n",
       "    </tr>\n",
       "    <tr>\n",
       "      <th>RO</th>\n",
       "      <td>83</td>\n",
       "      <td>108</td>\n",
       "      <td>2472</td>\n",
       "      <td>2470</td>\n",
       "      <td>2473</td>\n",
       "    </tr>\n",
       "    <tr>\n",
       "      <th>AM</th>\n",
       "      <td>74</td>\n",
       "      <td>144</td>\n",
       "      <td>1971</td>\n",
       "      <td>1967</td>\n",
       "      <td>1971</td>\n",
       "    </tr>\n",
       "    <tr>\n",
       "      <th>AC</th>\n",
       "      <td>34</td>\n",
       "      <td>46</td>\n",
       "      <td>1029</td>\n",
       "      <td>1028</td>\n",
       "      <td>1030</td>\n",
       "    </tr>\n",
       "    <tr>\n",
       "      <th>DF</th>\n",
       "      <td>28</td>\n",
       "      <td>516</td>\n",
       "      <td>8370</td>\n",
       "      <td>8362</td>\n",
       "      <td>8375</td>\n",
       "    </tr>\n",
       "    <tr>\n",
       "      <th>AP</th>\n",
       "      <td>17</td>\n",
       "      <td>26</td>\n",
       "      <td>723</td>\n",
       "      <td>724</td>\n",
       "      <td>724</td>\n",
       "    </tr>\n",
       "    <tr>\n",
       "      <th>RR</th>\n",
       "      <td>14</td>\n",
       "      <td>28</td>\n",
       "      <td>568</td>\n",
       "      <td>568</td>\n",
       "      <td>568</td>\n",
       "    </tr>\n",
       "  </tbody>\n",
       "</table>\n",
       "</div>"
      ],
      "text/plain": [
       "                   geolocation_city  geolocation_zip_code_prefix  \\\n",
       "geolocation_state                                                  \n",
       "MG                             1426                         1868   \n",
       "SP                             1048                         6349   \n",
       "RS                              691                         1132   \n",
       "BA                              652                          992   \n",
       "PR                              651                         1046   \n",
       "SC                              420                          620   \n",
       "GO                              384                          773   \n",
       "MA                              299                          313   \n",
       "PI                              278                          307   \n",
       "PE                              267                          596   \n",
       "CE                              260                          548   \n",
       "PB                              254                          324   \n",
       "RJ                              245                         1390   \n",
       "PA                              219                          309   \n",
       "RN                              214                          280   \n",
       "MT                              213                          254   \n",
       "TO                              173                          184   \n",
       "ES                              160                          315   \n",
       "MS                              133                          242   \n",
       "AL                              130                          178   \n",
       "SE                               96                          135   \n",
       "RO                               83                          108   \n",
       "AM                               74                          144   \n",
       "AC                               34                           46   \n",
       "DF                               28                          516   \n",
       "AP                               17                           26   \n",
       "RR                               14                           28   \n",
       "\n",
       "                   geolocation_lng  geolocation_lat  lon_lat  \n",
       "geolocation_state                                             \n",
       "MG                          100207           100202   100288  \n",
       "SP                          273628           273479   274019  \n",
       "RS                           47441            47458    47533  \n",
       "BA                           27290            27285    27321  \n",
       "PR                           44395            44372    44436  \n",
       "SC                           29307            29286    29326  \n",
       "GO                           15005            14998    15017  \n",
       "MA                            6133             6137     6138  \n",
       "PI                            3519             3521     3521  \n",
       "PE                           13062            13063    13070  \n",
       "CE                            9478             9480     9485  \n",
       "PB                            4696             4696     4700  \n",
       "RJ                           77307            77270    77395  \n",
       "PA                            8261             8273     8284  \n",
       "RN                            3965             3965     3965  \n",
       "MT                            9099             9101     9106  \n",
       "TO                            2949             2947     2953  \n",
       "ES                           12309            12306    12321  \n",
       "MS                            8494             8493     8495  \n",
       "AL                            3319             3296     3323  \n",
       "SE                            2630             2627     2631  \n",
       "RO                            2472             2470     2473  \n",
       "AM                            1971             1967     1971  \n",
       "AC                            1029             1028     1030  \n",
       "DF                            8370             8362     8375  \n",
       "AP                             723              724      724  \n",
       "RR                             568              568      568  "
      ]
     },
     "execution_count": 33,
     "metadata": {},
     "output_type": "execute_result"
    }
   ],
   "source": [
    "olist_geolocation.groupby('geolocation_state').agg({'geolocation_city':'nunique','geolocation_zip_code_prefix':'nunique','geolocation_lng':'nunique','geolocation_lat':'nunique','lon_lat':'nunique'}).sort_values(by='geolocation_city',ascending=False)"
   ]
  },
  {
   "cell_type": "code",
   "execution_count": null,
   "id": "0854bd1c-234b-49d8-8001-ca8b8bd0b22b",
   "metadata": {},
   "outputs": [],
   "source": []
  },
  {
   "cell_type": "code",
   "execution_count": null,
   "id": "930663b2-0678-494c-9de0-7169116ced76",
   "metadata": {
    "tags": []
   },
   "outputs": [],
   "source": []
  },
  {
   "cell_type": "code",
   "execution_count": null,
   "id": "9cbaa611-14a5-4ab6-b3a6-74a1e4e705ca",
   "metadata": {},
   "outputs": [],
   "source": []
  },
  {
   "cell_type": "markdown",
   "id": "6c9ee91e-249b-47e7-8d25-9d3ed3d1c870",
   "metadata": {},
   "source": [
    "# olist_orders --------------------------------------------------------"
   ]
  },
  {
   "cell_type": "code",
   "execution_count": 6,
   "id": "c76779fe-79c0-403a-b59b-8e193e892078",
   "metadata": {
    "tags": []
   },
   "outputs": [],
   "source": [
    "for i,c in enumerate(olist_orders.columns):\n",
    "    if i >= 3:\n",
    "        olist_orders[c]=pd.to_datetime(olist_orders[c])"
   ]
  },
  {
   "cell_type": "code",
   "execution_count": 7,
   "id": "1a58a9ea-7f22-4a5a-a0e7-94e1a54e2de7",
   "metadata": {
    "tags": []
   },
   "outputs": [
    {
     "name": "stdout",
     "output_type": "stream",
     "text": [
      "<class 'pandas.core.frame.DataFrame'>\n",
      "RangeIndex: 99441 entries, 0 to 99440\n",
      "Data columns (total 8 columns):\n",
      " #   Column                         Dtype         \n",
      "---  ------                         -----         \n",
      " 0   order_id                       object        \n",
      " 1   customer_id                    object        \n",
      " 2   order_status                   object        \n",
      " 3   order_purchase_timestamp       datetime64[ns]\n",
      " 4   order_approved_at              datetime64[ns]\n",
      " 5   order_delivered_carrier_date   datetime64[ns]\n",
      " 6   order_delivered_customer_date  datetime64[ns]\n",
      " 7   order_estimated_delivery_date  datetime64[ns]\n",
      "dtypes: datetime64[ns](5), object(3)\n",
      "memory usage: 6.1+ MB\n"
     ]
    }
   ],
   "source": [
    "olist_orders.info(verbose=True,show_counts=False)"
   ]
  },
  {
   "cell_type": "code",
   "execution_count": 8,
   "id": "7fde73e7-2a65-49c9-910e-da021a1ae9b5",
   "metadata": {
    "tags": []
   },
   "outputs": [
    {
     "data": {
      "text/plain": [
       "order_id                            0\n",
       "customer_id                         0\n",
       "order_status                        0\n",
       "order_purchase_timestamp            0\n",
       "order_approved_at                 160\n",
       "order_delivered_carrier_date     1783\n",
       "order_delivered_customer_date    2965\n",
       "order_estimated_delivery_date       0\n",
       "dtype: int64"
      ]
     },
     "execution_count": 8,
     "metadata": {},
     "output_type": "execute_result"
    }
   ],
   "source": [
    "olist_orders.isna().sum()"
   ]
  },
  {
   "cell_type": "code",
   "execution_count": 9,
   "id": "7b13f759-08dc-4c75-b8b6-b1812759064e",
   "metadata": {
    "tags": []
   },
   "outputs": [
    {
     "data": {
      "text/plain": [
       "order_id                         99441\n",
       "customer_id                      99441\n",
       "order_status                         8\n",
       "order_purchase_timestamp         98875\n",
       "order_approved_at                90733\n",
       "order_delivered_carrier_date     81018\n",
       "order_delivered_customer_date    95664\n",
       "order_estimated_delivery_date      459\n",
       "dtype: int64"
      ]
     },
     "execution_count": 9,
     "metadata": {},
     "output_type": "execute_result"
    }
   ],
   "source": [
    "olist_orders.nunique()"
   ]
  },
  {
   "cell_type": "code",
   "execution_count": 10,
   "id": "c99f3734-26bd-421e-8175-55aa0f4552a2",
   "metadata": {
    "tags": []
   },
   "outputs": [
    {
     "data": {
      "text/plain": [
       "(99441, 8)"
      ]
     },
     "execution_count": 10,
     "metadata": {},
     "output_type": "execute_result"
    }
   ],
   "source": [
    "olist_orders.shape"
   ]
  },
  {
   "cell_type": "markdown",
   "id": "fa253b73-0316-475f-acec-f91c2b4ddb6e",
   "metadata": {
    "tags": []
   },
   "source": [
    "### row count with null"
   ]
  },
  {
   "cell_type": "code",
   "execution_count": 11,
   "id": "bd8b3aac-aa42-4a6d-a99e-deda990ef6fe",
   "metadata": {
    "tags": []
   },
   "outputs": [
    {
     "data": {
      "text/plain": [
       "(2980, 8)"
      ]
     },
     "execution_count": 11,
     "metadata": {},
     "output_type": "execute_result"
    }
   ],
   "source": [
    "olist_orders[ olist_orders.isnull().sum(axis=1) > 0 ].shape"
   ]
  },
  {
   "cell_type": "markdown",
   "id": "c78a8c03-a725-4174-873e-4c1db27a1ff7",
   "metadata": {
    "tags": []
   },
   "source": [
    "### row count with non null"
   ]
  },
  {
   "cell_type": "code",
   "execution_count": 12,
   "id": "761ab87b-0848-4f9c-8885-00deec9fbc5b",
   "metadata": {
    "tags": []
   },
   "outputs": [
    {
     "data": {
      "text/plain": [
       "(96461, 8)"
      ]
     },
     "execution_count": 12,
     "metadata": {},
     "output_type": "execute_result"
    }
   ],
   "source": [
    "olist_orders[ olist_orders.isnull().sum(axis=1) == 0 ].shape"
   ]
  },
  {
   "cell_type": "code",
   "execution_count": 13,
   "id": "333a36d4-b2d3-4161-93c0-9b0715ee5ff5",
   "metadata": {
    "tags": []
   },
   "outputs": [
    {
     "data": {
      "text/html": [
       "<div>\n",
       "<style scoped>\n",
       "    .dataframe tbody tr th:only-of-type {\n",
       "        vertical-align: middle;\n",
       "    }\n",
       "\n",
       "    .dataframe tbody tr th {\n",
       "        vertical-align: top;\n",
       "    }\n",
       "\n",
       "    .dataframe thead th {\n",
       "        text-align: right;\n",
       "    }\n",
       "</style>\n",
       "<table border=\"1\" class=\"dataframe\">\n",
       "  <thead>\n",
       "    <tr style=\"text-align: right;\">\n",
       "      <th></th>\n",
       "      <th>order_id</th>\n",
       "      <th>customer_id</th>\n",
       "      <th>order_status</th>\n",
       "      <th>order_purchase_timestamp</th>\n",
       "      <th>order_approved_at</th>\n",
       "      <th>order_delivered_carrier_date</th>\n",
       "      <th>order_delivered_customer_date</th>\n",
       "      <th>order_estimated_delivery_date</th>\n",
       "    </tr>\n",
       "  </thead>\n",
       "  <tbody>\n",
       "    <tr>\n",
       "      <th>0</th>\n",
       "      <td>e481f51cbdc54678b7cc49136f2d6af7</td>\n",
       "      <td>9ef432eb6251297304e76186b10a928d</td>\n",
       "      <td>delivered</td>\n",
       "      <td>2017-10-02 10:56:33</td>\n",
       "      <td>2017-10-02 11:07:15</td>\n",
       "      <td>2017-10-04 19:55:00</td>\n",
       "      <td>2017-10-10 21:25:13</td>\n",
       "      <td>2017-10-18</td>\n",
       "    </tr>\n",
       "    <tr>\n",
       "      <th>1</th>\n",
       "      <td>53cdb2fc8bc7dce0b6741e2150273451</td>\n",
       "      <td>b0830fb4747a6c6d20dea0b8c802d7ef</td>\n",
       "      <td>delivered</td>\n",
       "      <td>2018-07-24 20:41:37</td>\n",
       "      <td>2018-07-26 03:24:27</td>\n",
       "      <td>2018-07-26 14:31:00</td>\n",
       "      <td>2018-08-07 15:27:45</td>\n",
       "      <td>2018-08-13</td>\n",
       "    </tr>\n",
       "    <tr>\n",
       "      <th>2</th>\n",
       "      <td>47770eb9100c2d0c44946d9cf07ec65d</td>\n",
       "      <td>41ce2a54c0b03bf3443c3d931a367089</td>\n",
       "      <td>delivered</td>\n",
       "      <td>2018-08-08 08:38:49</td>\n",
       "      <td>2018-08-08 08:55:23</td>\n",
       "      <td>2018-08-08 13:50:00</td>\n",
       "      <td>2018-08-17 18:06:29</td>\n",
       "      <td>2018-09-04</td>\n",
       "    </tr>\n",
       "    <tr>\n",
       "      <th>3</th>\n",
       "      <td>949d5b44dbf5de918fe9c16f97b45f8a</td>\n",
       "      <td>f88197465ea7920adcdbec7375364d82</td>\n",
       "      <td>delivered</td>\n",
       "      <td>2017-11-18 19:28:06</td>\n",
       "      <td>2017-11-18 19:45:59</td>\n",
       "      <td>2017-11-22 13:39:59</td>\n",
       "      <td>2017-12-02 00:28:42</td>\n",
       "      <td>2017-12-15</td>\n",
       "    </tr>\n",
       "    <tr>\n",
       "      <th>4</th>\n",
       "      <td>ad21c59c0840e6cb83a9ceb5573f8159</td>\n",
       "      <td>8ab97904e6daea8866dbdbc4fb7aad2c</td>\n",
       "      <td>delivered</td>\n",
       "      <td>2018-02-13 21:18:39</td>\n",
       "      <td>2018-02-13 22:20:29</td>\n",
       "      <td>2018-02-14 19:46:34</td>\n",
       "      <td>2018-02-16 18:17:02</td>\n",
       "      <td>2018-02-26</td>\n",
       "    </tr>\n",
       "  </tbody>\n",
       "</table>\n",
       "</div>"
      ],
      "text/plain": [
       "                           order_id                       customer_id  \\\n",
       "0  e481f51cbdc54678b7cc49136f2d6af7  9ef432eb6251297304e76186b10a928d   \n",
       "1  53cdb2fc8bc7dce0b6741e2150273451  b0830fb4747a6c6d20dea0b8c802d7ef   \n",
       "2  47770eb9100c2d0c44946d9cf07ec65d  41ce2a54c0b03bf3443c3d931a367089   \n",
       "3  949d5b44dbf5de918fe9c16f97b45f8a  f88197465ea7920adcdbec7375364d82   \n",
       "4  ad21c59c0840e6cb83a9ceb5573f8159  8ab97904e6daea8866dbdbc4fb7aad2c   \n",
       "\n",
       "  order_status order_purchase_timestamp   order_approved_at  \\\n",
       "0    delivered      2017-10-02 10:56:33 2017-10-02 11:07:15   \n",
       "1    delivered      2018-07-24 20:41:37 2018-07-26 03:24:27   \n",
       "2    delivered      2018-08-08 08:38:49 2018-08-08 08:55:23   \n",
       "3    delivered      2017-11-18 19:28:06 2017-11-18 19:45:59   \n",
       "4    delivered      2018-02-13 21:18:39 2018-02-13 22:20:29   \n",
       "\n",
       "  order_delivered_carrier_date order_delivered_customer_date  \\\n",
       "0          2017-10-04 19:55:00           2017-10-10 21:25:13   \n",
       "1          2018-07-26 14:31:00           2018-08-07 15:27:45   \n",
       "2          2018-08-08 13:50:00           2018-08-17 18:06:29   \n",
       "3          2017-11-22 13:39:59           2017-12-02 00:28:42   \n",
       "4          2018-02-14 19:46:34           2018-02-16 18:17:02   \n",
       "\n",
       "  order_estimated_delivery_date  \n",
       "0                    2017-10-18  \n",
       "1                    2018-08-13  \n",
       "2                    2018-09-04  \n",
       "3                    2017-12-15  \n",
       "4                    2018-02-26  "
      ]
     },
     "execution_count": 13,
     "metadata": {},
     "output_type": "execute_result"
    }
   ],
   "source": [
    "olist_orders.head(5) # faster then iloc"
   ]
  },
  {
   "cell_type": "code",
   "execution_count": 14,
   "id": "5dfa3acf-0e14-4692-800e-e57026cfeec5",
   "metadata": {
    "tags": []
   },
   "outputs": [],
   "source": [
    "def get_quarter(hour):\n",
    "    if 0 <= hour < 8:\n",
    "        return 1\n",
    "    elif 8 <= hour < 18:\n",
    "        return 2\n",
    "    else: \n",
    "        return 3\n",
    "\n",
    "# Apply the function to the 'DateTime' column to get the quarter\n",
    "olist_orders['time_of_day']=olist_orders.order_purchase_timestamp.dt.hour.apply(get_quarter)"
   ]
  },
  {
   "cell_type": "code",
   "execution_count": 15,
   "id": "28b0d604-1bf8-4e5e-bd72-7586c6acc37e",
   "metadata": {
    "tags": []
   },
   "outputs": [
    {
     "data": {
      "text/plain": [
       "2    58868\n",
       "3    34100\n",
       "1     6473\n",
       "Name: time_of_day, dtype: int64"
      ]
     },
     "execution_count": 15,
     "metadata": {},
     "output_type": "execute_result"
    }
   ],
   "source": [
    "olist_orders.time_of_day.value_counts()"
   ]
  },
  {
   "cell_type": "markdown",
   "id": "ca997f51-2abb-4d28-8af9-91b67c2125aa",
   "metadata": {},
   "source": [
    "## this table is perfect join joint table\n",
    "\n",
    "## the date type is different thing to handle"
   ]
  },
  {
   "cell_type": "code",
   "execution_count": 65,
   "id": "e3b25a69-240e-4948-abc6-2572914e40fc",
   "metadata": {
    "tags": []
   },
   "outputs": [
    {
     "data": {
      "text/html": [
       "<div>\n",
       "<style scoped>\n",
       "    .dataframe tbody tr th:only-of-type {\n",
       "        vertical-align: middle;\n",
       "    }\n",
       "\n",
       "    .dataframe tbody tr th {\n",
       "        vertical-align: top;\n",
       "    }\n",
       "\n",
       "    .dataframe thead th {\n",
       "        text-align: right;\n",
       "    }\n",
       "</style>\n",
       "<table border=\"1\" class=\"dataframe\">\n",
       "  <thead>\n",
       "    <tr style=\"text-align: right;\">\n",
       "      <th></th>\n",
       "      <th>customer_id_unique</th>\n",
       "      <th>order_id_unique</th>\n",
       "      <th>time_of_day_mode</th>\n",
       "    </tr>\n",
       "    <tr>\n",
       "      <th>order_status</th>\n",
       "      <th></th>\n",
       "      <th></th>\n",
       "      <th></th>\n",
       "    </tr>\n",
       "  </thead>\n",
       "  <tbody>\n",
       "    <tr>\n",
       "      <th>delivered</th>\n",
       "      <td>96478</td>\n",
       "      <td>96478</td>\n",
       "      <td>2</td>\n",
       "    </tr>\n",
       "    <tr>\n",
       "      <th>shipped</th>\n",
       "      <td>1107</td>\n",
       "      <td>1107</td>\n",
       "      <td>2</td>\n",
       "    </tr>\n",
       "    <tr>\n",
       "      <th>canceled</th>\n",
       "      <td>625</td>\n",
       "      <td>625</td>\n",
       "      <td>2</td>\n",
       "    </tr>\n",
       "    <tr>\n",
       "      <th>unavailable</th>\n",
       "      <td>609</td>\n",
       "      <td>609</td>\n",
       "      <td>2</td>\n",
       "    </tr>\n",
       "    <tr>\n",
       "      <th>invoiced</th>\n",
       "      <td>314</td>\n",
       "      <td>314</td>\n",
       "      <td>2</td>\n",
       "    </tr>\n",
       "    <tr>\n",
       "      <th>processing</th>\n",
       "      <td>301</td>\n",
       "      <td>301</td>\n",
       "      <td>2</td>\n",
       "    </tr>\n",
       "    <tr>\n",
       "      <th>created</th>\n",
       "      <td>5</td>\n",
       "      <td>5</td>\n",
       "      <td>2</td>\n",
       "    </tr>\n",
       "    <tr>\n",
       "      <th>approved</th>\n",
       "      <td>2</td>\n",
       "      <td>2</td>\n",
       "      <td>1</td>\n",
       "    </tr>\n",
       "  </tbody>\n",
       "</table>\n",
       "</div>"
      ],
      "text/plain": [
       "              customer_id_unique  order_id_unique  time_of_day_mode\n",
       "order_status                                                       \n",
       "delivered                  96478            96478                 2\n",
       "shipped                     1107             1107                 2\n",
       "canceled                     625              625                 2\n",
       "unavailable                  609              609                 2\n",
       "invoiced                     314              314                 2\n",
       "processing                   301              301                 2\n",
       "created                        5                5                 2\n",
       "approved                       2                2                 1"
      ]
     },
     "execution_count": 65,
     "metadata": {},
     "output_type": "execute_result"
    }
   ],
   "source": [
    "olist_orders.groupby('order_status').agg(customer_id_unique=('customer_id','nunique'),\n",
    "                                         order_id_unique=('order_id','nunique'),\n",
    "                                         time_of_day_mode=('time_of_day',lambda x: x.mode().iat[0])).sort_values(by='customer_id_unique',ascending=False)"
   ]
  },
  {
   "cell_type": "code",
   "execution_count": 71,
   "id": "d4687f7c-dcd1-4fb9-82ad-b91351370a08",
   "metadata": {
    "tags": []
   },
   "outputs": [
    {
     "name": "stderr",
     "output_type": "stream",
     "text": [
      "/home/kar911/.local/lib/python3.10/site-packages/pandas/core/groupby/groupby.py:1668: FutureWarning: Unlike other reduction functions (e.g. `skew`, `kurtosis`), the default behavior of `mode` typically preserves the axis it acts along. In SciPy 1.11.0, this behavior will change: the default value of `keepdims` will become False, the `axis` over which the statistic is taken will be eliminated, and the value None will no longer be accepted. Set `keepdims` to True or False to avoid this warning.\n",
      "  f = lambda x: func(x, *args, **kwargs)\n"
     ]
    },
    {
     "data": {
      "text/html": [
       "<div>\n",
       "<style scoped>\n",
       "    .dataframe tbody tr th:only-of-type {\n",
       "        vertical-align: middle;\n",
       "    }\n",
       "\n",
       "    .dataframe tbody tr th {\n",
       "        vertical-align: top;\n",
       "    }\n",
       "\n",
       "    .dataframe thead th {\n",
       "        text-align: right;\n",
       "    }\n",
       "</style>\n",
       "<table border=\"1\" class=\"dataframe\">\n",
       "  <thead>\n",
       "    <tr style=\"text-align: right;\">\n",
       "      <th></th>\n",
       "      <th>customer_id_unique</th>\n",
       "      <th>order_id_unique</th>\n",
       "      <th>time_of_day_mode</th>\n",
       "    </tr>\n",
       "    <tr>\n",
       "      <th>order_status</th>\n",
       "      <th></th>\n",
       "      <th></th>\n",
       "      <th></th>\n",
       "    </tr>\n",
       "  </thead>\n",
       "  <tbody>\n",
       "    <tr>\n",
       "      <th>delivered</th>\n",
       "      <td>96478</td>\n",
       "      <td>96478</td>\n",
       "      <td>([2], [57100])</td>\n",
       "    </tr>\n",
       "    <tr>\n",
       "      <th>shipped</th>\n",
       "      <td>1107</td>\n",
       "      <td>1107</td>\n",
       "      <td>([2], [629])</td>\n",
       "    </tr>\n",
       "    <tr>\n",
       "      <th>canceled</th>\n",
       "      <td>625</td>\n",
       "      <td>625</td>\n",
       "      <td>([2], [383])</td>\n",
       "    </tr>\n",
       "    <tr>\n",
       "      <th>unavailable</th>\n",
       "      <td>609</td>\n",
       "      <td>609</td>\n",
       "      <td>([2], [375])</td>\n",
       "    </tr>\n",
       "    <tr>\n",
       "      <th>invoiced</th>\n",
       "      <td>314</td>\n",
       "      <td>314</td>\n",
       "      <td>([2], [202])</td>\n",
       "    </tr>\n",
       "    <tr>\n",
       "      <th>processing</th>\n",
       "      <td>301</td>\n",
       "      <td>301</td>\n",
       "      <td>([2], [176])</td>\n",
       "    </tr>\n",
       "    <tr>\n",
       "      <th>created</th>\n",
       "      <td>5</td>\n",
       "      <td>5</td>\n",
       "      <td>([2], [3])</td>\n",
       "    </tr>\n",
       "    <tr>\n",
       "      <th>approved</th>\n",
       "      <td>2</td>\n",
       "      <td>2</td>\n",
       "      <td>([1], [1])</td>\n",
       "    </tr>\n",
       "  </tbody>\n",
       "</table>\n",
       "</div>"
      ],
      "text/plain": [
       "              customer_id_unique  order_id_unique time_of_day_mode\n",
       "order_status                                                      \n",
       "delivered                  96478            96478   ([2], [57100])\n",
       "shipped                     1107             1107     ([2], [629])\n",
       "canceled                     625              625     ([2], [383])\n",
       "unavailable                  609              609     ([2], [375])\n",
       "invoiced                     314              314     ([2], [202])\n",
       "processing                   301              301     ([2], [176])\n",
       "created                        5                5       ([2], [3])\n",
       "approved                       2                2       ([1], [1])"
      ]
     },
     "execution_count": 71,
     "metadata": {},
     "output_type": "execute_result"
    }
   ],
   "source": [
    "olist_orders.groupby('order_status').agg(customer_id_unique=('customer_id','nunique'),\n",
    "                                         order_id_unique=('order_id','nunique'),\n",
    "                                         time_of_day_mode=('time_of_day',mode)).sort_values(by='customer_id_unique',ascending=False)"
   ]
  },
  {
   "cell_type": "code",
   "execution_count": 17,
   "id": "631b87cf-589e-4b63-8bb5-4b42c1856691",
   "metadata": {
    "tags": []
   },
   "outputs": [],
   "source": [
    "olist_orders['time_to_approved'] = (olist_orders.order_approved_at - olist_orders.order_purchase_timestamp) / np.timedelta64(1, 'D')"
   ]
  },
  {
   "cell_type": "code",
   "execution_count": 18,
   "id": "50581952-e708-41a8-b307-d835b2775e39",
   "metadata": {
    "tags": []
   },
   "outputs": [
    {
     "data": {
      "text/plain": [
       "0        0.007431\n",
       "1        1.279745\n",
       "2        0.011505\n",
       "3        0.012419\n",
       "4        0.042940\n",
       "           ...   \n",
       "99436    0.000000\n",
       "99437    0.008090\n",
       "99438    0.012188\n",
       "99439    0.005486\n",
       "99440    0.599282\n",
       "Name: time_to_approved, Length: 99441, dtype: float64"
      ]
     },
     "execution_count": 18,
     "metadata": {},
     "output_type": "execute_result"
    }
   ],
   "source": [
    "olist_orders.time_to_approved"
   ]
  },
  {
   "cell_type": "code",
   "execution_count": 19,
   "id": "0cad8de5-d9ed-44fb-b239-f7cf52040525",
   "metadata": {
    "tags": []
   },
   "outputs": [],
   "source": [
    "olist_orders['reach_time'] = (olist_orders.order_delivered_customer_date - olist_orders.order_purchase_timestamp ) / np.timedelta64(1, 'D')"
   ]
  },
  {
   "cell_type": "code",
   "execution_count": 20,
   "id": "af148759-364d-4e1e-b902-e2d41eddaf87",
   "metadata": {
    "tags": []
   },
   "outputs": [
    {
     "data": {
      "text/plain": [
       "0         8.436574\n",
       "1        13.782037\n",
       "2         9.394213\n",
       "3        13.208750\n",
       "4         2.873877\n",
       "           ...    \n",
       "99436     8.218009\n",
       "99437    22.193727\n",
       "99438    24.859421\n",
       "99439    17.086424\n",
       "99440     7.674306\n",
       "Name: reach_time, Length: 99441, dtype: float64"
      ]
     },
     "execution_count": 20,
     "metadata": {},
     "output_type": "execute_result"
    }
   ],
   "source": [
    "olist_orders.reach_time"
   ]
  },
  {
   "cell_type": "code",
   "execution_count": 21,
   "id": "d840c3d0-e243-4ad5-94da-21aef0f99c76",
   "metadata": {
    "tags": []
   },
   "outputs": [],
   "source": [
    "olist_orders['estim_reach_time'] = (olist_orders.order_estimated_delivery_date - olist_orders.order_purchase_timestamp ) / np.timedelta64(1, 'D')"
   ]
  },
  {
   "cell_type": "code",
   "execution_count": 22,
   "id": "76617b0c-69af-413a-8d26-beedfe793b7c",
   "metadata": {
    "tags": []
   },
   "outputs": [
    {
     "data": {
      "text/plain": [
       "5"
      ]
     },
     "execution_count": 22,
     "metadata": {},
     "output_type": "execute_result"
    }
   ],
   "source": [
    "olist_orders.isnull().sum(axis=1).max()"
   ]
  },
  {
   "cell_type": "code",
   "execution_count": 23,
   "id": "9463fa5c-3c0b-4350-9caf-ac63b9fb577a",
   "metadata": {
    "tags": []
   },
   "outputs": [
    {
     "data": {
      "text/plain": [
       "count    99441.000000\n",
       "mean         7.323824\n",
       "std          1.327180\n",
       "min          5.355729\n",
       "25%          7.107488\n",
       "50%          7.107488\n",
       "75%          7.107488\n",
       "max         17.245498\n",
       "dtype: float64"
      ]
     },
     "execution_count": 23,
     "metadata": {},
     "output_type": "execute_result"
    }
   ],
   "source": [
    "diff=olist_orders.estim_reach_time-olist_orders.reach_time\n",
    "diff[ olist_orders.isnull().sum(axis=1) ].describe()"
   ]
  },
  {
   "cell_type": "code",
   "execution_count": null,
   "id": "c3f472e0-4665-4720-841a-c6b5abd551c5",
   "metadata": {
    "tags": []
   },
   "outputs": [],
   "source": []
  },
  {
   "cell_type": "markdown",
   "id": "ccc508f8-023f-4aa5-b694-93a07d76528f",
   "metadata": {},
   "source": [
    "## day cycle to watch"
   ]
  },
  {
   "cell_type": "code",
   "execution_count": 24,
   "id": "3fd9c489-8cd6-41b7-8055-436c57d43fde",
   "metadata": {
    "tags": []
   },
   "outputs": [
    {
     "data": {
      "text/plain": [
       "16    0.067125\n",
       "11    0.066150\n",
       "14    0.066059\n",
       "13    0.065546\n",
       "15    0.064903\n",
       "21    0.062519\n",
       "20    0.062278\n",
       "10    0.062117\n",
       "17    0.061846\n",
       "12    0.060287\n",
       "19    0.060156\n",
       "22    0.058487\n",
       "18    0.058014\n",
       "9     0.048119\n",
       "23    0.041462\n",
       "8     0.029837\n",
       "0     0.024075\n",
       "7     0.012379\n",
       "1     0.011766\n",
       "2     0.005129\n",
       "6     0.005048\n",
       "3     0.002735\n",
       "4     0.002072\n",
       "5     0.001891\n",
       "Name: order_purchase_timestamp, dtype: float64"
      ]
     },
     "execution_count": 24,
     "metadata": {},
     "output_type": "execute_result"
    }
   ],
   "source": [
    "olist_orders.order_purchase_timestamp.dt.hour.value_counts(normalize=True)"
   ]
  },
  {
   "cell_type": "code",
   "execution_count": 25,
   "id": "24ef122f-8903-4a0e-94f9-f859a65b9546",
   "metadata": {
    "tags": []
   },
   "outputs": [],
   "source": [
    "x1=olist_orders.order_purchase_timestamp.dt.hour.value_counts(normalize=True).sort_index()"
   ]
  },
  {
   "cell_type": "code",
   "execution_count": 26,
   "id": "01be8ff8-f5da-43a2-b1b3-f361c6803abe",
   "metadata": {
    "tags": []
   },
   "outputs": [
    {
     "data": {
      "text/plain": [
       "<AxesSubplot: ylabel='order_purchase_timestamp'>"
      ]
     },
     "execution_count": 26,
     "metadata": {},
     "output_type": "execute_result"
    },
    {
     "data": {
      "image/png": "[encoded data removed]",
      "text/plain": [
       "<Figure size 640x480 with 1 Axes>"
      ]
     },
     "metadata": {},
     "output_type": "display_data"
    }
   ],
   "source": [
    "sn.lineplot(y=x1,x=range(len(x1)),marker='*', markerfacecolor='limegreen', markersize=20)"
   ]
  },
  {
   "cell_type": "code",
   "execution_count": 27,
   "id": "0757aa96-7689-4f62-a0a4-80df7d50c439",
   "metadata": {
    "tags": []
   },
   "outputs": [],
   "source": [
    "## to count the recorde's  existense"
   ]
  },
  {
   "cell_type": "code",
   "execution_count": 28,
   "id": "a248ff5d-94bd-4d83-a262-7ce82c8c4b28",
   "metadata": {
    "tags": []
   },
   "outputs": [
    {
     "data": {
      "text/plain": [
       "1801    2018-09-20 13:54:16\n",
       "5149    2018-09-13 09:56:12\n",
       "9976    2018-09-11 16:45:54\n",
       "16366   2018-09-17 17:21:16\n",
       "20778   2018-09-06 14:50:07\n",
       "24410   2018-09-03 18:40:50\n",
       "31170   2018-09-10 17:51:25\n",
       "31891   2018-10-03 18:55:29\n",
       "33979   2018-09-25 11:59:18\n",
       "37003   2018-09-26 08:40:15\n",
       "39919   2018-09-03 14:14:25\n",
       "50387   2018-09-29 09:13:03\n",
       "53501   2018-09-06 10:48:12\n",
       "60938   2018-10-17 17:30:18\n",
       "62360   2018-09-03 09:06:57\n",
       "68373   2018-10-16 20:16:02\n",
       "73341   2018-09-03 18:45:34\n",
       "80019   2018-09-12 15:32:16\n",
       "88500   2018-10-01 15:30:09\n",
       "99347   2018-09-06 18:45:47\n",
       "Name: order_purchase_timestamp, dtype: datetime64[ns]"
      ]
     },
     "execution_count": 28,
     "metadata": {},
     "output_type": "execute_result"
    }
   ],
   "source": [
    "olist_orders.order_purchase_timestamp[(olist_orders.order_purchase_timestamp.dt.year == 2018 ) & (olist_orders.order_purchase_timestamp.dt.month > 8 )]"
   ]
  },
  {
   "cell_type": "code",
   "execution_count": 29,
   "id": "049f8032-4a25-4fca-aad6-2b40f55f997a",
   "metadata": {
    "tags": []
   },
   "outputs": [],
   "source": [
    "f=pd.crosstab(olist_orders.order_purchase_timestamp.dt.month,olist_orders.order_purchase_timestamp.dt.year)"
   ]
  },
  {
   "cell_type": "code",
   "execution_count": 30,
   "id": "68e9e4d4-10fb-4082-9498-b30ac12189fe",
   "metadata": {
    "tags": []
   },
   "outputs": [
    {
     "data": {
      "text/plain": [
       "<AxesSubplot: xlabel='order_purchase_timestamp'>"
      ]
     },
     "execution_count": 30,
     "metadata": {},
     "output_type": "execute_result"
    },
    {
     "data": {
      "image/png": "[encoded data removed]",
      "text/plain": [
       "<Figure size 640x480 with 1 Axes>"
      ]
     },
     "metadata": {},
     "output_type": "display_data"
    }
   ],
   "source": [
    "f.plot()"
   ]
  },
  {
   "cell_type": "code",
   "execution_count": 31,
   "id": "0d7d468c-121a-4c21-a297-4ba501a8a905",
   "metadata": {
    "tags": []
   },
   "outputs": [
    {
     "data": {
      "text/plain": [
       "2018    54011\n",
       "2017    45101\n",
       "2016      329\n",
       "Name: order_purchase_timestamp, dtype: int64"
      ]
     },
     "execution_count": 31,
     "metadata": {},
     "output_type": "execute_result"
    }
   ],
   "source": [
    "olist_orders.order_purchase_timestamp.dt.year.value_counts()"
   ]
  },
  {
   "cell_type": "markdown",
   "id": "00c7006b-67ac-48e4-94cf-947a2878dad0",
   "metadata": {},
   "source": [
    "## mon = 0 , sun =6"
   ]
  },
  {
   "cell_type": "code",
   "execution_count": 89,
   "id": "74c707c1-624b-4794-b48e-55b64eb4b2eb",
   "metadata": {
    "tags": []
   },
   "outputs": [],
   "source": [
    "ff=olist_orders.order_purchase_timestamp.dt.dayofweek+1"
   ]
  },
  {
   "cell_type": "code",
   "execution_count": 90,
   "id": "04251ac1-91be-4b44-b490-4966284d65dc",
   "metadata": {
    "tags": []
   },
   "outputs": [
    {
     "data": {
      "text/plain": [
       "<AxesSubplot: ylabel='order_purchase_timestamp'>"
      ]
     },
     "execution_count": 90,
     "metadata": {},
     "output_type": "execute_result"
    },
    {
     "data": {
      "image/png": "[encoded data removed]",
      "text/plain": [
       "<Figure size 640x480 with 1 Axes>"
      ]
     },
     "metadata": {},
     "output_type": "display_data"
    }
   ],
   "source": [
    "sn.barplot(y=ff.value_counts(),x=ff.value_counts().index)"
   ]
  },
  {
   "cell_type": "code",
   "execution_count": 35,
   "id": "815db5fb-d3f8-40f5-b72e-13373ad223d6",
   "metadata": {
    "tags": []
   },
   "outputs": [],
   "source": [
    "pd.to_datetime(olist_orders.order_purchase_timestamp).dt.tz"
   ]
  },
  {
   "cell_type": "markdown",
   "id": "f9e7561b-43f5-4602-a74c-af8df011f3e6",
   "metadata": {},
   "source": [
    "## Apply the function to the 'DateTime' column to get the quarter # good division "
   ]
  },
  {
   "cell_type": "code",
   "execution_count": 36,
   "id": "f681a41e-3a2c-45aa-b7f2-f4e78b475724",
   "metadata": {
    "tags": []
   },
   "outputs": [],
   "source": [
    "def get_quarter(hour):\n",
    "    if 0 <= hour < 8:\n",
    "        return 1\n",
    "    elif 8 <= hour < 18:\n",
    "        return 2\n",
    "    else: \n",
    "        return 3\n",
    "\n",
    "# Apply the function to the 'DateTime' column to get the quarter\n",
    "dd=pd.to_datetime(olist_orders.order_purchase_timestamp).dt.hour.apply(get_quarter).value_counts()"
   ]
  },
  {
   "cell_type": "code",
   "execution_count": 37,
   "id": "cebfb294-932b-44e9-a814-0fa9b61ef84c",
   "metadata": {
    "tags": []
   },
   "outputs": [
    {
     "data": {
      "text/plain": [
       "2    58868\n",
       "3    34100\n",
       "1     6473\n",
       "Name: order_purchase_timestamp, dtype: int64"
      ]
     },
     "execution_count": 37,
     "metadata": {},
     "output_type": "execute_result"
    }
   ],
   "source": [
    "dd"
   ]
  },
  {
   "cell_type": "code",
   "execution_count": 45,
   "id": "0252712c-ae6c-48e8-b811-9febf3493b42",
   "metadata": {
    "tags": []
   },
   "outputs": [],
   "source": [
    "from scipy.stats import chi2_contingency,chi2,chisquare"
   ]
  },
  {
   "cell_type": "code",
   "execution_count": 47,
   "id": "9adebdfb-5c0e-4900-b775-55907dfc2398",
   "metadata": {
    "tags": []
   },
   "outputs": [
    {
     "data": {
      "text/plain": [
       "(41451.12154946149, 0.0)"
      ]
     },
     "execution_count": 47,
     "metadata": {},
     "output_type": "execute_result"
    }
   ],
   "source": [
    "# dd.values\n",
    "chi2_stat, p_value=chisquare(dd.values)\n",
    "chi2_stat, p_value"
   ]
  },
  {
   "cell_type": "markdown",
   "id": "b82dd75e-bbf3-4e79-b79f-de01f3cf0d59",
   "metadata": {
    "jp-MarkdownHeadingCollapsed": true,
    "tags": []
   },
   "source": [
    "# Extra"
   ]
  },
  {
   "cell_type": "code",
   "execution_count": null,
   "id": "0c9c24e5-6d31-4585-ac94-dffeaa1b25b9",
   "metadata": {},
   "outputs": [],
   "source": []
  },
  {
   "cell_type": "code",
   "execution_count": null,
   "id": "19a34daa-0797-4712-94c5-74a78b758671",
   "metadata": {},
   "outputs": [],
   "source": [
    "df['diff_weeks'] = (df['end_date'] - df['start_date']) / np.timedelta64(1, 'W')"
   ]
  },
  {
   "cell_type": "code",
   "execution_count": null,
   "id": "f8f6445a-bf52-43f1-acb0-f04028e49733",
   "metadata": {},
   "outputs": [],
   "source": [
    "df['diff_months'] = (df['end_date'] - df['start_date']) / np.timedelta64(1, 'M')"
   ]
  },
  {
   "cell_type": "code",
   "execution_count": null,
   "id": "9bf0b351-1a99-48e7-b4f9-90c5013fee98",
   "metadata": {},
   "outputs": [],
   "source": [
    "df['diff_years'] = (df['end_date'] - df['start_date']) / np.timedelta64(1, 'Y')"
   ]
  },
  {
   "cell_type": "code",
   "execution_count": 47,
   "id": "602833b3-778b-4ddd-b329-9a43639855e5",
   "metadata": {
    "tags": []
   },
   "outputs": [],
   "source": [
    "def get_quarter(hour):\n",
    "    if 6 <= hour < 12:\n",
    "        return 2\n",
    "    elif 12 <= hour < 18:\n",
    "        return 3\n",
    "    elif 18 <= hour < 23:\n",
    "        return 4\n",
    "    else: \n",
    "        return 1\n",
    "\n",
    "# Apply the function to the 'DateTime' column to get the quarter\n",
    "dd1=pd.to_datetime(olist_orders.order_purchase_timestamp).dt.hour.apply(get_quarter).value_counts()"
   ]
  },
  {
   "cell_type": "code",
   "execution_count": 46,
   "id": "8bde4a61-644a-410a-b0ac-f3b2e47791ee",
   "metadata": {
    "tags": []
   },
   "outputs": [
    {
     "data": {
      "text/plain": [
       "(41451.12154946149, 0.0)"
      ]
     },
     "execution_count": 46,
     "metadata": {},
     "output_type": "execute_result"
    }
   ],
   "source": [
    "chi2_stat, p_value=chisquare(dd)\n",
    "chi2_stat, p_value"
   ]
  },
  {
   "cell_type": "code",
   "execution_count": 48,
   "id": "ab8ec7c5-1635-4739-a8a6-d8e7738a515b",
   "metadata": {
    "tags": []
   },
   "outputs": [
    {
     "data": {
      "text/plain": [
       "(18955.123088062268, 0.0)"
      ]
     },
     "execution_count": 48,
     "metadata": {},
     "output_type": "execute_result"
    }
   ],
   "source": [
    "chi2_stat, p_value=chisquare(dd1)\n",
    "chi2_stat, p_value"
   ]
  },
  {
   "cell_type": "code",
   "execution_count": 45,
   "id": "6b0376bc-729c-4dc0-b2ee-1382094f29e4",
   "metadata": {
    "tags": []
   },
   "outputs": [],
   "source": [
    "from scipy.stats import chi2_contingency,chi2,chisquare\n",
    "\n",
    "# Sample data: observed frequencies in different categories\n",
    "observed_frequencies = np.array([30, 20, 15, 35])\n",
    "\n",
    "# Expected frequencies (you can provide your expected values or use a theoretical distribution)\n",
    "expected_frequencies = np.array([25, 25, 25, 25])\n",
    "\n",
    "# Perform chi-squared test\n",
    "chi2_stat, p_value, dof, expected = chi2_contingency([observed_frequencies])\n"
   ]
  },
  {
   "cell_type": "code",
   "execution_count": null,
   "id": "4c625c4f-70a4-436b-83d7-84bef358b4e4",
   "metadata": {
    "tags": []
   },
   "outputs": [
    {
     "data": {
      "text/plain": [
       "'-23.54562128115268-46.63929204800168'"
      ]
     },
     "execution_count": 24,
     "metadata": {},
     "output_type": "execute_result"
    }
   ],
   "source": [
    "olist_geolocation.lon_lat[0]"
   ]
  },
  {
   "cell_type": "code",
   "execution_count": null,
   "id": "a5bef5fc-3fbc-40a7-8a34-19ce16428695",
   "metadata": {
    "tags": []
   },
   "outputs": [
    {
     "name": "stdout",
     "output_type": "stream",
     "text": [
      "   Longitude  Latitude   LocationID\n",
      "0      12.34     34.56  12.34_34.56\n",
      "1      56.78     78.90   56.78_78.9\n",
      "2      90.12     12.34  90.12_12.34\n"
     ]
    }
   ],
   "source": [
    "import pandas as pd\n",
    "\n",
    "# Sample DataFrame with longitude and latitude columns\n",
    "data = {'Longitude': [12.34, 56.78, 90.12],\n",
    "        'Latitude': [34.56, 78.90, 12.34]}\n",
    "df = pd.DataFrame(data)\n",
    "\n",
    "# Create a new column 'LocationID' by concatenating Longitude and Latitude\n",
    "df['LocationID'] = df['Longitude'].astype(str) + '_' + df['Latitude'].astype(str)\n",
    "\n",
    "# Display the DataFrame with the new 'LocationID' column\n",
    "print(df)"
   ]
  },
  {
   "cell_type": "markdown",
   "id": "e95b82e1-7c9c-40a7-98d6-ce02aaf3dd19",
   "metadata": {},
   "source": [
    "# next"
   ]
  },
  {
   "cell_type": "code",
   "execution_count": null,
   "id": "6788b7a0-1a39-4f26-b093-be9ec4be44eb",
   "metadata": {},
   "outputs": [],
   "source": []
  },
  {
   "cell_type": "markdown",
   "id": "6869ff09-ef91-4d5c-ba13-11944d2485bf",
   "metadata": {},
   "source": [
    "# olist_order_items ----------------------------------------------------"
   ]
  },
  {
   "cell_type": "code",
   "execution_count": 39,
   "id": "e6de5d47-b422-4084-8e4c-206f3001ffdf",
   "metadata": {
    "tags": []
   },
   "outputs": [],
   "source": [
    "for i,c in enumerate(olist_order_items.columns):\n",
    "    if i == 4:\n",
    "        olist_order_items[c]=pd.to_datetime(olist_order_items[c])"
   ]
  },
  {
   "cell_type": "code",
   "execution_count": 40,
   "id": "57a6cd1e-cb3f-4ba0-894f-a45e9b9fb095",
   "metadata": {
    "tags": []
   },
   "outputs": [
    {
     "name": "stdout",
     "output_type": "stream",
     "text": [
      "<class 'pandas.core.frame.DataFrame'>\n",
      "RangeIndex: 112650 entries, 0 to 112649\n",
      "Data columns (total 7 columns):\n",
      " #   Column               Dtype         \n",
      "---  ------               -----         \n",
      " 0   order_id             object        \n",
      " 1   order_item_id        int64         \n",
      " 2   product_id           object        \n",
      " 3   seller_id            object        \n",
      " 4   shipping_limit_date  datetime64[ns]\n",
      " 5   price                float64       \n",
      " 6   freight_value        float64       \n",
      "dtypes: datetime64[ns](1), float64(2), int64(1), object(3)\n",
      "memory usage: 6.0+ MB\n"
     ]
    }
   ],
   "source": [
    "olist_order_items.info(verbose=True,show_counts=False)"
   ]
  },
  {
   "cell_type": "code",
   "execution_count": 41,
   "id": "b9340624-444a-4c06-97a3-38268d20accd",
   "metadata": {
    "tags": []
   },
   "outputs": [
    {
     "data": {
      "text/plain": [
       "order_id               0\n",
       "order_item_id          0\n",
       "product_id             0\n",
       "seller_id              0\n",
       "shipping_limit_date    0\n",
       "price                  0\n",
       "freight_value          0\n",
       "dtype: int64"
      ]
     },
     "execution_count": 41,
     "metadata": {},
     "output_type": "execute_result"
    }
   ],
   "source": [
    "olist_order_items.isna().sum()"
   ]
  },
  {
   "cell_type": "code",
   "execution_count": 42,
   "id": "eb934ee4-fbec-4215-8093-030c7aedbfd9",
   "metadata": {
    "tags": []
   },
   "outputs": [
    {
     "data": {
      "text/plain": [
       "order_id               98666\n",
       "order_item_id             21\n",
       "product_id             32951\n",
       "seller_id               3095\n",
       "shipping_limit_date    93318\n",
       "price                   5968\n",
       "freight_value           6999\n",
       "dtype: int64"
      ]
     },
     "execution_count": 42,
     "metadata": {},
     "output_type": "execute_result"
    }
   ],
   "source": [
    "olist_order_items.nunique()"
   ]
  },
  {
   "cell_type": "code",
   "execution_count": 43,
   "id": "8ab225c3-a4c3-44aa-a3bf-af635baaed4a",
   "metadata": {
    "tags": []
   },
   "outputs": [
    {
     "data": {
      "text/plain": [
       "(112650, 7)"
      ]
     },
     "execution_count": 43,
     "metadata": {},
     "output_type": "execute_result"
    }
   ],
   "source": [
    "olist_order_items.shape"
   ]
  },
  {
   "cell_type": "code",
   "execution_count": 44,
   "id": "8987df16-2137-4f67-90e7-6f314fb827a0",
   "metadata": {
    "tags": []
   },
   "outputs": [
    {
     "data": {
      "text/html": [
       "<div>\n",
       "<style scoped>\n",
       "    .dataframe tbody tr th:only-of-type {\n",
       "        vertical-align: middle;\n",
       "    }\n",
       "\n",
       "    .dataframe tbody tr th {\n",
       "        vertical-align: top;\n",
       "    }\n",
       "\n",
       "    .dataframe thead th {\n",
       "        text-align: right;\n",
       "    }\n",
       "</style>\n",
       "<table border=\"1\" class=\"dataframe\">\n",
       "  <thead>\n",
       "    <tr style=\"text-align: right;\">\n",
       "      <th></th>\n",
       "      <th>order_id</th>\n",
       "      <th>order_item_id</th>\n",
       "      <th>product_id</th>\n",
       "      <th>seller_id</th>\n",
       "      <th>shipping_limit_date</th>\n",
       "      <th>price</th>\n",
       "      <th>freight_value</th>\n",
       "    </tr>\n",
       "  </thead>\n",
       "  <tbody>\n",
       "    <tr>\n",
       "      <th>0</th>\n",
       "      <td>00010242fe8c5a6d1ba2dd792cb16214</td>\n",
       "      <td>1</td>\n",
       "      <td>4244733e06e7ecb4970a6e2683c13e61</td>\n",
       "      <td>48436dade18ac8b2bce089ec2a041202</td>\n",
       "      <td>2017-09-19 09:45:35</td>\n",
       "      <td>58.90</td>\n",
       "      <td>13.29</td>\n",
       "    </tr>\n",
       "    <tr>\n",
       "      <th>1</th>\n",
       "      <td>00018f77f2f0320c557190d7a144bdd3</td>\n",
       "      <td>1</td>\n",
       "      <td>e5f2d52b802189ee658865ca93d83a8f</td>\n",
       "      <td>dd7ddc04e1b6c2c614352b383efe2d36</td>\n",
       "      <td>2017-05-03 11:05:13</td>\n",
       "      <td>239.90</td>\n",
       "      <td>19.93</td>\n",
       "    </tr>\n",
       "    <tr>\n",
       "      <th>2</th>\n",
       "      <td>000229ec398224ef6ca0657da4fc703e</td>\n",
       "      <td>1</td>\n",
       "      <td>c777355d18b72b67abbeef9df44fd0fd</td>\n",
       "      <td>5b51032eddd242adc84c38acab88f23d</td>\n",
       "      <td>2018-01-18 14:48:30</td>\n",
       "      <td>199.00</td>\n",
       "      <td>17.87</td>\n",
       "    </tr>\n",
       "    <tr>\n",
       "      <th>3</th>\n",
       "      <td>00024acbcdf0a6daa1e931b038114c75</td>\n",
       "      <td>1</td>\n",
       "      <td>7634da152a4610f1595efa32f14722fc</td>\n",
       "      <td>9d7a1d34a5052409006425275ba1c2b4</td>\n",
       "      <td>2018-08-15 10:10:18</td>\n",
       "      <td>12.99</td>\n",
       "      <td>12.79</td>\n",
       "    </tr>\n",
       "    <tr>\n",
       "      <th>4</th>\n",
       "      <td>00042b26cf59d7ce69dfabb4e55b4fd9</td>\n",
       "      <td>1</td>\n",
       "      <td>ac6c3623068f30de03045865e4e10089</td>\n",
       "      <td>df560393f3a51e74553ab94004ba5c87</td>\n",
       "      <td>2017-02-13 13:57:51</td>\n",
       "      <td>199.90</td>\n",
       "      <td>18.14</td>\n",
       "    </tr>\n",
       "    <tr>\n",
       "      <th>5</th>\n",
       "      <td>00048cc3ae777c65dbb7d2a0634bc1ea</td>\n",
       "      <td>1</td>\n",
       "      <td>ef92defde845ab8450f9d70c526ef70f</td>\n",
       "      <td>6426d21aca402a131fc0a5d0960a3c90</td>\n",
       "      <td>2017-05-23 03:55:27</td>\n",
       "      <td>21.90</td>\n",
       "      <td>12.69</td>\n",
       "    </tr>\n",
       "    <tr>\n",
       "      <th>6</th>\n",
       "      <td>00054e8431b9d7675808bcb819fb4a32</td>\n",
       "      <td>1</td>\n",
       "      <td>8d4f2bb7e93e6710a28f34fa83ee7d28</td>\n",
       "      <td>7040e82f899a04d1b434b795a43b4617</td>\n",
       "      <td>2017-12-14 12:10:31</td>\n",
       "      <td>19.90</td>\n",
       "      <td>11.85</td>\n",
       "    </tr>\n",
       "    <tr>\n",
       "      <th>7</th>\n",
       "      <td>000576fe39319847cbb9d288c5617fa6</td>\n",
       "      <td>1</td>\n",
       "      <td>557d850972a7d6f792fd18ae1400d9b6</td>\n",
       "      <td>5996cddab893a4652a15592fb58ab8db</td>\n",
       "      <td>2018-07-10 12:30:45</td>\n",
       "      <td>810.00</td>\n",
       "      <td>70.75</td>\n",
       "    </tr>\n",
       "    <tr>\n",
       "      <th>8</th>\n",
       "      <td>0005a1a1728c9d785b8e2b08b904576c</td>\n",
       "      <td>1</td>\n",
       "      <td>310ae3c140ff94b03219ad0adc3c778f</td>\n",
       "      <td>a416b6a846a11724393025641d4edd5e</td>\n",
       "      <td>2018-03-26 18:31:29</td>\n",
       "      <td>145.95</td>\n",
       "      <td>11.65</td>\n",
       "    </tr>\n",
       "    <tr>\n",
       "      <th>9</th>\n",
       "      <td>0005f50442cb953dcd1d21e1fb923495</td>\n",
       "      <td>1</td>\n",
       "      <td>4535b0e1091c278dfd193e5a1d63b39f</td>\n",
       "      <td>ba143b05f0110f0dc71ad71b4466ce92</td>\n",
       "      <td>2018-07-06 14:10:56</td>\n",
       "      <td>53.99</td>\n",
       "      <td>11.40</td>\n",
       "    </tr>\n",
       "  </tbody>\n",
       "</table>\n",
       "</div>"
      ],
      "text/plain": [
       "                           order_id  order_item_id  \\\n",
       "0  00010242fe8c5a6d1ba2dd792cb16214              1   \n",
       "1  00018f77f2f0320c557190d7a144bdd3              1   \n",
       "2  000229ec398224ef6ca0657da4fc703e              1   \n",
       "3  00024acbcdf0a6daa1e931b038114c75              1   \n",
       "4  00042b26cf59d7ce69dfabb4e55b4fd9              1   \n",
       "5  00048cc3ae777c65dbb7d2a0634bc1ea              1   \n",
       "6  00054e8431b9d7675808bcb819fb4a32              1   \n",
       "7  000576fe39319847cbb9d288c5617fa6              1   \n",
       "8  0005a1a1728c9d785b8e2b08b904576c              1   \n",
       "9  0005f50442cb953dcd1d21e1fb923495              1   \n",
       "\n",
       "                         product_id                         seller_id  \\\n",
       "0  4244733e06e7ecb4970a6e2683c13e61  48436dade18ac8b2bce089ec2a041202   \n",
       "1  e5f2d52b802189ee658865ca93d83a8f  dd7ddc04e1b6c2c614352b383efe2d36   \n",
       "2  c777355d18b72b67abbeef9df44fd0fd  5b51032eddd242adc84c38acab88f23d   \n",
       "3  7634da152a4610f1595efa32f14722fc  9d7a1d34a5052409006425275ba1c2b4   \n",
       "4  ac6c3623068f30de03045865e4e10089  df560393f3a51e74553ab94004ba5c87   \n",
       "5  ef92defde845ab8450f9d70c526ef70f  6426d21aca402a131fc0a5d0960a3c90   \n",
       "6  8d4f2bb7e93e6710a28f34fa83ee7d28  7040e82f899a04d1b434b795a43b4617   \n",
       "7  557d850972a7d6f792fd18ae1400d9b6  5996cddab893a4652a15592fb58ab8db   \n",
       "8  310ae3c140ff94b03219ad0adc3c778f  a416b6a846a11724393025641d4edd5e   \n",
       "9  4535b0e1091c278dfd193e5a1d63b39f  ba143b05f0110f0dc71ad71b4466ce92   \n",
       "\n",
       "  shipping_limit_date   price  freight_value  \n",
       "0 2017-09-19 09:45:35   58.90          13.29  \n",
       "1 2017-05-03 11:05:13  239.90          19.93  \n",
       "2 2018-01-18 14:48:30  199.00          17.87  \n",
       "3 2018-08-15 10:10:18   12.99          12.79  \n",
       "4 2017-02-13 13:57:51  199.90          18.14  \n",
       "5 2017-05-23 03:55:27   21.90          12.69  \n",
       "6 2017-12-14 12:10:31   19.90          11.85  \n",
       "7 2018-07-10 12:30:45  810.00          70.75  \n",
       "8 2018-03-26 18:31:29  145.95          11.65  \n",
       "9 2018-07-06 14:10:56   53.99          11.40  "
      ]
     },
     "execution_count": 44,
     "metadata": {},
     "output_type": "execute_result"
    }
   ],
   "source": [
    "olist_order_items.head(10) # faster then iloc"
   ]
  },
  {
   "cell_type": "code",
   "execution_count": null,
   "id": "dc991e59-68e4-491a-a777-0555e24615a2",
   "metadata": {},
   "outputs": [],
   "source": []
  }
 ],
 "metadata": {
  "kernelspec": {
   "display_name": "Python 3 (ipykernel)",
   "language": "python",
   "name": "python3"
  },
  "language_info": {
   "codemirror_mode": {
    "name": "ipython",
    "version": 3
   },
   "file_extension": ".py",
   "mimetype": "text/x-python",
   "name": "python",
   "nbconvert_exporter": "python",
   "pygments_lexer": "ipython3",
   "version": "3.10.12"
  }
 },
 "nbformat": 4,
 "nbformat_minor": 5
}
